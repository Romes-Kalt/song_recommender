{
 "cells": [
  {
   "cell_type": "code",
   "execution_count": 1,
   "id": "28644ac5",
   "metadata": {},
   "outputs": [],
   "source": [
    "import pandas as pd\n",
    "import random"
   ]
  },
  {
   "cell_type": "code",
   "execution_count": 2,
   "id": "4ddb7edc",
   "metadata": {},
   "outputs": [],
   "source": [
    "def load_songs(fp:[str]=None):\n",
    "    if not fp:\n",
    "        print(\"No filepath provided\")\n",
    "        return None\n",
    "    try:\n",
    "        return pd.read_csv(fp, sep=\";\", error_bad_lines=False)\n",
    "    except FileNotFoundError:\n",
    "        print(\"File not found.\")\n",
    "        return None    "
   ]
  },
  {
   "cell_type": "code",
   "execution_count": 3,
   "id": "b3e78e25",
   "metadata": {},
   "outputs": [],
   "source": [
    "def user_input_get_features(this_df):\n",
    "    audio_feat = ['danceability', 'energy', 'key', 'loudness', 'speechiness', 'acousticness', 'instrumentalness',\n",
    "                  'liveness', 'valence', 'tempo', 'time_signature']\n",
    "    user_input = input(\"What song are you looking for? \")\n",
    "    song_hits = list(this_df[this_df[\"name\"].str.lower() == user_input.lower()][\"artist\"])\n",
    "    if song_hits:\n",
    "        if len(song_hits) == 1:\n",
    "            numpy_lst = []\n",
    "            for a_f in audio_feat:\n",
    "                numpy_lst.append(float(this_df[this_df[\"name\"].str.lower() == user_input.lower()][a_f]))\n",
    "            return np.array(numpy_lst).reshape(1, -1)\n",
    "        else:\n",
    "            print(f'Following artists found for \"{user_input}\":\\n ')\n",
    "            c = 0\n",
    "            for a in song_hits:\n",
    "                c += 1\n",
    "                print(f\" + {c}: {a}\")\n",
    "            user_choice = 241\n",
    "            while 0 > int(user_choice) or int(user_choice) > len(song_hits) + 1:\n",
    "                user_choice = input(f\"Please specify your entry (1 to {len(song_hits)}): \")\n",
    "                if user_choice.isnumeric() == False:\n",
    "                    print(\"please check entry.\")\n",
    "                    user_choice = len(song_hits) + 2\n",
    "                if 0 > int(user_choice) > len(song_hits) + 1:\n",
    "                    print(\"please check entry.\")\n",
    "            this_df_index = list(this_df[this_df[\"name\"].str.lower() == user_input.lower()].index)[int(user_choice) - 1]\n",
    "            # print(this_df.iloc[this_dfindex][\"danceability\"])\n",
    "            numpy_lst = []\n",
    "            for a_f in audio_feat:\n",
    "                numpy_lst.append(float(this_df.iloc[this_df_index][a_f]))\n",
    "            return np.array(numpy_lst).reshape(1, -1)\n"
   ]
  },
  {
   "cell_type": "code",
   "execution_count": 4,
   "id": "b5c566a2",
   "metadata": {},
   "outputs": [
    {
     "name": "stderr",
     "output_type": "stream",
     "text": [
      "C:\\Users\\roman\\AppData\\Local\\Temp/ipykernel_17076/3435896277.py:2: FutureWarning: The error_bad_lines argument has been deprecated and will be removed in a future version.\n",
      "\n",
      "\n",
      "  df = load_songs(fp_used)\n",
      "b'Skipping line 3335: expected 20 fields, saw 21\\nSkipping line 3336: expected 20 fields, saw 21\\nSkipping line 3343: expected 20 fields, saw 21\\nSkipping line 3345: expected 20 fields, saw 21\\nSkipping line 3350: expected 20 fields, saw 21\\nSkipping line 4630: expected 20 fields, saw 22\\nSkipping line 4632: expected 20 fields, saw 22\\nSkipping line 4634: expected 20 fields, saw 22\\nSkipping line 4643: expected 20 fields, saw 22\\nSkipping line 4644: expected 20 fields, saw 22\\nSkipping line 4645: expected 20 fields, saw 22\\nSkipping line 4646: expected 20 fields, saw 22\\nSkipping line 4647: expected 20 fields, saw 22\\nSkipping line 4650: expected 20 fields, saw 22\\nSkipping line 4651: expected 20 fields, saw 22\\nSkipping line 4655: expected 20 fields, saw 22\\nSkipping line 4657: expected 20 fields, saw 22\\nSkipping line 4658: expected 20 fields, saw 22\\nSkipping line 4659: expected 20 fields, saw 22\\nSkipping line 4660: expected 20 fields, saw 22\\nSkipping line 4661: expected 20 fields, saw 22\\nSkipping line 6071: expected 20 fields, saw 21\\nSkipping line 14341: expected 20 fields, saw 21\\nSkipping line 14343: expected 20 fields, saw 21\\nSkipping line 14345: expected 20 fields, saw 21\\nSkipping line 14347: expected 20 fields, saw 21\\nSkipping line 14349: expected 20 fields, saw 21\\nSkipping line 14351: expected 20 fields, saw 21\\nSkipping line 14353: expected 20 fields, saw 21\\nSkipping line 14355: expected 20 fields, saw 21\\nSkipping line 14357: expected 20 fields, saw 21\\nSkipping line 14359: expected 20 fields, saw 21\\nSkipping line 14361: expected 20 fields, saw 21\\nSkipping line 14363: expected 20 fields, saw 21\\nSkipping line 14365: expected 20 fields, saw 21\\nSkipping line 14367: expected 20 fields, saw 21\\nSkipping line 14369: expected 20 fields, saw 21\\nSkipping line 14371: expected 20 fields, saw 21\\nSkipping line 14373: expected 20 fields, saw 21\\nSkipping line 14375: expected 20 fields, saw 21\\nSkipping line 14377: expected 20 fields, saw 21\\nSkipping line 14380: expected 20 fields, saw 21\\nSkipping line 14384: expected 20 fields, saw 21\\nSkipping line 14386: expected 20 fields, saw 21\\nSkipping line 14388: expected 20 fields, saw 21\\nSkipping line 15692: expected 20 fields, saw 21\\nSkipping line 15693: expected 20 fields, saw 21\\nSkipping line 15694: expected 20 fields, saw 21\\nSkipping line 16908: expected 20 fields, saw 21\\nSkipping line 20449: expected 20 fields, saw 21\\n'\n"
     ]
    }
   ],
   "source": [
    "fp_used = \"./data/song_db.csv\"\n",
    "df = load_songs(fp_used)"
   ]
  },
  {
   "cell_type": "code",
   "execution_count": 5,
   "id": "c9408f4b",
   "metadata": {},
   "outputs": [
    {
     "name": "stdout",
     "output_type": "stream",
     "text": [
      "What song are you looking for? blood\n",
      "Following artists found for \"blood\":\n",
      " \n",
      " + 1: BAD CHILD\n",
      " + 2: Babes In Toyland \n",
      " + 3: Band Of Skulls\n",
      " + 4: Breaking Benjamin\n",
      " + 5: City and Colour\n",
      "Please specify your entry (1 to 5): 1\n",
      "(1, 11)\n"
     ]
    }
   ],
   "source": []
  },
  {
   "cell_type": "code",
   "execution_count": null,
   "id": "7d3dc5dc",
   "metadata": {},
   "outputs": [],
   "source": []
  }
 ],
 "metadata": {
  "kernelspec": {
   "display_name": "Python 3 (ipykernel)",
   "language": "python",
   "name": "python3"
  },
  "language_info": {
   "codemirror_mode": {
    "name": "ipython",
    "version": 3
   },
   "file_extension": ".py",
   "mimetype": "text/x-python",
   "name": "python",
   "nbconvert_exporter": "python",
   "pygments_lexer": "ipython3",
   "version": "3.9.7"
  },
  "toc": {
   "base_numbering": 1,
   "nav_menu": {},
   "number_sections": true,
   "sideBar": true,
   "skip_h1_title": false,
   "title_cell": "Table of Contents",
   "title_sidebar": "Contents",
   "toc_cell": false,
   "toc_position": {},
   "toc_section_display": true,
   "toc_window_display": false
  },
  "varInspector": {
   "cols": {
    "lenName": 16,
    "lenType": 16,
    "lenVar": 40
   },
   "kernels_config": {
    "python": {
     "delete_cmd_postfix": "",
     "delete_cmd_prefix": "del ",
     "library": "var_list.py",
     "varRefreshCmd": "print(var_dic_list())"
    },
    "r": {
     "delete_cmd_postfix": ") ",
     "delete_cmd_prefix": "rm(",
     "library": "var_list.r",
     "varRefreshCmd": "cat(var_dic_list()) "
    }
   },
   "types_to_exclude": [
    "module",
    "function",
    "builtin_function_or_method",
    "instance",
    "_Feature"
   ],
   "window_display": false
  }
 },
 "nbformat": 4,
 "nbformat_minor": 5
}
