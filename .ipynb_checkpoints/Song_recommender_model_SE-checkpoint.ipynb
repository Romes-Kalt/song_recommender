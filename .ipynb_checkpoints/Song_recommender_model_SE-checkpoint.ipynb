{
 "cells": [
  {
   "cell_type": "markdown",
   "id": "c6a1cce0",
   "metadata": {},
   "source": [
    "# Song recommender model\n",
    "\n",
    "With kmeans clustering."
   ]
  },
  {
   "cell_type": "markdown",
   "id": "fa273813",
   "metadata": {},
   "source": [
    "## Import libraries"
   ]
  },
  {
   "cell_type": "code",
   "execution_count": 6,
   "id": "familiar-drove",
   "metadata": {},
   "outputs": [],
   "source": [
    "import spotipy \n",
    "import pandas as pd \n",
    "from spotipy.oauth2 import SpotifyClientCredentials\n",
    "import os\n",
    "import numpy as np\n",
    "import getpass\n",
    "\n",
    "import numpy as np\n",
    "import pandas as pd\n",
    "import pickle\n",
    "from sklearn import datasets\n",
    "from sklearn.preprocessing import StandardScaler\n",
    "from sklearn.cluster import KMeans\n",
    "from matplotlib import pyplot\n",
    "from sklearn.metrics import silhouette_score"
   ]
  },
  {
   "cell_type": "markdown",
   "id": "af9f8855",
   "metadata": {},
   "source": [
    "## Functions"
   ]
  },
  {
   "cell_type": "code",
   "execution_count": 2,
   "id": "c445031d",
   "metadata": {},
   "outputs": [],
   "source": [
    "def user_input_get_features():\n",
    "    audio_feat = ['danceability', 'energy', 'key', 'loudness', 'speechiness', 'acousticness', 'instrumentalness',\n",
    "                  'liveness', 'valence', 'tempo', 'time_signature']\n",
    "    user_input = input(\"What song are you looking for? \")\n",
    "    song_hits = list(song_df[song_df[\"name\"].str.lower()==user_input.lower()][\"artist\"])\n",
    "    if song_hits:\n",
    "        if len(song_hits) == 1:\n",
    "            numpy_lst = []\n",
    "            for a_f in audio_feat:\n",
    "                numpy_lst.append(float(song_df[song_df[\"name\"].str.lower()==user_input.lower()][a_f]))\n",
    "            return np.array(numpy_lst).reshape(1,-1)\n",
    "        else:\n",
    "            print(f'Following artists found for \"{user_input}\":\\n ')\n",
    "            c = 0\n",
    "            for a in song_hits:\n",
    "                c += 1\n",
    "                print(f\" + {c}: {a}\")\n",
    "            user_choice = 241\n",
    "            while 0 > int(user_choice) or int(user_choice) > len(song_hits)+1:\n",
    "                user_choice = input(f\"Please specify your entry (1 to {len(song_hits)}): \")\n",
    "                if user_choice.isnumeric() == False:\n",
    "                    print(\"please check entry.\")\n",
    "                    user_choice = len(song_hits)+2\n",
    "                if 0 > int(user_choice) > len(song_hits)+1:\n",
    "                    print(\"please check entry.\")\n",
    "            song_df_index = list(song_df[song_df[\"name\"].str.lower()==user_input.lower()].index)[int(user_choice)-1]\n",
    "            # print(df_.iloc[df_index][\"danceability\"])\n",
    "            numpy_lst = []\n",
    "            for a_f in audio_feat:\n",
    "                numpy_lst.append(float(song_df.iloc[song_df_index][a_f]))\n",
    "            return np.array(numpy_lst).reshape(1,-1)\n",
    "    return None"
   ]
  },
  {
   "cell_type": "code",
   "execution_count": 3,
   "id": "bc6e7786",
   "metadata": {},
   "outputs": [],
   "source": [
    "def load_songs(fp:[str]=None):\n",
    "    if not fp:\n",
    "        print(\"No filepath provided\")\n",
    "        return None\n",
    "    try:\n",
    "        return pd.read_csv(fp, sep=\";\", error_bad_lines=False)\n",
    "    except FileNotFoundError:\n",
    "        print(\"File not found.\")\n",
    "        return None"
   ]
  },
  {
   "cell_type": "code",
   "execution_count": 4,
   "id": "b359580a",
   "metadata": {},
   "outputs": [],
   "source": [
    "def get_random_song_cluster(song):\n",
    "    x=sp.search(song, limit=1)\n",
    "    song_info=sp.audio_features([x[\"tracks\"][\"items\"][0][\"id\"]])\n",
    "    #remove features not used in the model\n",
    "    remove_list = ['mode', 'duration_ms', 'id', 'type', 'uri', 'track_href', 'analysis_url'] \n",
    "    [song_info[0].pop(key) for key in remove_list]\n",
    "    song_list=list(song_info[0].values())\n",
    "    #get song_array\n",
    "    song_array = np.array(song_list).reshape(1, -1)\n",
    "    #get song_array scaled \n",
    "    scaled_song = scaler.transform(song_array)\n",
    "    #predict cluster\n",
    "    cluster_pred = kmeans.predict(scaled_song)[0]\n",
    "    #get a random song from the same cluster\n",
    "    index_song = X[X['cluster']==cluster_pred].sample().index[0]\n",
    "    #get the id of random song\n",
    "    id_song = song_df.iloc[index_song]['id']\n",
    "    \n",
    "    return print(sp.track(id_song)[\"name\"], \" by \", sp.track(id_song)[\"artists\"][0][\"name\"])"
   ]
  },
  {
   "cell_type": "markdown",
   "id": "d7325581",
   "metadata": {},
   "source": [
    "## Setup Spotify connection"
   ]
  },
  {
   "cell_type": "code",
   "execution_count": 7,
   "id": "4842691b",
   "metadata": {},
   "outputs": [
    {
     "name": "stdout",
     "output_type": "stream",
     "text": [
      "client_id:········\n",
      "client_secret:········\n"
     ]
    }
   ],
   "source": [
    "client_id = getpass.getpass('client_id:')\n",
    "client_secret = getpass.getpass('client_secret:')"
   ]
  },
  {
   "cell_type": "code",
   "execution_count": 13,
   "id": "5465eac5",
   "metadata": {},
   "outputs": [],
   "source": [
    "# connect to the API\n",
    "sp = spotipy.Spotify(auth_manager=SpotifyClientCredentials(client_id=client_id,\n",
    "                                                           client_secret=client_secret), requests_timeout=10, retries=10)"
   ]
  },
  {
   "cell_type": "code",
   "execution_count": 14,
   "id": "ddbe611a",
   "metadata": {},
   "outputs": [
    {
     "name": "stderr",
     "output_type": "stream",
     "text": [
      "/Users/selenaeberwein/opt/anaconda3/envs/DA_Env/lib/python3.9/site-packages/IPython/core/interactiveshell.py:3457: FutureWarning: The error_bad_lines argument has been deprecated and will be removed in a future version.\n",
      "\n",
      "\n",
      "  exec(code_obj, self.user_global_ns, self.user_ns)\n"
     ]
    }
   ],
   "source": [
    "# loading database with all songs\n",
    "song_df = pd.read_csv(\"data/new_song_db.csv\", sep=\";\", error_bad_lines=False)"
   ]
  },
  {
   "cell_type": "markdown",
   "id": "c33251b5",
   "metadata": {},
   "source": [
    "## Clustering"
   ]
  },
  {
   "cell_type": "markdown",
   "id": "b0286136",
   "metadata": {},
   "source": [
    "Legend of the spotify API features:\n",
    "\n",
    "- <strong>Danceability</strong>: Danceability describes how suitable a track is for dancing based on a combination of musical elements including tempo, rhythm stability, beat strength, and overall regularity. A value of 0.0 is least danceable and 1.0 is most danceable.\n",
    "- <strong>Acousticness</strong>: A measure from 0.0 to 1.0 of whether the track is acoustic.\n",
    "- Energy: Energy is a measure from 0.0 to 1.0 and represents a perceptual measure of intensity and activity. Typically, energetic tracks feel fast, loud, and noisy.\n",
    "- <strong>Key</strong>:The key the track is in. Integers map to pitches using standard Pitch Class notation . E.g. 0 = C, 1 = C♯/D♭, 2 = D, and so on.\n",
    "- <strong>Instrumentalness</strong>: Predicts whether a track contains no vocals. The closer the instrumentalness value is to 1.0, the greater likelihood the track contains no vocal content.\n",
    "- <strong>Liveness</strong>: Detects the presence of an audience in the recording. Higher liveness values represent an increased probability that the track was performed live.\n",
    "- <strong>Loudness</strong>: The overall loudness of a track in decibels (dB). Loudness values are averaged across the entire track. Values typical range between -60 and 0 db.\n",
    "- <strong>Mode</strong>: Mode indicates the modality (major or minor) of a track, the type of scale from which its melodic content is derived. Major is represented by 1 and minor is 0.\n",
    "- <strong>Speechiness</strong>: Speechiness detects the presence of spoken words in a track. The more exclusively speech-like the recording (e.g. talk show, audio book, poetry), the closer to 1.0 the attribute value.\n",
    "- <strong>Tempo</strong>: The overall estimated tempo of a track in beats per minute (BPM). In musical terminology, tempo is the speed or pace of a given piece and derives directly from the average beat duration.\n",
    "- <strong>Time signature</strong> : An estimated overall time signature of a track. The time signature (meter) is a notational convention to specify how many beats are in each bar (or measure)\n",
    "- <strong>Valence</strong>: A measure from 0.0 to 1.0 describing the musical positiveness conveyed by a track. Tracks with high valence sound more positive (e.g. happy, cheerful, euphoric), while tracks with low valence sound more negative (e.g. sad, depressed, angry).\n",
    "- <strong>Duration_ms </strong>: The duration of the track in milliseconds."
   ]
  },
  {
   "cell_type": "code",
   "execution_count": 15,
   "id": "c2b5897a",
   "metadata": {},
   "outputs": [],
   "source": [
    "# define features\n",
    "X = song_df.drop(['id', 'length','name', 'album','artist','release_date', 'type', 'mode', 'popularity'], axis=1) "
   ]
  },
  {
   "cell_type": "code",
   "execution_count": 16,
   "id": "db61217b",
   "metadata": {},
   "outputs": [
    {
     "data": {
      "text/html": [
       "<div>\n",
       "<style scoped>\n",
       "    .dataframe tbody tr th:only-of-type {\n",
       "        vertical-align: middle;\n",
       "    }\n",
       "\n",
       "    .dataframe tbody tr th {\n",
       "        vertical-align: top;\n",
       "    }\n",
       "\n",
       "    .dataframe thead th {\n",
       "        text-align: right;\n",
       "    }\n",
       "</style>\n",
       "<table border=\"1\" class=\"dataframe\">\n",
       "  <thead>\n",
       "    <tr style=\"text-align: right;\">\n",
       "      <th></th>\n",
       "      <th>danceability</th>\n",
       "      <th>acousticness</th>\n",
       "      <th>energy</th>\n",
       "      <th>instrumentalness</th>\n",
       "      <th>liveness</th>\n",
       "      <th>loudness</th>\n",
       "      <th>speechiness</th>\n",
       "      <th>valence</th>\n",
       "      <th>key</th>\n",
       "      <th>tempo</th>\n",
       "      <th>time_signature</th>\n",
       "    </tr>\n",
       "  </thead>\n",
       "  <tbody>\n",
       "    <tr>\n",
       "      <th>0</th>\n",
       "      <td>0.829</td>\n",
       "      <td>0.0940</td>\n",
       "      <td>0.767</td>\n",
       "      <td>0.0</td>\n",
       "      <td>0.1640</td>\n",
       "      <td>-6.517</td>\n",
       "      <td>0.2820</td>\n",
       "      <td>0.491</td>\n",
       "      <td>0</td>\n",
       "      <td>125.994</td>\n",
       "      <td>4</td>\n",
       "    </tr>\n",
       "    <tr>\n",
       "      <th>1</th>\n",
       "      <td>0.698</td>\n",
       "      <td>0.1740</td>\n",
       "      <td>0.636</td>\n",
       "      <td>0.0</td>\n",
       "      <td>0.1250</td>\n",
       "      <td>-5.844</td>\n",
       "      <td>0.0356</td>\n",
       "      <td>0.313</td>\n",
       "      <td>8</td>\n",
       "      <td>107.257</td>\n",
       "      <td>3</td>\n",
       "    </tr>\n",
       "    <tr>\n",
       "      <th>2</th>\n",
       "      <td>0.827</td>\n",
       "      <td>0.0978</td>\n",
       "      <td>0.738</td>\n",
       "      <td>0.0</td>\n",
       "      <td>0.0257</td>\n",
       "      <td>-6.403</td>\n",
       "      <td>0.2070</td>\n",
       "      <td>0.718</td>\n",
       "      <td>8</td>\n",
       "      <td>137.956</td>\n",
       "      <td>4</td>\n",
       "    </tr>\n",
       "  </tbody>\n",
       "</table>\n",
       "</div>"
      ],
      "text/plain": [
       "   danceability  acousticness  energy  instrumentalness  liveness  loudness  \\\n",
       "0         0.829        0.0940   0.767               0.0    0.1640    -6.517   \n",
       "1         0.698        0.1740   0.636               0.0    0.1250    -5.844   \n",
       "2         0.827        0.0978   0.738               0.0    0.0257    -6.403   \n",
       "\n",
       "   speechiness  valence  key    tempo  time_signature  \n",
       "0       0.2820    0.491    0  125.994               4  \n",
       "1       0.0356    0.313    8  107.257               3  \n",
       "2       0.2070    0.718    8  137.956               4  "
      ]
     },
     "execution_count": 16,
     "metadata": {},
     "output_type": "execute_result"
    }
   ],
   "source": [
    "X.head(3)"
   ]
  },
  {
   "cell_type": "code",
   "execution_count": 17,
   "id": "5c24e87d",
   "metadata": {},
   "outputs": [
    {
     "data": {
      "text/html": [
       "<div>\n",
       "<style scoped>\n",
       "    .dataframe tbody tr th:only-of-type {\n",
       "        vertical-align: middle;\n",
       "    }\n",
       "\n",
       "    .dataframe tbody tr th {\n",
       "        vertical-align: top;\n",
       "    }\n",
       "\n",
       "    .dataframe thead th {\n",
       "        text-align: right;\n",
       "    }\n",
       "</style>\n",
       "<table border=\"1\" class=\"dataframe\">\n",
       "  <thead>\n",
       "    <tr style=\"text-align: right;\">\n",
       "      <th></th>\n",
       "      <th>danceability</th>\n",
       "      <th>acousticness</th>\n",
       "      <th>energy</th>\n",
       "      <th>instrumentalness</th>\n",
       "      <th>liveness</th>\n",
       "      <th>loudness</th>\n",
       "      <th>speechiness</th>\n",
       "      <th>valence</th>\n",
       "      <th>key</th>\n",
       "      <th>tempo</th>\n",
       "      <th>time_signature</th>\n",
       "    </tr>\n",
       "  </thead>\n",
       "  <tbody>\n",
       "    <tr>\n",
       "      <th>0</th>\n",
       "      <td>0.829</td>\n",
       "      <td>0.0940</td>\n",
       "      <td>0.767</td>\n",
       "      <td>0.000000</td>\n",
       "      <td>0.1640</td>\n",
       "      <td>-6.517</td>\n",
       "      <td>0.2820</td>\n",
       "      <td>0.491</td>\n",
       "      <td>0</td>\n",
       "      <td>125.994</td>\n",
       "      <td>4</td>\n",
       "    </tr>\n",
       "    <tr>\n",
       "      <th>1</th>\n",
       "      <td>0.698</td>\n",
       "      <td>0.1740</td>\n",
       "      <td>0.636</td>\n",
       "      <td>0.000000</td>\n",
       "      <td>0.1250</td>\n",
       "      <td>-5.844</td>\n",
       "      <td>0.0356</td>\n",
       "      <td>0.313</td>\n",
       "      <td>8</td>\n",
       "      <td>107.257</td>\n",
       "      <td>3</td>\n",
       "    </tr>\n",
       "    <tr>\n",
       "      <th>2</th>\n",
       "      <td>0.827</td>\n",
       "      <td>0.0978</td>\n",
       "      <td>0.738</td>\n",
       "      <td>0.000000</td>\n",
       "      <td>0.0257</td>\n",
       "      <td>-6.403</td>\n",
       "      <td>0.2070</td>\n",
       "      <td>0.718</td>\n",
       "      <td>8</td>\n",
       "      <td>137.956</td>\n",
       "      <td>4</td>\n",
       "    </tr>\n",
       "    <tr>\n",
       "      <th>3</th>\n",
       "      <td>0.794</td>\n",
       "      <td>0.1630</td>\n",
       "      <td>0.823</td>\n",
       "      <td>0.000026</td>\n",
       "      <td>0.3510</td>\n",
       "      <td>-6.731</td>\n",
       "      <td>0.0591</td>\n",
       "      <td>0.334</td>\n",
       "      <td>11</td>\n",
       "      <td>133.025</td>\n",
       "      <td>4</td>\n",
       "    </tr>\n",
       "    <tr>\n",
       "      <th>4</th>\n",
       "      <td>0.830</td>\n",
       "      <td>0.1950</td>\n",
       "      <td>0.881</td>\n",
       "      <td>0.000000</td>\n",
       "      <td>0.2880</td>\n",
       "      <td>-3.829</td>\n",
       "      <td>0.1280</td>\n",
       "      <td>0.743</td>\n",
       "      <td>5</td>\n",
       "      <td>125.984</td>\n",
       "      <td>4</td>\n",
       "    </tr>\n",
       "  </tbody>\n",
       "</table>\n",
       "</div>"
      ],
      "text/plain": [
       "   danceability  acousticness  energy  instrumentalness  liveness  loudness  \\\n",
       "0         0.829        0.0940   0.767          0.000000    0.1640    -6.517   \n",
       "1         0.698        0.1740   0.636          0.000000    0.1250    -5.844   \n",
       "2         0.827        0.0978   0.738          0.000000    0.0257    -6.403   \n",
       "3         0.794        0.1630   0.823          0.000026    0.3510    -6.731   \n",
       "4         0.830        0.1950   0.881          0.000000    0.2880    -3.829   \n",
       "\n",
       "   speechiness  valence  key    tempo  time_signature  \n",
       "0       0.2820    0.491    0  125.994               4  \n",
       "1       0.0356    0.313    8  107.257               3  \n",
       "2       0.2070    0.718    8  137.956               4  \n",
       "3       0.0591    0.334   11  133.025               4  \n",
       "4       0.1280    0.743    5  125.984               4  "
      ]
     },
     "metadata": {},
     "output_type": "display_data"
    },
    {
     "name": "stdout",
     "output_type": "stream",
     "text": [
      "\n"
     ]
    },
    {
     "data": {
      "text/html": [
       "<div>\n",
       "<style scoped>\n",
       "    .dataframe tbody tr th:only-of-type {\n",
       "        vertical-align: middle;\n",
       "    }\n",
       "\n",
       "    .dataframe tbody tr th {\n",
       "        vertical-align: top;\n",
       "    }\n",
       "\n",
       "    .dataframe thead th {\n",
       "        text-align: right;\n",
       "    }\n",
       "</style>\n",
       "<table border=\"1\" class=\"dataframe\">\n",
       "  <thead>\n",
       "    <tr style=\"text-align: right;\">\n",
       "      <th></th>\n",
       "      <th>danceability</th>\n",
       "      <th>acousticness</th>\n",
       "      <th>energy</th>\n",
       "      <th>instrumentalness</th>\n",
       "      <th>liveness</th>\n",
       "      <th>loudness</th>\n",
       "      <th>speechiness</th>\n",
       "      <th>valence</th>\n",
       "      <th>key</th>\n",
       "      <th>tempo</th>\n",
       "      <th>time_signature</th>\n",
       "    </tr>\n",
       "  </thead>\n",
       "  <tbody>\n",
       "    <tr>\n",
       "      <th>0</th>\n",
       "      <td>1.307161</td>\n",
       "      <td>-0.552940</td>\n",
       "      <td>0.534091</td>\n",
       "      <td>-0.321590</td>\n",
       "      <td>-0.183777</td>\n",
       "      <td>0.197689</td>\n",
       "      <td>1.696701</td>\n",
       "      <td>-0.054873</td>\n",
       "      <td>-1.468042</td>\n",
       "      <td>0.162131</td>\n",
       "      <td>0.179734</td>\n",
       "    </tr>\n",
       "    <tr>\n",
       "      <th>1</th>\n",
       "      <td>0.529140</td>\n",
       "      <td>-0.272437</td>\n",
       "      <td>-0.068506</td>\n",
       "      <td>-0.321590</td>\n",
       "      <td>-0.421407</td>\n",
       "      <td>0.344800</td>\n",
       "      <td>-0.580712</td>\n",
       "      <td>-0.801612</td>\n",
       "      <td>0.751647</td>\n",
       "      <td>-0.478199</td>\n",
       "      <td>-2.680380</td>\n",
       "    </tr>\n",
       "    <tr>\n",
       "      <th>2</th>\n",
       "      <td>1.295283</td>\n",
       "      <td>-0.539616</td>\n",
       "      <td>0.400691</td>\n",
       "      <td>-0.321590</td>\n",
       "      <td>-1.026450</td>\n",
       "      <td>0.222608</td>\n",
       "      <td>1.003495</td>\n",
       "      <td>0.897428</td>\n",
       "      <td>0.751647</td>\n",
       "      <td>0.570929</td>\n",
       "      <td>0.179734</td>\n",
       "    </tr>\n",
       "    <tr>\n",
       "      <th>3</th>\n",
       "      <td>1.099293</td>\n",
       "      <td>-0.311006</td>\n",
       "      <td>0.791689</td>\n",
       "      <td>-0.321466</td>\n",
       "      <td>0.955628</td>\n",
       "      <td>0.150910</td>\n",
       "      <td>-0.363508</td>\n",
       "      <td>-0.713514</td>\n",
       "      <td>1.584031</td>\n",
       "      <td>0.402413</td>\n",
       "      <td>0.179734</td>\n",
       "    </tr>\n",
       "    <tr>\n",
       "      <th>4</th>\n",
       "      <td>1.313100</td>\n",
       "      <td>-0.198804</td>\n",
       "      <td>1.058488</td>\n",
       "      <td>-0.321590</td>\n",
       "      <td>0.571764</td>\n",
       "      <td>0.785258</td>\n",
       "      <td>0.273318</td>\n",
       "      <td>1.002307</td>\n",
       "      <td>-0.080736</td>\n",
       "      <td>0.161790</td>\n",
       "      <td>0.179734</td>\n",
       "    </tr>\n",
       "  </tbody>\n",
       "</table>\n",
       "</div>"
      ],
      "text/plain": [
       "   danceability  acousticness    energy  instrumentalness  liveness  loudness  \\\n",
       "0      1.307161     -0.552940  0.534091         -0.321590 -0.183777  0.197689   \n",
       "1      0.529140     -0.272437 -0.068506         -0.321590 -0.421407  0.344800   \n",
       "2      1.295283     -0.539616  0.400691         -0.321590 -1.026450  0.222608   \n",
       "3      1.099293     -0.311006  0.791689         -0.321466  0.955628  0.150910   \n",
       "4      1.313100     -0.198804  1.058488         -0.321590  0.571764  0.785258   \n",
       "\n",
       "   speechiness   valence       key     tempo  time_signature  \n",
       "0     1.696701 -0.054873 -1.468042  0.162131        0.179734  \n",
       "1    -0.580712 -0.801612  0.751647 -0.478199       -2.680380  \n",
       "2     1.003495  0.897428  0.751647  0.570929        0.179734  \n",
       "3    -0.363508 -0.713514  1.584031  0.402413        0.179734  \n",
       "4     0.273318  1.002307 -0.080736  0.161790        0.179734  "
      ]
     },
     "metadata": {},
     "output_type": "display_data"
    }
   ],
   "source": [
    "## standardize\n",
    "scaler = StandardScaler()\n",
    "scaler.fit(X)\n",
    "X_scaled = scaler.transform(X)\n",
    "X_scaled_df = pd.DataFrame(X_scaled, columns = X.columns)\n",
    "display(X.head())\n",
    "print()\n",
    "display(X_scaled_df.head())"
   ]
  },
  {
   "cell_type": "code",
   "execution_count": 49,
   "id": "dc5e30eb",
   "metadata": {},
   "outputs": [
    {
     "data": {
      "text/plain": [
       "KMeans(n_clusters=14, random_state=1234)"
      ]
     },
     "execution_count": 49,
     "metadata": {},
     "output_type": "execute_result"
    }
   ],
   "source": [
    "# cluster\n",
    "kmeans = KMeans(n_clusters=14, random_state=1234)\n",
    "kmeans.fit(X_scaled_df)"
   ]
  },
  {
   "cell_type": "code",
   "execution_count": 50,
   "id": "32376749",
   "metadata": {},
   "outputs": [
    {
     "data": {
      "image/png": "[encoded data removed]",
      "text/plain": [
       "<Figure size 432x288 with 1 Axes>"
      ]
     },
     "metadata": {
      "needs_background": "light"
     },
     "output_type": "display_data"
    }
   ],
   "source": [
    "# assign a cluster to each example\n",
    "labels = kmeans.predict(X_scaled_df)\n",
    "# retrieve unique clusters\n",
    "clusters = np.unique(labels)\n",
    "# create scatter plot for samples from each cluster\n",
    "for cluster in clusters:\n",
    "    # get row indexes for samples with this cluster\n",
    "    row_ix = np.where(labels == cluster)\n",
    "    # create scatter of these samples\n",
    "    pyplot.scatter(X.to_numpy()[row_ix, 1], X.to_numpy()[row_ix, 2])\n",
    "    # show the plot\n",
    "pyplot.show()"
   ]
  },
  {
   "cell_type": "code",
   "execution_count": 51,
   "id": "836039e4",
   "metadata": {},
   "outputs": [
    {
     "data": {
      "text/plain": [
       "0     8378\n",
       "1     4534\n",
       "2     7544\n",
       "3     3317\n",
       "4     2045\n",
       "5     7234\n",
       "6     3671\n",
       "7     6289\n",
       "8     2128\n",
       "9     2345\n",
       "10    5409\n",
       "11    4235\n",
       "12    3097\n",
       "13     355\n",
       "dtype: int64"
      ]
     },
     "execution_count": 51,
     "metadata": {},
     "output_type": "execute_result"
    }
   ],
   "source": [
    "clusters = kmeans.predict(X_scaled_df)\n",
    "# number of songs per cluster\n",
    "pd.Series(clusters).value_counts().sort_index()"
   ]
  },
  {
   "cell_type": "code",
   "execution_count": 52,
   "id": "28173f67",
   "metadata": {},
   "outputs": [
    {
     "data": {
      "text/html": [
       "<div>\n",
       "<style scoped>\n",
       "    .dataframe tbody tr th:only-of-type {\n",
       "        vertical-align: middle;\n",
       "    }\n",
       "\n",
       "    .dataframe tbody tr th {\n",
       "        vertical-align: top;\n",
       "    }\n",
       "\n",
       "    .dataframe thead th {\n",
       "        text-align: right;\n",
       "    }\n",
       "</style>\n",
       "<table border=\"1\" class=\"dataframe\">\n",
       "  <thead>\n",
       "    <tr style=\"text-align: right;\">\n",
       "      <th></th>\n",
       "      <th>danceability</th>\n",
       "      <th>acousticness</th>\n",
       "      <th>energy</th>\n",
       "      <th>instrumentalness</th>\n",
       "      <th>liveness</th>\n",
       "      <th>loudness</th>\n",
       "      <th>speechiness</th>\n",
       "      <th>valence</th>\n",
       "      <th>key</th>\n",
       "      <th>tempo</th>\n",
       "      <th>time_signature</th>\n",
       "      <th>cluster</th>\n",
       "    </tr>\n",
       "  </thead>\n",
       "  <tbody>\n",
       "    <tr>\n",
       "      <th>0</th>\n",
       "      <td>0.829</td>\n",
       "      <td>0.0940</td>\n",
       "      <td>0.767</td>\n",
       "      <td>0.000000</td>\n",
       "      <td>0.1640</td>\n",
       "      <td>-6.517</td>\n",
       "      <td>0.2820</td>\n",
       "      <td>0.491</td>\n",
       "      <td>0</td>\n",
       "      <td>125.994</td>\n",
       "      <td>4</td>\n",
       "      <td>6</td>\n",
       "    </tr>\n",
       "    <tr>\n",
       "      <th>1</th>\n",
       "      <td>0.698</td>\n",
       "      <td>0.1740</td>\n",
       "      <td>0.636</td>\n",
       "      <td>0.000000</td>\n",
       "      <td>0.1250</td>\n",
       "      <td>-5.844</td>\n",
       "      <td>0.0356</td>\n",
       "      <td>0.313</td>\n",
       "      <td>8</td>\n",
       "      <td>107.257</td>\n",
       "      <td>3</td>\n",
       "      <td>9</td>\n",
       "    </tr>\n",
       "    <tr>\n",
       "      <th>2</th>\n",
       "      <td>0.827</td>\n",
       "      <td>0.0978</td>\n",
       "      <td>0.738</td>\n",
       "      <td>0.000000</td>\n",
       "      <td>0.0257</td>\n",
       "      <td>-6.403</td>\n",
       "      <td>0.2070</td>\n",
       "      <td>0.718</td>\n",
       "      <td>8</td>\n",
       "      <td>137.956</td>\n",
       "      <td>4</td>\n",
       "      <td>6</td>\n",
       "    </tr>\n",
       "    <tr>\n",
       "      <th>3</th>\n",
       "      <td>0.794</td>\n",
       "      <td>0.1630</td>\n",
       "      <td>0.823</td>\n",
       "      <td>0.000026</td>\n",
       "      <td>0.3510</td>\n",
       "      <td>-6.731</td>\n",
       "      <td>0.0591</td>\n",
       "      <td>0.334</td>\n",
       "      <td>11</td>\n",
       "      <td>133.025</td>\n",
       "      <td>4</td>\n",
       "      <td>5</td>\n",
       "    </tr>\n",
       "    <tr>\n",
       "      <th>4</th>\n",
       "      <td>0.830</td>\n",
       "      <td>0.1950</td>\n",
       "      <td>0.881</td>\n",
       "      <td>0.000000</td>\n",
       "      <td>0.2880</td>\n",
       "      <td>-3.829</td>\n",
       "      <td>0.1280</td>\n",
       "      <td>0.743</td>\n",
       "      <td>5</td>\n",
       "      <td>125.984</td>\n",
       "      <td>4</td>\n",
       "      <td>2</td>\n",
       "    </tr>\n",
       "  </tbody>\n",
       "</table>\n",
       "</div>"
      ],
      "text/plain": [
       "   danceability  acousticness  energy  instrumentalness  liveness  loudness  \\\n",
       "0         0.829        0.0940   0.767          0.000000    0.1640    -6.517   \n",
       "1         0.698        0.1740   0.636          0.000000    0.1250    -5.844   \n",
       "2         0.827        0.0978   0.738          0.000000    0.0257    -6.403   \n",
       "3         0.794        0.1630   0.823          0.000026    0.3510    -6.731   \n",
       "4         0.830        0.1950   0.881          0.000000    0.2880    -3.829   \n",
       "\n",
       "   speechiness  valence  key    tempo  time_signature  cluster  \n",
       "0       0.2820    0.491    0  125.994               4        6  \n",
       "1       0.0356    0.313    8  107.257               3        9  \n",
       "2       0.2070    0.718    8  137.956               4        6  \n",
       "3       0.0591    0.334   11  133.025               4        5  \n",
       "4       0.1280    0.743    5  125.984               4        2  "
      ]
     },
     "execution_count": 52,
     "metadata": {},
     "output_type": "execute_result"
    }
   ],
   "source": [
    "#X_df = pd.DataFrame(X)\n",
    "X[\"cluster\"] = clusters\n",
    "X.head()"
   ]
  },
  {
   "cell_type": "code",
   "execution_count": 53,
   "id": "ebfe4f0a",
   "metadata": {},
   "outputs": [
    {
     "data": {
      "text/html": [
       "<div>\n",
       "<style scoped>\n",
       "    .dataframe tbody tr th:only-of-type {\n",
       "        vertical-align: middle;\n",
       "    }\n",
       "\n",
       "    .dataframe tbody tr th {\n",
       "        vertical-align: top;\n",
       "    }\n",
       "\n",
       "    .dataframe thead th {\n",
       "        text-align: right;\n",
       "    }\n",
       "</style>\n",
       "<table border=\"1\" class=\"dataframe\">\n",
       "  <thead>\n",
       "    <tr style=\"text-align: right;\">\n",
       "      <th></th>\n",
       "      <th>danceability</th>\n",
       "      <th>acousticness</th>\n",
       "      <th>energy</th>\n",
       "      <th>instrumentalness</th>\n",
       "      <th>liveness</th>\n",
       "      <th>loudness</th>\n",
       "      <th>speechiness</th>\n",
       "      <th>valence</th>\n",
       "      <th>key</th>\n",
       "      <th>tempo</th>\n",
       "      <th>time_signature</th>\n",
       "      <th>cluster</th>\n",
       "    </tr>\n",
       "  </thead>\n",
       "  <tbody>\n",
       "    <tr>\n",
       "      <th>35384</th>\n",
       "      <td>0.827</td>\n",
       "      <td>0.13</td>\n",
       "      <td>0.731</td>\n",
       "      <td>0.0</td>\n",
       "      <td>0.418</td>\n",
       "      <td>-5.524</td>\n",
       "      <td>0.088</td>\n",
       "      <td>0.607</td>\n",
       "      <td>4</td>\n",
       "      <td>118.992</td>\n",
       "      <td>4</td>\n",
       "      <td>2</td>\n",
       "    </tr>\n",
       "  </tbody>\n",
       "</table>\n",
       "</div>"
      ],
      "text/plain": [
       "       danceability  acousticness  energy  instrumentalness  liveness  \\\n",
       "35384         0.827          0.13   0.731               0.0     0.418   \n",
       "\n",
       "       loudness  speechiness  valence  key    tempo  time_signature  cluster  \n",
       "35384    -5.524        0.088    0.607    4  118.992               4        2  "
      ]
     },
     "execution_count": 53,
     "metadata": {},
     "output_type": "execute_result"
    }
   ],
   "source": [
    "X[X['cluster'] == 2].sample()"
   ]
  },
  {
   "cell_type": "code",
   "execution_count": 54,
   "id": "e0517aca",
   "metadata": {},
   "outputs": [
    {
     "data": {
      "text/plain": [
       "289066.75127745455"
      ]
     },
     "execution_count": 54,
     "metadata": {},
     "output_type": "execute_result"
    }
   ],
   "source": [
    "kmeans.inertia_"
   ]
  },
  {
   "cell_type": "code",
   "execution_count": 59,
   "id": "ef695559",
   "metadata": {},
   "outputs": [
    {
     "name": "stdout",
     "output_type": "stream",
     "text": [
      "195597.8264521946\n"
     ]
    }
   ],
   "source": [
    "kmeans2 = KMeans(n_clusters=50,\n",
    "                init=\"k-means++\",\n",
    "                n_init=20,  # try with 1, 4, 8, 20, 30, 100...\n",
    "                max_iter=30,\n",
    "                tol=0,\n",
    "                algorithm=\"elkan\",\n",
    "                random_state=1234)\n",
    "kmeans2.fit(X_scaled_df)\n",
    "print(kmeans2.inertia_)"
   ]
  },
  {
   "cell_type": "code",
   "execution_count": 60,
   "id": "b18845fa",
   "metadata": {},
   "outputs": [
    {
     "data": {
      "text/plain": [
       "Text(0.5, 1.0, 'Elbow Method showing the optimal k')"
      ]
     },
     "execution_count": 60,
     "metadata": {},
     "output_type": "execute_result"
    },
    {
     "data": {
      "image/png": "[encoded data removed]",
      "text/plain": [
       "<Figure size 1152x576 with 1 Axes>"
      ]
     },
     "metadata": {
      "needs_background": "light"
     },
     "output_type": "display_data"
    }
   ],
   "source": [
    "# chosing K\n",
    "K = range(2, 21)\n",
    "inertia = []\n",
    "\n",
    "for k in K:\n",
    "    kmeans = KMeans(n_clusters=k,\n",
    "                    random_state=1234)\n",
    "    kmeans.fit(X_scaled_df)\n",
    "    inertia.append(kmeans.inertia_)\n",
    "\n",
    "import numpy as np\n",
    "import matplotlib.pyplot as plt\n",
    "%matplotlib inline\n",
    "\n",
    "plt.figure(figsize=(16,8))\n",
    "plt.plot(K, inertia, 'bx-')\n",
    "plt.xlabel('k')\n",
    "plt.ylabel('inertia')\n",
    "plt.xticks(np.arange(min(K), max(K)+1, 1.0))\n",
    "plt.title('Elbow Method showing the optimal k')"
   ]
  },
  {
   "cell_type": "code",
   "execution_count": 61,
   "id": "63a3e446",
   "metadata": {},
   "outputs": [
    {
     "name": "stdout",
     "output_type": "stream",
     "text": [
      "2\n",
      "3\n",
      "4\n",
      "5\n",
      "6\n",
      "7\n",
      "8\n",
      "9\n",
      "10\n",
      "11\n",
      "12\n",
      "13\n",
      "14\n",
      "15\n",
      "16\n",
      "17\n",
      "18\n",
      "19\n"
     ]
    },
    {
     "data": {
      "text/plain": [
       "Text(0.5, 1.0, 'Silhouette Method showing the optimal k')"
      ]
     },
     "execution_count": 61,
     "metadata": {},
     "output_type": "execute_result"
    },
    {
     "data": {
      "image/png": "[encoded data removed]",
      "text/plain": [
       "<Figure size 1152x576 with 1 Axes>"
      ]
     },
     "metadata": {
      "needs_background": "light"
     },
     "output_type": "display_data"
    }
   ],
   "source": [
    "K = range(2, 20)\n",
    "silhouette = []\n",
    "\n",
    "for k in K:\n",
    "    print(k)\n",
    "    kmeans = KMeans(n_clusters=k,\n",
    "                    random_state=1234)\n",
    "    kmeans.fit(X_scaled_df)\n",
    "    \n",
    "    filename = \"Model/kmeans_\" + str(k) + \".pickle\"\n",
    "    with open(filename, \"wb\") as f:\n",
    "        pickle.dump(kmeans,f)\n",
    "    \n",
    "    silhouette.append(silhouette_score(X_scaled_df, kmeans.predict(X_scaled_df)))\n",
    "\n",
    "\n",
    "plt.figure(figsize=(16,8))\n",
    "plt.plot(K, silhouette, 'bx-')\n",
    "plt.xlabel('k')\n",
    "plt.ylabel('silhouette score')\n",
    "plt.xticks(np.arange(min(K), max(K)+1, 1.0))\n",
    "plt.title('Silhouette Method showing the optimal k')"
   ]
  },
  {
   "cell_type": "code",
   "execution_count": 27,
   "id": "8a8bcbf3",
   "metadata": {},
   "outputs": [],
   "source": [
    "import pickle\n",
    "\n",
    "#scaler = StandardScaler()\n",
    "#model = KMeans()\n",
    "\n",
    "with open(\"Model/scaler.pickle\", \"wb\") as f:\n",
    "    pickle.dump(scaler,f)\n",
    "\n",
    "with open(\"Model/kmeans_4.pickle\", \"wb\") as f:\n",
    "    pickle.dump(kmeans,f)"
   ]
  },
  {
   "cell_type": "code",
   "execution_count": 28,
   "id": "e88a561b",
   "metadata": {},
   "outputs": [],
   "source": [
    "def load(filename = \"filename.pickle\"): \n",
    "    try: \n",
    "        with open(filename, \"rb\") as f: \n",
    "            return pickle.load(f) \n",
    "        \n",
    "    except FileNotFoundError: \n",
    "        print(\"File not found!\") \n"
   ]
  },
  {
   "cell_type": "markdown",
   "id": "546b39fc",
   "metadata": {},
   "source": [
    "## Input Song "
   ]
  },
  {
   "cell_type": "markdown",
   "id": "a2231a2b",
   "metadata": {},
   "source": [
    "### Step by step"
   ]
  },
  {
   "cell_type": "code",
   "execution_count": 29,
   "id": "753e1fe4",
   "metadata": {},
   "outputs": [
    {
     "name": "stdout",
     "output_type": "stream",
     "text": [
      "What song are you looking for? Hello\n",
      "Following artists found for \"Hello\":\n",
      " \n",
      " + 1: Adele\n",
      " + 2: Conor Maynard\n",
      " + 3: Martin Solveig\n",
      " + 4: Various Artists\n",
      " + 5: Various Artists\n",
      " + 6: Various Artists\n",
      " + 7: Various Artists\n",
      " + 8: Various Artists\n",
      " + 9: Various Artists\n",
      " + 10: Various Artists\n",
      " + 11: Various Artists\n",
      " + 12: Various Artists\n",
      " + 13: Various Artists\n",
      " + 14: Various Artists\n",
      " + 15: Official HIGE DANdism\n",
      " + 16: Various Artists\n",
      " + 17: Various Artists\n",
      " + 18: Evanescence\n",
      " + 19: Lionel Richie\n",
      " + 20: Lionel Richie\n",
      " + 21: Lionel Richie\n",
      " + 22: Various Artists\n",
      " + 23: Various Artists\n",
      " + 24: Ice Cube\n",
      "Please specify your entry (1 to 24): 1\n"
     ]
    }
   ],
   "source": [
    "song_array = user_input_get_features()"
   ]
  },
  {
   "cell_type": "code",
   "execution_count": 30,
   "id": "aa8a4956",
   "metadata": {},
   "outputs": [
    {
     "data": {
      "text/plain": [
       "[{'danceability': 0.905,\n",
       "  'energy': 0.647,\n",
       "  'key': 10,\n",
       "  'loudness': -5.065,\n",
       "  'speechiness': 0.107,\n",
       "  'acousticness': 0.0187,\n",
       "  'instrumentalness': 0,\n",
       "  'liveness': 0.282,\n",
       "  'valence': 0.367,\n",
       "  'tempo': 130.97,\n",
       "  'time_signature': 4}]"
      ]
     },
     "execution_count": 30,
     "metadata": {},
     "output_type": "execute_result"
    }
   ],
   "source": [
    "song=\"Hello\"\n",
    "x=sp.search(song)\n",
    "song_info=sp.audio_features([x[\"tracks\"][\"items\"][0][\"id\"]])\n",
    "#remove features not used in the model\n",
    "remove_list = ['mode', 'duration_ms', 'id', 'type', 'uri', 'track_href', 'analysis_url'] \n",
    "[song_info[0].pop(key) for key in remove_list] \n",
    "song_info"
   ]
  },
  {
   "cell_type": "code",
   "execution_count": 31,
   "id": "cc95c662",
   "metadata": {},
   "outputs": [
    {
     "data": {
      "text/plain": [
       "[0.905, 0.647, 10, -5.065, 0.107, 0.0187, 0, 0.282, 0.367, 130.97, 4]"
      ]
     },
     "execution_count": 31,
     "metadata": {},
     "output_type": "execute_result"
    }
   ],
   "source": [
    "song_list=list(song_info[0].values())\n",
    "song_list"
   ]
  },
  {
   "cell_type": "code",
   "execution_count": 32,
   "id": "fa9ef0fe",
   "metadata": {},
   "outputs": [
    {
     "data": {
      "text/plain": [
       "array([[ 9.0500e-01,  6.4700e-01,  1.0000e+01, -5.0650e+00,  1.0700e-01,\n",
       "         1.8700e-02,  0.0000e+00,  2.8200e-01,  3.6700e-01,  1.3097e+02,\n",
       "         4.0000e+00]])"
      ]
     },
     "execution_count": 32,
     "metadata": {},
     "output_type": "execute_result"
    }
   ],
   "source": [
    "song_array = np.array(song_list).reshape(1, -1)\n",
    "song_array"
   ]
  },
  {
   "cell_type": "code",
   "execution_count": 33,
   "id": "c06072e5",
   "metadata": {},
   "outputs": [],
   "source": [
    "# standardize input song \n",
    "scaled_song = scaler.transform(song_array)"
   ]
  },
  {
   "cell_type": "code",
   "execution_count": 34,
   "id": "101df28b",
   "metadata": {},
   "outputs": [
    {
     "data": {
      "text/plain": [
       "1"
      ]
     },
     "execution_count": 34,
     "metadata": {},
     "output_type": "execute_result"
    }
   ],
   "source": [
    "# predict the cluster with kmeans\n",
    "cluster_pred = kmeans.predict(scaled_song)[0]\n",
    "cluster_pred"
   ]
  },
  {
   "cell_type": "code",
   "execution_count": 35,
   "id": "3b0a34a4",
   "metadata": {},
   "outputs": [
    {
     "data": {
      "text/plain": [
       "28394"
      ]
     },
     "execution_count": 35,
     "metadata": {},
     "output_type": "execute_result"
    }
   ],
   "source": [
    "# get a random song from the same cluster\n",
    "index_song = X[X['cluster']==cluster_pred].sample().index[0]\n",
    "index_song"
   ]
  },
  {
   "cell_type": "code",
   "execution_count": 36,
   "id": "f5a7a491",
   "metadata": {},
   "outputs": [
    {
     "data": {
      "text/plain": [
       "'6dmXZ9B5HdFAyzHeTneYBK'"
      ]
     },
     "execution_count": 36,
     "metadata": {},
     "output_type": "execute_result"
    }
   ],
   "source": [
    "# get the id of random song\n",
    "id_song = song_df.iloc[index_song]['id']\n",
    "id_song"
   ]
  },
  {
   "cell_type": "code",
   "execution_count": 37,
   "id": "fbdcfcba",
   "metadata": {},
   "outputs": [
    {
     "data": {
      "text/plain": [
       "'LA FAMA (with The Weeknd)'"
      ]
     },
     "execution_count": 37,
     "metadata": {},
     "output_type": "execute_result"
    }
   ],
   "source": [
    "# look for the name of the song\n",
    "song_name=sp.track(id_song)[\"name\"]\n",
    "song_name"
   ]
  },
  {
   "cell_type": "markdown",
   "id": "11e80e0f",
   "metadata": {},
   "source": [
    "### Song recommender"
   ]
  },
  {
   "cell_type": "code",
   "execution_count": 38,
   "id": "6ab1c8e1",
   "metadata": {},
   "outputs": [
    {
     "name": "stdout",
     "output_type": "stream",
     "text": [
      "Mesmo Sem Estar  by  Luan Santana\n"
     ]
    }
   ],
   "source": [
    "#test the function\n",
    "get_random_song_cluster(\"Radioactive\")"
   ]
  }
 ],
 "metadata": {
  "kernelspec": {
   "display_name": "Python 3 (ipykernel)",
   "language": "python",
   "name": "python3"
  },
  "language_info": {
   "codemirror_mode": {
    "name": "ipython",
    "version": 3
   },
   "file_extension": ".py",
   "mimetype": "text/x-python",
   "name": "python",
   "nbconvert_exporter": "python",
   "pygments_lexer": "ipython3",
   "version": "3.9.7"
  },
  "toc": {
   "base_numbering": 1,
   "nav_menu": {},
   "number_sections": true,
   "sideBar": true,
   "skip_h1_title": true,
   "title_cell": "Table of Contents",
   "title_sidebar": "Contents",
   "toc_cell": false,
   "toc_position": {},
   "toc_section_display": true,
   "toc_window_display": true
  }
 },
 "nbformat": 4,
 "nbformat_minor": 5
}
