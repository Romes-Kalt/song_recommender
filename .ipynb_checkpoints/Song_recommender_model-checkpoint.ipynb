{
 "cells": [
  {
   "cell_type": "code",
   "execution_count": 2,
   "id": "familiar-drove",
   "metadata": {},
   "outputs": [],
   "source": [
    "import spotipy \n",
    "import pandas as pd \n",
    "from spotipy.oauth2 import SpotifyClientCredentials\n",
    "import os\n",
    "import numpy as np\n",
    "\n",
    "import numpy as np\n",
    "import pandas as pd\n",
    "import pickle\n",
    "from sklearn import datasets\n",
    "from sklearn.preprocessing import StandardScaler\n",
    "from sklearn.cluster import KMeans\n",
    "from matplotlib import pyplot\n",
    "from sklearn.metrics import silhouette_score"
   ]
  },
  {
   "cell_type": "code",
   "execution_count": 102,
   "id": "c445031d",
   "metadata": {},
   "outputs": [],
   "source": [
    "def user_input_get_features(this_df):\n",
    "    audio_feat = ['danceability', 'energy', 'key', 'loudness', 'speechiness', 'acousticness', 'instrumentalness',\n",
    "                  'liveness', 'valence', 'tempo', 'time_signature']\n",
    "    user_input = input(\"What song are you looking for? \")\n",
    "    song_hits = list(this_df[this_df[\"name\"].str.lower()==user_input.lower()][\"artist\"])\n",
    "    if song_hits:\n",
    "        if len(song_hits) == 1:\n",
    "            numpy_lst = []\n",
    "            for a_f in audio_feat:\n",
    "                numpy_lst.append(float(this_df[this_df[\"name\"].str.lower()==user_input.lower()][a_f]))\n",
    "            return np.array(numpy_lst).reshape(1,-1)\n",
    "        else:\n",
    "            print(f'Following artists found for \"{user_input}\":\\n ')\n",
    "            c = 0\n",
    "            for a in song_hits:\n",
    "                c += 1\n",
    "                print(f\" + {c}: {a}\")\n",
    "            print(\" -------\\n+ S: Search alternative on Spotify\")\n",
    "            user_choice = 241\n",
    "            while 0 > int(user_choice) or int(user_choice) > len(song_hits)+1:\n",
    "                user_choice = input(f\"Please specify your entry (1 to {len(song_hits)}): \")\n",
    "                if user_choice.lower() == \"s\":\n",
    "                    return get_unknown_song_array(user_input)\n",
    "                if user_choice.isnumeric() == False:\n",
    "                    print(\"please check entry.\")\n",
    "                    user_choice = len(song_hits)+2\n",
    "                if 0 > int(user_choice) > len(song_hits)+1:\n",
    "                    print(\"please check entry.\")\n",
    "            this_df_index = list(this_df[this_df[\"name\"].str.lower()==user_input.lower()].index)[int(user_choice)-1]\n",
    "            # print(df_.iloc[df_index][\"danceability\"])\n",
    "            numpy_lst = []\n",
    "            for a_f in audio_feat:\n",
    "                numpy_lst.append(float(this_df.iloc[this_df_index][a_f]))\n",
    "            return np.array(numpy_lst).reshape(1,-1)\n",
    "    else:\n",
    "        print(\"Song not found in local database, searching on Spotify.\")\n",
    "        return get_unknown_song_array(user_input)"
   ]
  },
  {
   "cell_type": "code",
   "execution_count": 4,
   "id": "bc6e7786",
   "metadata": {},
   "outputs": [],
   "source": [
    "def load_songs(fp:[str]=None):\n",
    "    if not fp:\n",
    "        print(\"No filepath provided\")\n",
    "        return None\n",
    "    try:\n",
    "        return pd.read_csv(fp, sep=\";\", error_bad_lines=False)\n",
    "    except FileNotFoundError:\n",
    "        print(\"File not found.\")\n",
    "        return None"
   ]
  },
  {
   "cell_type": "code",
   "execution_count": 5,
   "id": "b359580a",
   "metadata": {},
   "outputs": [],
   "source": [
    "#get a random song from the same cluster: put it together\n",
    "def get_random_song_cluster(song):\n",
    "    x=sp.search(song, limit=1)\n",
    "    song_info=sp.audio_features([x[\"tracks\"][\"items\"][0][\"id\"]])\n",
    "    #remove features not used in the model\n",
    "    remove_list = ['mode', 'duration_ms', 'id', 'type', 'uri', 'track_href', 'analysis_url'] \n",
    "    [song_info[0].pop(key) for key in remove_list]\n",
    "    song_list=list(song_info[0].values())\n",
    "    #get song_array\n",
    "    song_array = np.array(song_list).reshape(1, -1)\n",
    "    #get song_array scaled \n",
    "    scaled_song = scaler.transform(song_array)\n",
    "    #predict cluster\n",
    "    cluster_pred = kmeans.predict(scaled_song)[0]\n",
    "    #get a random song from the same cluster\n",
    "    index_song = X[X['cluster']==cluster_pred].sample().index[0]\n",
    "    #get the id of random song\n",
    "    id_song = song_df.iloc[index_song]['id']\n",
    "    \n",
    "    return print(sp.track(id_song)[\"name\"], \" by \", sp.track(id_song)[\"artists\"][0][\"name\"])"
   ]
  },
  {
   "cell_type": "code",
   "execution_count": 6,
   "id": "5465eac5",
   "metadata": {},
   "outputs": [],
   "source": [
    "sp = spotipy.Spotify(auth_manager=SpotifyClientCredentials(client_id=\"9d897a87744a49638d588daeca7f0994\",\n",
    "                                                           client_secret=\"1e0c19e2db6c4e3182c30885a6491ffd\"))"
   ]
  },
  {
   "cell_type": "code",
   "execution_count": 7,
   "id": "7ca64db6",
   "metadata": {},
   "outputs": [
    {
     "name": "stderr",
     "output_type": "stream",
     "text": [
      "C:\\Users\\roman\\Python\\anaconda\\envs\\DA_Env\\lib\\site-packages\\IPython\\core\\interactiveshell.py:3457: FutureWarning: The error_bad_lines argument has been deprecated and will be removed in a future version.\n",
      "\n",
      "\n",
      "  exec(code_obj, self.user_global_ns, self.user_ns)\n",
      "b'Skipping line 3335: expected 20 fields, saw 21\\nSkipping line 3336: expected 20 fields, saw 21\\nSkipping line 3343: expected 20 fields, saw 21\\nSkipping line 3345: expected 20 fields, saw 21\\nSkipping line 3350: expected 20 fields, saw 21\\nSkipping line 4630: expected 20 fields, saw 22\\nSkipping line 4632: expected 20 fields, saw 22\\nSkipping line 4634: expected 20 fields, saw 22\\nSkipping line 4643: expected 20 fields, saw 22\\nSkipping line 4644: expected 20 fields, saw 22\\nSkipping line 4645: expected 20 fields, saw 22\\nSkipping line 4646: expected 20 fields, saw 22\\nSkipping line 4647: expected 20 fields, saw 22\\nSkipping line 4650: expected 20 fields, saw 22\\nSkipping line 4651: expected 20 fields, saw 22\\nSkipping line 4655: expected 20 fields, saw 22\\nSkipping line 4657: expected 20 fields, saw 22\\nSkipping line 4658: expected 20 fields, saw 22\\nSkipping line 4659: expected 20 fields, saw 22\\nSkipping line 4660: expected 20 fields, saw 22\\nSkipping line 4661: expected 20 fields, saw 22\\nSkipping line 6071: expected 20 fields, saw 21\\nSkipping line 14341: expected 20 fields, saw 21\\nSkipping line 14343: expected 20 fields, saw 21\\nSkipping line 14345: expected 20 fields, saw 21\\nSkipping line 14347: expected 20 fields, saw 21\\nSkipping line 14349: expected 20 fields, saw 21\\nSkipping line 14351: expected 20 fields, saw 21\\nSkipping line 14353: expected 20 fields, saw 21\\nSkipping line 14355: expected 20 fields, saw 21\\nSkipping line 14357: expected 20 fields, saw 21\\nSkipping line 14359: expected 20 fields, saw 21\\nSkipping line 14361: expected 20 fields, saw 21\\nSkipping line 14363: expected 20 fields, saw 21\\nSkipping line 14365: expected 20 fields, saw 21\\nSkipping line 14367: expected 20 fields, saw 21\\nSkipping line 14369: expected 20 fields, saw 21\\nSkipping line 14371: expected 20 fields, saw 21\\nSkipping line 14373: expected 20 fields, saw 21\\nSkipping line 14375: expected 20 fields, saw 21\\nSkipping line 14377: expected 20 fields, saw 21\\nSkipping line 14380: expected 20 fields, saw 21\\nSkipping line 14384: expected 20 fields, saw 21\\nSkipping line 14386: expected 20 fields, saw 21\\nSkipping line 14388: expected 20 fields, saw 21\\nSkipping line 15692: expected 20 fields, saw 21\\nSkipping line 15693: expected 20 fields, saw 21\\nSkipping line 15694: expected 20 fields, saw 21\\nSkipping line 16908: expected 20 fields, saw 21\\nSkipping line 20449: expected 20 fields, saw 21\\n'\n"
     ]
    }
   ],
   "source": [
    "song_df = pd.read_csv(\"data/song_db.csv\", sep=\";\", error_bad_lines=False)"
   ]
  },
  {
   "cell_type": "code",
   "execution_count": 8,
   "id": "c2e1da35",
   "metadata": {},
   "outputs": [
    {
     "data": {
      "text/html": [
       "<div>\n",
       "<style scoped>\n",
       "    .dataframe tbody tr th:only-of-type {\n",
       "        vertical-align: middle;\n",
       "    }\n",
       "\n",
       "    .dataframe tbody tr th {\n",
       "        vertical-align: top;\n",
       "    }\n",
       "\n",
       "    .dataframe thead th {\n",
       "        text-align: right;\n",
       "    }\n",
       "</style>\n",
       "<table border=\"1\" class=\"dataframe\">\n",
       "  <thead>\n",
       "    <tr style=\"text-align: right;\">\n",
       "      <th></th>\n",
       "      <th>id</th>\n",
       "      <th>name</th>\n",
       "      <th>album</th>\n",
       "      <th>artist</th>\n",
       "      <th>release_date</th>\n",
       "      <th>length</th>\n",
       "      <th>popularity</th>\n",
       "      <th>danceability</th>\n",
       "      <th>acousticness</th>\n",
       "      <th>energy</th>\n",
       "      <th>instrumentalness</th>\n",
       "      <th>liveness</th>\n",
       "      <th>loudness</th>\n",
       "      <th>speechiness</th>\n",
       "      <th>valence</th>\n",
       "      <th>key</th>\n",
       "      <th>mode</th>\n",
       "      <th>tempo</th>\n",
       "      <th>type</th>\n",
       "      <th>time_signature</th>\n",
       "    </tr>\n",
       "  </thead>\n",
       "  <tbody>\n",
       "    <tr>\n",
       "      <th>0</th>\n",
       "      <td>30QR0ndUdiiMQMA9g1PGCm</td>\n",
       "      <td>...And to Those I Love, Thanks for Sticking Ar...</td>\n",
       "      <td>Stop Staring at the Shadows</td>\n",
       "      <td>$uicideboy$</td>\n",
       "      <td>2020-02-14</td>\n",
       "      <td>168489</td>\n",
       "      <td>85</td>\n",
       "      <td>0.792</td>\n",
       "      <td>0.12400</td>\n",
       "      <td>0.511</td>\n",
       "      <td>0.000090</td>\n",
       "      <td>0.1400</td>\n",
       "      <td>-6.876</td>\n",
       "      <td>0.0409</td>\n",
       "      <td>0.1110</td>\n",
       "      <td>2</td>\n",
       "      <td>1</td>\n",
       "      <td>113.983</td>\n",
       "      <td>audio_features</td>\n",
       "      <td>4</td>\n",
       "    </tr>\n",
       "    <tr>\n",
       "      <th>1</th>\n",
       "      <td>496GZe7MxLloHgUQTmY2Ch</td>\n",
       "      <td>$Outh $Ide $Uicide</td>\n",
       "      <td>High Tide in the Snake's Nest</td>\n",
       "      <td>$uicideboy$</td>\n",
       "      <td>2015-06-15</td>\n",
       "      <td>169319</td>\n",
       "      <td>74</td>\n",
       "      <td>0.797</td>\n",
       "      <td>0.00538</td>\n",
       "      <td>0.516</td>\n",
       "      <td>0.438000</td>\n",
       "      <td>0.0728</td>\n",
       "      <td>-6.286</td>\n",
       "      <td>0.0832</td>\n",
       "      <td>0.0478</td>\n",
       "      <td>1</td>\n",
       "      <td>1</td>\n",
       "      <td>109.993</td>\n",
       "      <td>audio_features</td>\n",
       "      <td>4</td>\n",
       "    </tr>\n",
       "    <tr>\n",
       "      <th>2</th>\n",
       "      <td>0kEZlJh4mK1QRfb3CT5LPk</td>\n",
       "      <td>Kill Yourself (Part III)</td>\n",
       "      <td>My Liver Will Handle What My Heart Can't</td>\n",
       "      <td>$uicideboy$</td>\n",
       "      <td>2015-09-21</td>\n",
       "      <td>145078</td>\n",
       "      <td>81</td>\n",
       "      <td>0.753</td>\n",
       "      <td>0.32600</td>\n",
       "      <td>0.680</td>\n",
       "      <td>0.000041</td>\n",
       "      <td>0.4230</td>\n",
       "      <td>-7.092</td>\n",
       "      <td>0.0349</td>\n",
       "      <td>0.1920</td>\n",
       "      <td>5</td>\n",
       "      <td>0</td>\n",
       "      <td>105.977</td>\n",
       "      <td>audio_features</td>\n",
       "      <td>4</td>\n",
       "    </tr>\n",
       "    <tr>\n",
       "      <th>3</th>\n",
       "      <td>1hSBVYwG0UPeou0ORftrxm</td>\n",
       "      <td>Do You Believe in God?</td>\n",
       "      <td>Grey Sheep II</td>\n",
       "      <td>$uicideboy$</td>\n",
       "      <td>2016-05-25</td>\n",
       "      <td>118073</td>\n",
       "      <td>67</td>\n",
       "      <td>0.794</td>\n",
       "      <td>0.03880</td>\n",
       "      <td>0.535</td>\n",
       "      <td>0.000010</td>\n",
       "      <td>0.5550</td>\n",
       "      <td>-5.698</td>\n",
       "      <td>0.0506</td>\n",
       "      <td>0.0487</td>\n",
       "      <td>0</td>\n",
       "      <td>1</td>\n",
       "      <td>120.067</td>\n",
       "      <td>audio_features</td>\n",
       "      <td>4</td>\n",
       "    </tr>\n",
       "    <tr>\n",
       "      <th>4</th>\n",
       "      <td>5UGAXwbA17bUC0K9uquGY2</td>\n",
       "      <td>Antarctica</td>\n",
       "      <td>Antarctica</td>\n",
       "      <td>$uicideboy$</td>\n",
       "      <td>2016-01-26</td>\n",
       "      <td>126850</td>\n",
       "      <td>78</td>\n",
       "      <td>0.715</td>\n",
       "      <td>0.55300</td>\n",
       "      <td>0.633</td>\n",
       "      <td>0.000004</td>\n",
       "      <td>0.0905</td>\n",
       "      <td>-6.869</td>\n",
       "      <td>0.0804</td>\n",
       "      <td>0.3190</td>\n",
       "      <td>2</td>\n",
       "      <td>1</td>\n",
       "      <td>105.945</td>\n",
       "      <td>audio_features</td>\n",
       "      <td>5</td>\n",
       "    </tr>\n",
       "  </tbody>\n",
       "</table>\n",
       "</div>"
      ],
      "text/plain": [
       "                       id                                               name  \\\n",
       "0  30QR0ndUdiiMQMA9g1PGCm  ...And to Those I Love, Thanks for Sticking Ar...   \n",
       "1  496GZe7MxLloHgUQTmY2Ch                                 $Outh $Ide $Uicide   \n",
       "2  0kEZlJh4mK1QRfb3CT5LPk                           Kill Yourself (Part III)   \n",
       "3  1hSBVYwG0UPeou0ORftrxm                             Do You Believe in God?   \n",
       "4  5UGAXwbA17bUC0K9uquGY2                                         Antarctica   \n",
       "\n",
       "                                      album       artist release_date  length  \\\n",
       "0               Stop Staring at the Shadows  $uicideboy$   2020-02-14  168489   \n",
       "1             High Tide in the Snake's Nest  $uicideboy$   2015-06-15  169319   \n",
       "2  My Liver Will Handle What My Heart Can't  $uicideboy$   2015-09-21  145078   \n",
       "3                             Grey Sheep II  $uicideboy$   2016-05-25  118073   \n",
       "4                                Antarctica  $uicideboy$   2016-01-26  126850   \n",
       "\n",
       "   popularity  danceability  acousticness  energy  instrumentalness  liveness  \\\n",
       "0          85         0.792       0.12400   0.511          0.000090    0.1400   \n",
       "1          74         0.797       0.00538   0.516          0.438000    0.0728   \n",
       "2          81         0.753       0.32600   0.680          0.000041    0.4230   \n",
       "3          67         0.794       0.03880   0.535          0.000010    0.5550   \n",
       "4          78         0.715       0.55300   0.633          0.000004    0.0905   \n",
       "\n",
       "   loudness  speechiness  valence  key  mode    tempo            type  \\\n",
       "0    -6.876       0.0409   0.1110    2     1  113.983  audio_features   \n",
       "1    -6.286       0.0832   0.0478    1     1  109.993  audio_features   \n",
       "2    -7.092       0.0349   0.1920    5     0  105.977  audio_features   \n",
       "3    -5.698       0.0506   0.0487    0     1  120.067  audio_features   \n",
       "4    -6.869       0.0804   0.3190    2     1  105.945  audio_features   \n",
       "\n",
       "   time_signature  \n",
       "0               4  \n",
       "1               4  \n",
       "2               4  \n",
       "3               4  \n",
       "4               5  "
      ]
     },
     "execution_count": 8,
     "metadata": {},
     "output_type": "execute_result"
    }
   ],
   "source": [
    "song_df.head()"
   ]
  },
  {
   "cell_type": "code",
   "execution_count": null,
   "id": "fd1ca1af",
   "metadata": {},
   "outputs": [],
   "source": []
  },
  {
   "cell_type": "markdown",
   "id": "c33251b5",
   "metadata": {},
   "source": [
    "## Clustering"
   ]
  },
  {
   "cell_type": "markdown",
   "id": "b0286136",
   "metadata": {},
   "source": [
    "Legend of the spotify API features:\n",
    "\n",
    "- <strong>Danceability</strong>: Danceability describes how suitable a track is for dancing based on a combination of musical elements including tempo, rhythm stability, beat strength, and overall regularity. A value of 0.0 is least danceable and 1.0 is most danceable.\n",
    "- <strong>Acousticness</strong>: A measure from 0.0 to 1.0 of whether the track is acoustic.\n",
    "- Energy: Energy is a measure from 0.0 to 1.0 and represents a perceptual measure of intensity and activity. Typically, energetic tracks feel fast, loud, and noisy.\n",
    "- <strong>Key</strong>:The key the track is in. Integers map to pitches using standard Pitch Class notation . E.g. 0 = C, 1 = C♯/D♭, 2 = D, and so on.\n",
    "- <strong>Instrumentalness</strong>: Predicts whether a track contains no vocals. The closer the instrumentalness value is to 1.0, the greater likelihood the track contains no vocal content.\n",
    "- <strong>Liveness</strong>: Detects the presence of an audience in the recording. Higher liveness values represent an increased probability that the track was performed live.\n",
    "- <strong>Loudness</strong>: The overall loudness of a track in decibels (dB). Loudness values are averaged across the entire track. Values typical range between -60 and 0 db.\n",
    "- <strong>Mode</strong>: Mode indicates the modality (major or minor) of a track, the type of scale from which its melodic content is derived. Major is represented by 1 and minor is 0.\n",
    "- <strong>Speechiness</strong>: Speechiness detects the presence of spoken words in a track. The more exclusively speech-like the recording (e.g. talk show, audio book, poetry), the closer to 1.0 the attribute value.\n",
    "- <strong>Tempo</strong>: The overall estimated tempo of a track in beats per minute (BPM). In musical terminology, tempo is the speed or pace of a given piece and derives directly from the average beat duration.\n",
    "- <strong>Time signature</strong> : An estimated overall time signature of a track. The time signature (meter) is a notational convention to specify how many beats are in each bar (or measure)\n",
    "- <strong>Valence</strong>: A measure from 0.0 to 1.0 describing the musical positiveness conveyed by a track. Tracks with high valence sound more positive (e.g. happy, cheerful, euphoric), while tracks with low valence sound more negative (e.g. sad, depressed, angry).\n",
    "- <strong>Duration_ms </strong>: The duration of the track in milliseconds."
   ]
  },
  {
   "cell_type": "code",
   "execution_count": 192,
   "id": "c2b5897a",
   "metadata": {
    "scrolled": true
   },
   "outputs": [
    {
     "name": "stderr",
     "output_type": "stream",
     "text": [
      "C:\\Users\\roman\\AppData\\Local\\Temp/ipykernel_2384/3327338095.py:2: FutureWarning: The error_bad_lines argument has been deprecated and will be removed in a future version.\n",
      "\n",
      "\n",
      "  song_df = load_songs(\"./data/song_db.csv\")\n",
      "b'Skipping line 3335: expected 20 fields, saw 21\\nSkipping line 3336: expected 20 fields, saw 21\\nSkipping line 3343: expected 20 fields, saw 21\\nSkipping line 3345: expected 20 fields, saw 21\\nSkipping line 3350: expected 20 fields, saw 21\\nSkipping line 4630: expected 20 fields, saw 22\\nSkipping line 4632: expected 20 fields, saw 22\\nSkipping line 4634: expected 20 fields, saw 22\\nSkipping line 4643: expected 20 fields, saw 22\\nSkipping line 4644: expected 20 fields, saw 22\\nSkipping line 4645: expected 20 fields, saw 22\\nSkipping line 4646: expected 20 fields, saw 22\\nSkipping line 4647: expected 20 fields, saw 22\\nSkipping line 4650: expected 20 fields, saw 22\\nSkipping line 4651: expected 20 fields, saw 22\\nSkipping line 4655: expected 20 fields, saw 22\\nSkipping line 4657: expected 20 fields, saw 22\\nSkipping line 4658: expected 20 fields, saw 22\\nSkipping line 4659: expected 20 fields, saw 22\\nSkipping line 4660: expected 20 fields, saw 22\\nSkipping line 4661: expected 20 fields, saw 22\\nSkipping line 6071: expected 20 fields, saw 21\\nSkipping line 14341: expected 20 fields, saw 21\\nSkipping line 14343: expected 20 fields, saw 21\\nSkipping line 14345: expected 20 fields, saw 21\\nSkipping line 14347: expected 20 fields, saw 21\\nSkipping line 14349: expected 20 fields, saw 21\\nSkipping line 14351: expected 20 fields, saw 21\\nSkipping line 14353: expected 20 fields, saw 21\\nSkipping line 14355: expected 20 fields, saw 21\\nSkipping line 14357: expected 20 fields, saw 21\\nSkipping line 14359: expected 20 fields, saw 21\\nSkipping line 14361: expected 20 fields, saw 21\\nSkipping line 14363: expected 20 fields, saw 21\\nSkipping line 14365: expected 20 fields, saw 21\\nSkipping line 14367: expected 20 fields, saw 21\\nSkipping line 14369: expected 20 fields, saw 21\\nSkipping line 14371: expected 20 fields, saw 21\\nSkipping line 14373: expected 20 fields, saw 21\\nSkipping line 14375: expected 20 fields, saw 21\\nSkipping line 14377: expected 20 fields, saw 21\\nSkipping line 14380: expected 20 fields, saw 21\\nSkipping line 14384: expected 20 fields, saw 21\\nSkipping line 14386: expected 20 fields, saw 21\\nSkipping line 14388: expected 20 fields, saw 21\\nSkipping line 15692: expected 20 fields, saw 21\\nSkipping line 15693: expected 20 fields, saw 21\\nSkipping line 15694: expected 20 fields, saw 21\\nSkipping line 16908: expected 20 fields, saw 21\\nSkipping line 20449: expected 20 fields, saw 21\\n'\n"
     ]
    }
   ],
   "source": [
    "#define features\n",
    "song_df = load_songs(\"./data/song_db.csv\")\n",
    "X = song_df.drop(['id', 'length','name', 'album','artist','release_date', 'type', 'mode', 'popularity'], axis=1) "
   ]
  },
  {
   "cell_type": "code",
   "execution_count": 215,
   "id": "db61217b",
   "metadata": {},
   "outputs": [],
   "source": [
    "# X.head(3)"
   ]
  },
  {
   "cell_type": "code",
   "execution_count": 194,
   "id": "5c24e87d",
   "metadata": {},
   "outputs": [
    {
     "data": {
      "text/html": [
       "<div>\n",
       "<style scoped>\n",
       "    .dataframe tbody tr th:only-of-type {\n",
       "        vertical-align: middle;\n",
       "    }\n",
       "\n",
       "    .dataframe tbody tr th {\n",
       "        vertical-align: top;\n",
       "    }\n",
       "\n",
       "    .dataframe thead th {\n",
       "        text-align: right;\n",
       "    }\n",
       "</style>\n",
       "<table border=\"1\" class=\"dataframe\">\n",
       "  <thead>\n",
       "    <tr style=\"text-align: right;\">\n",
       "      <th></th>\n",
       "      <th>danceability</th>\n",
       "      <th>acousticness</th>\n",
       "      <th>energy</th>\n",
       "      <th>instrumentalness</th>\n",
       "      <th>liveness</th>\n",
       "      <th>loudness</th>\n",
       "      <th>speechiness</th>\n",
       "      <th>valence</th>\n",
       "      <th>key</th>\n",
       "      <th>tempo</th>\n",
       "      <th>time_signature</th>\n",
       "    </tr>\n",
       "  </thead>\n",
       "  <tbody>\n",
       "    <tr>\n",
       "      <th>0</th>\n",
       "      <td>0.792</td>\n",
       "      <td>0.12400</td>\n",
       "      <td>0.511</td>\n",
       "      <td>0.000090</td>\n",
       "      <td>0.1400</td>\n",
       "      <td>-6.876</td>\n",
       "      <td>0.0409</td>\n",
       "      <td>0.1110</td>\n",
       "      <td>2</td>\n",
       "      <td>113.983</td>\n",
       "      <td>4</td>\n",
       "    </tr>\n",
       "    <tr>\n",
       "      <th>1</th>\n",
       "      <td>0.797</td>\n",
       "      <td>0.00538</td>\n",
       "      <td>0.516</td>\n",
       "      <td>0.438000</td>\n",
       "      <td>0.0728</td>\n",
       "      <td>-6.286</td>\n",
       "      <td>0.0832</td>\n",
       "      <td>0.0478</td>\n",
       "      <td>1</td>\n",
       "      <td>109.993</td>\n",
       "      <td>4</td>\n",
       "    </tr>\n",
       "    <tr>\n",
       "      <th>2</th>\n",
       "      <td>0.753</td>\n",
       "      <td>0.32600</td>\n",
       "      <td>0.680</td>\n",
       "      <td>0.000041</td>\n",
       "      <td>0.4230</td>\n",
       "      <td>-7.092</td>\n",
       "      <td>0.0349</td>\n",
       "      <td>0.1920</td>\n",
       "      <td>5</td>\n",
       "      <td>105.977</td>\n",
       "      <td>4</td>\n",
       "    </tr>\n",
       "    <tr>\n",
       "      <th>3</th>\n",
       "      <td>0.794</td>\n",
       "      <td>0.03880</td>\n",
       "      <td>0.535</td>\n",
       "      <td>0.000010</td>\n",
       "      <td>0.5550</td>\n",
       "      <td>-5.698</td>\n",
       "      <td>0.0506</td>\n",
       "      <td>0.0487</td>\n",
       "      <td>0</td>\n",
       "      <td>120.067</td>\n",
       "      <td>4</td>\n",
       "    </tr>\n",
       "    <tr>\n",
       "      <th>4</th>\n",
       "      <td>0.715</td>\n",
       "      <td>0.55300</td>\n",
       "      <td>0.633</td>\n",
       "      <td>0.000004</td>\n",
       "      <td>0.0905</td>\n",
       "      <td>-6.869</td>\n",
       "      <td>0.0804</td>\n",
       "      <td>0.3190</td>\n",
       "      <td>2</td>\n",
       "      <td>105.945</td>\n",
       "      <td>5</td>\n",
       "    </tr>\n",
       "  </tbody>\n",
       "</table>\n",
       "</div>"
      ],
      "text/plain": [
       "   danceability  acousticness  energy  instrumentalness  liveness  loudness  \\\n",
       "0         0.792       0.12400   0.511          0.000090    0.1400    -6.876   \n",
       "1         0.797       0.00538   0.516          0.438000    0.0728    -6.286   \n",
       "2         0.753       0.32600   0.680          0.000041    0.4230    -7.092   \n",
       "3         0.794       0.03880   0.535          0.000010    0.5550    -5.698   \n",
       "4         0.715       0.55300   0.633          0.000004    0.0905    -6.869   \n",
       "\n",
       "   speechiness  valence  key    tempo  time_signature  \n",
       "0       0.0409   0.1110    2  113.983               4  \n",
       "1       0.0832   0.0478    1  109.993               4  \n",
       "2       0.0349   0.1920    5  105.977               4  \n",
       "3       0.0506   0.0487    0  120.067               4  \n",
       "4       0.0804   0.3190    2  105.945               5  "
      ]
     },
     "metadata": {},
     "output_type": "display_data"
    },
    {
     "name": "stdout",
     "output_type": "stream",
     "text": [
      "\n"
     ]
    },
    {
     "data": {
      "text/html": [
       "<div>\n",
       "<style scoped>\n",
       "    .dataframe tbody tr th:only-of-type {\n",
       "        vertical-align: middle;\n",
       "    }\n",
       "\n",
       "    .dataframe tbody tr th {\n",
       "        vertical-align: top;\n",
       "    }\n",
       "\n",
       "    .dataframe thead th {\n",
       "        text-align: right;\n",
       "    }\n",
       "</style>\n",
       "<table border=\"1\" class=\"dataframe\">\n",
       "  <thead>\n",
       "    <tr style=\"text-align: right;\">\n",
       "      <th></th>\n",
       "      <th>danceability</th>\n",
       "      <th>acousticness</th>\n",
       "      <th>energy</th>\n",
       "      <th>instrumentalness</th>\n",
       "      <th>liveness</th>\n",
       "      <th>loudness</th>\n",
       "      <th>speechiness</th>\n",
       "      <th>valence</th>\n",
       "      <th>key</th>\n",
       "      <th>tempo</th>\n",
       "      <th>time_signature</th>\n",
       "    </tr>\n",
       "  </thead>\n",
       "  <tbody>\n",
       "    <tr>\n",
       "      <th>0</th>\n",
       "      <td>1.222827</td>\n",
       "      <td>-0.586916</td>\n",
       "      <td>-0.391683</td>\n",
       "      <td>-0.463130</td>\n",
       "      <td>-0.314730</td>\n",
       "      <td>0.344863</td>\n",
       "      <td>-0.442877</td>\n",
       "      <td>-1.490414</td>\n",
       "      <td>-0.909030</td>\n",
       "      <td>-0.199469</td>\n",
       "      <td>0.213119</td>\n",
       "    </tr>\n",
       "    <tr>\n",
       "      <th>1</th>\n",
       "      <td>1.252229</td>\n",
       "      <td>-0.951802</td>\n",
       "      <td>-0.371037</td>\n",
       "      <td>1.089028</td>\n",
       "      <td>-0.725405</td>\n",
       "      <td>0.462320</td>\n",
       "      <td>-0.055709</td>\n",
       "      <td>-1.743953</td>\n",
       "      <td>-1.186767</td>\n",
       "      <td>-0.337822</td>\n",
       "      <td>0.213119</td>\n",
       "    </tr>\n",
       "    <tr>\n",
       "      <th>2</th>\n",
       "      <td>0.993495</td>\n",
       "      <td>0.034455</td>\n",
       "      <td>0.306134</td>\n",
       "      <td>-0.463303</td>\n",
       "      <td>1.414749</td>\n",
       "      <td>0.301862</td>\n",
       "      <td>-0.497795</td>\n",
       "      <td>-1.165467</td>\n",
       "      <td>-0.075818</td>\n",
       "      <td>-0.477078</td>\n",
       "      <td>0.213119</td>\n",
       "    </tr>\n",
       "    <tr>\n",
       "      <th>3</th>\n",
       "      <td>1.234588</td>\n",
       "      <td>-0.848999</td>\n",
       "      <td>-0.292585</td>\n",
       "      <td>-0.463414</td>\n",
       "      <td>2.221431</td>\n",
       "      <td>0.579379</td>\n",
       "      <td>-0.354094</td>\n",
       "      <td>-1.740343</td>\n",
       "      <td>-1.464505</td>\n",
       "      <td>0.011495</td>\n",
       "      <td>0.213119</td>\n",
       "    </tr>\n",
       "    <tr>\n",
       "      <th>4</th>\n",
       "      <td>0.770044</td>\n",
       "      <td>0.732728</td>\n",
       "      <td>0.112066</td>\n",
       "      <td>-0.463434</td>\n",
       "      <td>-0.617236</td>\n",
       "      <td>0.346257</td>\n",
       "      <td>-0.081337</td>\n",
       "      <td>-0.655981</td>\n",
       "      <td>-0.909030</td>\n",
       "      <td>-0.478188</td>\n",
       "      <td>2.742220</td>\n",
       "    </tr>\n",
       "  </tbody>\n",
       "</table>\n",
       "</div>"
      ],
      "text/plain": [
       "   danceability  acousticness    energy  instrumentalness  liveness  loudness  \\\n",
       "0      1.222827     -0.586916 -0.391683         -0.463130 -0.314730  0.344863   \n",
       "1      1.252229     -0.951802 -0.371037          1.089028 -0.725405  0.462320   \n",
       "2      0.993495      0.034455  0.306134         -0.463303  1.414749  0.301862   \n",
       "3      1.234588     -0.848999 -0.292585         -0.463414  2.221431  0.579379   \n",
       "4      0.770044      0.732728  0.112066         -0.463434 -0.617236  0.346257   \n",
       "\n",
       "   speechiness   valence       key     tempo  time_signature  \n",
       "0    -0.442877 -1.490414 -0.909030 -0.199469        0.213119  \n",
       "1    -0.055709 -1.743953 -1.186767 -0.337822        0.213119  \n",
       "2    -0.497795 -1.165467 -0.075818 -0.477078        0.213119  \n",
       "3    -0.354094 -1.740343 -1.464505  0.011495        0.213119  \n",
       "4    -0.081337 -0.655981 -0.909030 -0.478188        2.742220  "
      ]
     },
     "metadata": {},
     "output_type": "display_data"
    }
   ],
   "source": [
    "## standardize\n",
    "scaler = StandardScaler()\n",
    "scaler.fit(X)\n",
    "X_scaled = scaler.transform(X)\n",
    "X_scaled_df = pd.DataFrame(X_scaled, columns = X.columns)\n",
    "display(X.head())\n",
    "print()\n",
    "display(X_scaled_df.head())"
   ]
  },
  {
   "cell_type": "code",
   "execution_count": 196,
   "id": "dc5e30eb",
   "metadata": {},
   "outputs": [
    {
     "data": {
      "text/plain": [
       "KMeans(n_clusters=10, random_state=42)"
      ]
     },
     "execution_count": 196,
     "metadata": {},
     "output_type": "execute_result"
    }
   ],
   "source": [
    "kmeans = KMeans(n_clusters=10, random_state=42)\n",
    "kmeans.fit(X_scaled_df)"
   ]
  },
  {
   "cell_type": "code",
   "execution_count": 197,
   "id": "32376749",
   "metadata": {},
   "outputs": [
    {
     "data": {
      "image/png": "[encoded data removed]",
      "text/plain": [
       "<Figure size 432x288 with 1 Axes>"
      ]
     },
     "metadata": {
      "needs_background": "light"
     },
     "output_type": "display_data"
    }
   ],
   "source": [
    "# assign a cluster to each example\n",
    "labels = kmeans.predict(X_scaled_df)\n",
    "# retrieve unique clusters\n",
    "clusters = np.unique(labels)\n",
    "# create scatter plot for samples from each cluster\n",
    "for cluster in clusters:\n",
    "    # get row indexes for samples with this cluster\n",
    "    row_ix = np.where(labels == cluster)\n",
    "    # create scatter of these samples\n",
    "    pyplot.scatter(X.to_numpy()[row_ix, 1], X.to_numpy()[row_ix, 2])\n",
    "    # show the plot\n",
    "pyplot.show()"
   ]
  },
  {
   "cell_type": "code",
   "execution_count": 198,
   "id": "836039e4",
   "metadata": {},
   "outputs": [
    {
     "data": {
      "text/plain": [
       "0    2511\n",
       "1    6345\n",
       "2    8634\n",
       "3    3728\n",
       "4    2591\n",
       "5    7449\n",
       "6    3570\n",
       "7    9738\n",
       "8     354\n",
       "9    2394\n",
       "dtype: int64"
      ]
     },
     "execution_count": 198,
     "metadata": {},
     "output_type": "execute_result"
    }
   ],
   "source": [
    "clusters = kmeans.predict(X_scaled_df)\n",
    "#clusters\n",
    "pd.Series(clusters).value_counts().sort_index()"
   ]
  },
  {
   "cell_type": "code",
   "execution_count": 199,
   "id": "28173f67",
   "metadata": {},
   "outputs": [
    {
     "data": {
      "text/html": [
       "<div>\n",
       "<style scoped>\n",
       "    .dataframe tbody tr th:only-of-type {\n",
       "        vertical-align: middle;\n",
       "    }\n",
       "\n",
       "    .dataframe tbody tr th {\n",
       "        vertical-align: top;\n",
       "    }\n",
       "\n",
       "    .dataframe thead th {\n",
       "        text-align: right;\n",
       "    }\n",
       "</style>\n",
       "<table border=\"1\" class=\"dataframe\">\n",
       "  <thead>\n",
       "    <tr style=\"text-align: right;\">\n",
       "      <th></th>\n",
       "      <th>danceability</th>\n",
       "      <th>acousticness</th>\n",
       "      <th>energy</th>\n",
       "      <th>instrumentalness</th>\n",
       "      <th>liveness</th>\n",
       "      <th>loudness</th>\n",
       "      <th>speechiness</th>\n",
       "      <th>valence</th>\n",
       "      <th>key</th>\n",
       "      <th>tempo</th>\n",
       "      <th>time_signature</th>\n",
       "    </tr>\n",
       "  </thead>\n",
       "  <tbody>\n",
       "    <tr>\n",
       "      <th>0</th>\n",
       "      <td>0.792</td>\n",
       "      <td>0.12400</td>\n",
       "      <td>0.511</td>\n",
       "      <td>0.000090</td>\n",
       "      <td>0.1400</td>\n",
       "      <td>-6.876</td>\n",
       "      <td>0.0409</td>\n",
       "      <td>0.1110</td>\n",
       "      <td>2</td>\n",
       "      <td>113.983</td>\n",
       "      <td>4</td>\n",
       "    </tr>\n",
       "    <tr>\n",
       "      <th>1</th>\n",
       "      <td>0.797</td>\n",
       "      <td>0.00538</td>\n",
       "      <td>0.516</td>\n",
       "      <td>0.438000</td>\n",
       "      <td>0.0728</td>\n",
       "      <td>-6.286</td>\n",
       "      <td>0.0832</td>\n",
       "      <td>0.0478</td>\n",
       "      <td>1</td>\n",
       "      <td>109.993</td>\n",
       "      <td>4</td>\n",
       "    </tr>\n",
       "    <tr>\n",
       "      <th>2</th>\n",
       "      <td>0.753</td>\n",
       "      <td>0.32600</td>\n",
       "      <td>0.680</td>\n",
       "      <td>0.000041</td>\n",
       "      <td>0.4230</td>\n",
       "      <td>-7.092</td>\n",
       "      <td>0.0349</td>\n",
       "      <td>0.1920</td>\n",
       "      <td>5</td>\n",
       "      <td>105.977</td>\n",
       "      <td>4</td>\n",
       "    </tr>\n",
       "    <tr>\n",
       "      <th>3</th>\n",
       "      <td>0.794</td>\n",
       "      <td>0.03880</td>\n",
       "      <td>0.535</td>\n",
       "      <td>0.000010</td>\n",
       "      <td>0.5550</td>\n",
       "      <td>-5.698</td>\n",
       "      <td>0.0506</td>\n",
       "      <td>0.0487</td>\n",
       "      <td>0</td>\n",
       "      <td>120.067</td>\n",
       "      <td>4</td>\n",
       "    </tr>\n",
       "    <tr>\n",
       "      <th>4</th>\n",
       "      <td>0.715</td>\n",
       "      <td>0.55300</td>\n",
       "      <td>0.633</td>\n",
       "      <td>0.000004</td>\n",
       "      <td>0.0905</td>\n",
       "      <td>-6.869</td>\n",
       "      <td>0.0804</td>\n",
       "      <td>0.3190</td>\n",
       "      <td>2</td>\n",
       "      <td>105.945</td>\n",
       "      <td>5</td>\n",
       "    </tr>\n",
       "  </tbody>\n",
       "</table>\n",
       "</div>"
      ],
      "text/plain": [
       "   danceability  acousticness  energy  instrumentalness  liveness  loudness  \\\n",
       "0         0.792       0.12400   0.511          0.000090    0.1400    -6.876   \n",
       "1         0.797       0.00538   0.516          0.438000    0.0728    -6.286   \n",
       "2         0.753       0.32600   0.680          0.000041    0.4230    -7.092   \n",
       "3         0.794       0.03880   0.535          0.000010    0.5550    -5.698   \n",
       "4         0.715       0.55300   0.633          0.000004    0.0905    -6.869   \n",
       "\n",
       "   speechiness  valence  key    tempo  time_signature  \n",
       "0       0.0409   0.1110    2  113.983               4  \n",
       "1       0.0832   0.0478    1  109.993               4  \n",
       "2       0.0349   0.1920    5  105.977               4  \n",
       "3       0.0506   0.0487    0  120.067               4  \n",
       "4       0.0804   0.3190    2  105.945               5  "
      ]
     },
     "execution_count": 199,
     "metadata": {},
     "output_type": "execute_result"
    }
   ],
   "source": [
    "#X_df = pd.DataFrame(X)\n",
    "# X[\"cluster\"] = clusters\n",
    "song_df[\"cluster\"] = clusters\n",
    "X.head()"
   ]
  },
  {
   "cell_type": "code",
   "execution_count": 200,
   "id": "e0517aca",
   "metadata": {},
   "outputs": [
    {
     "data": {
      "text/plain": [
       "255547.24272103424"
      ]
     },
     "execution_count": 200,
     "metadata": {},
     "output_type": "execute_result"
    }
   ],
   "source": [
    "kmeans.inertia_"
   ]
  },
  {
   "cell_type": "code",
   "execution_count": 201,
   "id": "ef695559",
   "metadata": {},
   "outputs": [
    {
     "name": "stdout",
     "output_type": "stream",
     "text": [
      "158624.617417217\n"
     ]
    }
   ],
   "source": [
    "kmeans2 = KMeans(n_clusters=50,\n",
    "                init=\"k-means++\",\n",
    "                n_init=10, \n",
    "                max_iter=10,\n",
    "                tol=0,\n",
    "                algorithm=\"elkan\",\n",
    "                random_state=42)\n",
    "kmeans2.fit(X_scaled_df)\n",
    "print(kmeans2.inertia_)"
   ]
  },
  {
   "cell_type": "code",
   "execution_count": 115,
   "id": "b18845fa",
   "metadata": {},
   "outputs": [],
   "source": [
    "def elbow_plot(this_X_scaled_df, k_min:[int]=2, k_max:[int]=21, save_fig_to:[str]=None):\n",
    "    K = range(k_min, k_max)\n",
    "    inertia = []\n",
    "\n",
    "    for k in K:\n",
    "        print(\"Number of clusters:\", k)\n",
    "        kmeans = KMeans(n_clusters=k,\n",
    "                        random_state=42)\n",
    "        kmeans.fit(this_X_scaled_df)\n",
    "        inertia.append(kmeans.inertia_)\n",
    "\n",
    "    import numpy as np\n",
    "    import matplotlib.pyplot as plt\n",
    "    %matplotlib inline\n",
    "\n",
    "    plt.figure(figsize=(16,8))\n",
    "    plt.plot(K, inertia, 'bx-')\n",
    "    plt.xlabel('k')\n",
    "    plt.ylabel('inertia')\n",
    "    plt.xticks(np.arange(min(K), max(K)+1, 1.0))\n",
    "    plt.title('Elbow Method showing the optimal k')\n",
    "    if save_fig_to:\n",
    "        plt.savefig(save_fig_to)"
   ]
  },
  {
   "cell_type": "code",
   "execution_count": 116,
   "id": "63a3e446",
   "metadata": {},
   "outputs": [],
   "source": [
    "def silhouette_plot(this_X_scaled_df, k_min:[int]=2, k_max:[int]=21, save_fig_to:[str]=None):\n",
    "    K = range(k_min, k_max)\n",
    "    silhouette = []\n",
    "\n",
    "    for k in K:\n",
    "        print(\"number of clusters\", k)\n",
    "        kmeans = KMeans(n_clusters=k,\n",
    "                        random_state=42)\n",
    "        kmeans.fit(this_X_scaled_df)\n",
    "\n",
    "        filename = \"Model/kmeans_\" + str(k) + \".pickle\"\n",
    "        with open(filename, \"wb\") as f:\n",
    "            pickle.dump(kmeans,f)\n",
    "\n",
    "        silhouette.append(silhouette_score(this_X_scaled_df, kmeans.predict(this_X_scaled_df)))\n",
    "\n",
    "    plt.figure(figsize=(16,8))\n",
    "    plt.plot(K, silhouette, 'bx-')\n",
    "    plt.xlabel('k')\n",
    "    plt.ylabel('silhouette score')\n",
    "    plt.xticks(np.arange(min(K), max(K)+1, 1.0))\n",
    "    plt.title('Silhouette Method showing the optimal k')\n",
    "    if save_fig_to:\n",
    "        plt.savefig(save_fig_to)"
   ]
  },
  {
   "cell_type": "code",
   "execution_count": 214,
   "id": "93970076",
   "metadata": {},
   "outputs": [
    {
     "name": "stdout",
     "output_type": "stream",
     "text": [
      "number of clusters 2\n",
      "number of clusters 3\n",
      "number of clusters 4\n",
      "number of clusters 5\n",
      "number of clusters 6\n",
      "number of clusters 7\n",
      "number of clusters 8\n",
      "number of clusters 9\n",
      "number of clusters 10\n",
      "number of clusters 11\n",
      "number of clusters 12\n",
      "number of clusters 13\n",
      "number of clusters 14\n",
      "number of clusters 15\n",
      "number of clusters 16\n",
      "number of clusters 17\n",
      "number of clusters 18\n",
      "number of clusters 19\n",
      "number of clusters 20\n"
     ]
    },
    {
     "data": {
      "image/png": "[encoded data removed]",
      "text/plain": [
       "<Figure size 1152x576 with 1 Axes>"
      ]
     },
     "metadata": {
      "needs_background": "light"
     },
     "output_type": "display_data"
    }
   ],
   "source": [
    "silhouette_plot(X_scaled_df, save_fig_to=\"./plots/silhouette02_18.png\")"
   ]
  },
  {
   "cell_type": "code",
   "execution_count": 117,
   "id": "8a8bcbf3",
   "metadata": {},
   "outputs": [],
   "source": [
    "import pickle\n",
    "\n",
    "#scaler = StandardScaler()\n",
    "#model = KMeans()\n",
    "\n",
    "with open(\"Model/scaler.pickle\", \"wb\") as f:\n",
    "    pickle.dump(scaler,f)\n",
    "\n",
    "with open(\"Model/kmeans_4.pickle\", \"wb\") as f:\n",
    "    pickle.dump(kmeans,f)"
   ]
  },
  {
   "cell_type": "code",
   "execution_count": 118,
   "id": "e88a561b",
   "metadata": {},
   "outputs": [],
   "source": [
    "def load(filename = \"filename.pickle\"): \n",
    "    try: \n",
    "        with open(filename, \"rb\") as f: \n",
    "            return pickle.load(f) \n",
    "        \n",
    "    except FileNotFoundError: \n",
    "        print(\"File not found!\") \n"
   ]
  },
  {
   "cell_type": "markdown",
   "id": "546b39fc",
   "metadata": {},
   "source": [
    "## Input Song "
   ]
  },
  {
   "cell_type": "markdown",
   "id": "a2231a2b",
   "metadata": {},
   "source": [
    "### Step by step"
   ]
  },
  {
   "cell_type": "code",
   "execution_count": 188,
   "id": "753e1fe4",
   "metadata": {},
   "outputs": [
    {
     "name": "stdout",
     "output_type": "stream",
     "text": [
      "What song are you looking for? eine kleine nachtmusik\n",
      "Song not found in local database, searching on Spotify.\n",
      "Following artists found for \"eine kleine nachtmusik\":\n",
      " \n",
      " + 1: Music Box Orchestra\n",
      " + 2: Wolfgang Amadeus Mozart\n",
      " + 3: IYASHINOOTO\n",
      " + 4: London Symphony Orchestra\n",
      " + 5: Wolfgang Amadeus Mozart\n",
      " + 6: Academy of St. Martin in the Fields\n",
      " + 7: Chill Fruits Music\n",
      " + 8: Wolfgang Amadeus Mozart\n",
      " + 9: Wolfgang Amadeus Mozart\n",
      " + 10: Music Box Orchestra\n",
      " + 11: Wolfgang Amadeus Mozart\n",
      " + 12: Wolfgang Amadeus Mozart\n",
      " + 13: Wolfgang Amadeus Mozart\n",
      " + 14: Wolfgang Amadeus Mozart\n",
      " + 15: Wolfgang Amadeus Mozart\n",
      "Please specify your entry (1 to 15): 2\n"
     ]
    },
    {
     "data": {
      "text/plain": [
       "array([[ 5.14000e-01,  1.60000e-01,  7.00000e+00, -1.76050e+01,\n",
       "         5.45000e-02,  9.06000e-01,  9.64000e-01,  9.83000e-02,\n",
       "         5.34000e-01,  1.35197e+02,  4.00000e+00]])"
      ]
     },
     "execution_count": 188,
     "metadata": {},
     "output_type": "execute_result"
    }
   ],
   "source": [
    "song_array = user_input_get_features(song_df)\n",
    "song_array"
   ]
  },
  {
   "cell_type": "code",
   "execution_count": null,
   "id": "aa3c4a74",
   "metadata": {},
   "outputs": [],
   "source": []
  },
  {
   "cell_type": "code",
   "execution_count": 45,
   "id": "aa8a4956",
   "metadata": {},
   "outputs": [
    {
     "data": {
      "text/plain": [
       "[{'danceability': 0.701,\n",
       "  'energy': 0.425,\n",
       "  'key': 7,\n",
       "  'loudness': -10.965,\n",
       "  'speechiness': 0.375,\n",
       "  'acousticness': 0.328,\n",
       "  'instrumentalness': 0.13,\n",
       "  'liveness': 0.1,\n",
       "  'valence': 0.562,\n",
       "  'tempo': 135.128,\n",
       "  'time_signature': 4}]"
      ]
     },
     "execution_count": 45,
     "metadata": {},
     "output_type": "execute_result"
    }
   ],
   "source": [
    "song=\"Bad guy\"\n",
    "x=sp.search(song, limit=15)\n",
    "song_info=sp.audio_features([x[\"tracks\"][\"items\"][0][\"id\"]])\n",
    "remove_list = ['mode', 'duration_ms', 'id', 'type', 'uri', 'track_href', 'analysis_url'] #remove features not used in the model\n",
    "[song_info[0].pop(key) for key in remove_list] \n",
    "song_info"
   ]
  },
  {
   "cell_type": "code",
   "execution_count": 47,
   "id": "eeeccd8f",
   "metadata": {},
   "outputs": [],
   "source": []
  },
  {
   "cell_type": "code",
   "execution_count": 90,
   "id": "cc95c662",
   "metadata": {},
   "outputs": [],
   "source": [
    "def get_unknown_song_array(this_song:[str]=None):\n",
    "    if not this_song:\n",
    "        print(\"no song provided.\")\n",
    "        return None\n",
    "    x=sp.search(this_song, limit=15)\n",
    "    if not x[\"tracks\"][\"items\"]:\n",
    "        print(\"song is not on spotify.\")\n",
    "        return None\n",
    "    if len(x[\"tracks\"][\"items\"]) == 1:\n",
    "        pass\n",
    "    else:\n",
    "        artists_of_this_song = []\n",
    "        for _ in range(len(x[\"tracks\"][\"items\"])):\n",
    "            artists_of_this_song.append(x[\"tracks\"][\"items\"][_][\"artists\"][0][\"name\"])\n",
    "        # artists_of_this_song = sorted(set(artists_of_this_song), key=lambda x: x.lower())\n",
    "        print(f'Following artists found for \"{this_song}\":\\n ')\n",
    "        c = 0\n",
    "        for a in artists_of_this_song:\n",
    "            c += 1\n",
    "            print(f\" + {c}: {a}\")\n",
    "        user_choice = 241\n",
    "        while 0 > int(user_choice) or int(user_choice) > len(artists_of_this_song) + 1:\n",
    "            user_choice = input(f\"Please specify your entry (1 to {len(artists_of_this_song)}): \")\n",
    "            if user_choice.isnumeric() == False:\n",
    "                print(\"please check entry.\")\n",
    "                user_choice = len(artists_of_this_song) + 2   # +2 to create a wrong int and run another while loop \n",
    "            if 0 > int(user_choice) > len(song_hits) + 1:\n",
    "                print(\"please check entry.\")\n",
    "        # print((x[\"tracks\"][\"items\"][int(user_choice)-1][\"artists\"][0][\"name\"]))\n",
    "        song_info=sp.audio_features([x[\"tracks\"][\"items\"][int(user_choice)-1][\"id\"]])\n",
    "        remove_list = ['mode', 'duration_ms', 'id', 'type', 'uri', 'track_href', 'analysis_url'] #remove features not used in the model\n",
    "        [song_info[0].pop(key) for key in remove_list] \n",
    "        song_list=list(song_info[0].values())\n",
    "        song_list\n",
    "        song_array = np.array(song_list).reshape(1, -1)\n",
    "        song_array\n",
    "        return song_array"
   ]
  },
  {
   "cell_type": "code",
   "execution_count": 91,
   "id": "54c5fdcb",
   "metadata": {},
   "outputs": [],
   "source": [
    "# x = get_unknown_song_array(\"The Monster\")\n",
    "# x"
   ]
  },
  {
   "cell_type": "code",
   "execution_count": 79,
   "id": "513a3510",
   "metadata": {},
   "outputs": [
    {
     "name": "stdout",
     "output_type": "stream",
     "text": [
      "Following artists found for \"Hallo Mutter\":\n",
      " \n",
      " + 1: Eure Mütter\n",
      " + 2: Eure Mütter\n",
      " + 3: Monster Mash Halloween\n",
      " + 4: Haunted House Music\n",
      " + 5: Halloween Sounds\n",
      " + 6: Edvard Grieg\n",
      " + 7: Hansl Krönauer\n",
      " + 8: Mutterage\n",
      " + 9: Halloween Halloween\n",
      " + 10: Halloween Halloween\n",
      " + 11: Halloween Sounds\n",
      " + 12: Screaming Halloween\n",
      " + 13: Halloween Music\n",
      " + 14: Halloween Sounds\n",
      " + 15: Halloween Sounds\n",
      "Please specify your entry (1 to 15): 1\n",
      "Eure Mütter\n"
     ]
    }
   ],
   "source": [
    "find_unknown_song()"
   ]
  },
  {
   "cell_type": "code",
   "execution_count": null,
   "id": "f69b3af8",
   "metadata": {},
   "outputs": [],
   "source": [
    "def user_song_search():\n",
    "    user_song = input(\"What song are you looking for? \")\n",
    "    "
   ]
  },
  {
   "cell_type": "code",
   "execution_count": null,
   "id": "15bf7f36",
   "metadata": {},
   "outputs": [],
   "source": []
  },
  {
   "cell_type": "code",
   "execution_count": null,
   "id": "c302f72a",
   "metadata": {},
   "outputs": [],
   "source": []
  },
  {
   "cell_type": "code",
   "execution_count": null,
   "id": "b8b779d1",
   "metadata": {},
   "outputs": [],
   "source": [
    "song_list=list(song_info[0].values())\n",
    "song_list"
   ]
  },
  {
   "cell_type": "code",
   "execution_count": null,
   "id": "fa9ef0fe",
   "metadata": {},
   "outputs": [],
   "source": [
    "song_array = np.array(song_list).reshape(1, -1)\n",
    "song_array"
   ]
  },
  {
   "cell_type": "code",
   "execution_count": null,
   "id": "a6461336",
   "metadata": {},
   "outputs": [],
   "source": []
  },
  {
   "cell_type": "code",
   "execution_count": null,
   "id": "ccfc3bbf",
   "metadata": {},
   "outputs": [],
   "source": []
  },
  {
   "cell_type": "code",
   "execution_count": 208,
   "id": "930634d2",
   "metadata": {},
   "outputs": [
    {
     "name": "stdout",
     "output_type": "stream",
     "text": [
      "What song are you looking for? You should see me in a crown\n"
     ]
    }
   ],
   "source": [
    "song_array = user_input_get_features(song_df)"
   ]
  },
  {
   "cell_type": "code",
   "execution_count": 176,
   "id": "9cb32788",
   "metadata": {},
   "outputs": [
    {
     "data": {
      "text/plain": [
       "1"
      ]
     },
     "execution_count": 176,
     "metadata": {},
     "output_type": "execute_result"
    }
   ],
   "source": [
    "len(song_array)"
   ]
  },
  {
   "cell_type": "code",
   "execution_count": 209,
   "id": "c06072e5",
   "metadata": {},
   "outputs": [
    {
     "name": "stderr",
     "output_type": "stream",
     "text": [
      "C:\\Users\\roman\\Python\\anaconda\\envs\\DA_Env\\lib\\site-packages\\sklearn\\base.py:445: UserWarning: X does not have valid feature names, but StandardScaler was fitted with feature names\n",
      "  warnings.warn(\n"
     ]
    },
    {
     "data": {
      "text/plain": [
       "array([[ 5.52472878e-01,  6.71206041e-01,  1.40147162e+01,\n",
       "        -3.76272308e+01, -3.36131709e-02,  1.80570888e+00,\n",
       "         1.18725877e+00, -1.37808640e+00, -1.37479546e+00,\n",
       "         1.06520435e+00,  2.13119292e-01]])"
      ]
     },
     "execution_count": 209,
     "metadata": {},
     "output_type": "execute_result"
    }
   ],
   "source": [
    "#standardize input song \n",
    "#X.drop(['cluster'], axis = 1, inplace = True)\n",
    "#scaler = StandardScaler().fit(song_array)\n",
    "scaled_song = scaler.transform(song_array)\n",
    "scaled_song"
   ]
  },
  {
   "cell_type": "code",
   "execution_count": 210,
   "id": "101df28b",
   "metadata": {},
   "outputs": [
    {
     "name": "stderr",
     "output_type": "stream",
     "text": [
      "C:\\Users\\roman\\Python\\anaconda\\envs\\DA_Env\\lib\\site-packages\\sklearn\\base.py:445: UserWarning: X does not have valid feature names, but KMeans was fitted with feature names\n",
      "  warnings.warn(\n"
     ]
    },
    {
     "data": {
      "text/plain": [
       "1"
      ]
     },
     "execution_count": 210,
     "metadata": {},
     "output_type": "execute_result"
    }
   ],
   "source": [
    "# predict the cluster with kmeans\n",
    "cluster_pred = kmeans.predict(scaled_song)[0]\n",
    "cluster_pred"
   ]
  },
  {
   "cell_type": "code",
   "execution_count": 211,
   "id": "3b0a34a4",
   "metadata": {},
   "outputs": [
    {
     "data": {
      "text/plain": [
       "43538"
      ]
     },
     "execution_count": 211,
     "metadata": {},
     "output_type": "execute_result"
    }
   ],
   "source": [
    "#get a random song from the same cluster\n",
    "index_song = song_df[song_df['cluster']==cluster_pred].sample().index[0]\n",
    "index_song"
   ]
  },
  {
   "cell_type": "code",
   "execution_count": 212,
   "id": "f5a7a491",
   "metadata": {},
   "outputs": [
    {
     "data": {
      "text/plain": [
       "'1oLDaVcNF02KpFTotGQrG3'"
      ]
     },
     "execution_count": 212,
     "metadata": {},
     "output_type": "execute_result"
    }
   ],
   "source": [
    "#get the id of random song\n",
    "id_song = song_df.iloc[index_song]['id']\n",
    "id_song"
   ]
  },
  {
   "cell_type": "code",
   "execution_count": 213,
   "id": "fbdcfcba",
   "metadata": {},
   "outputs": [
    {
     "name": "stdout",
     "output_type": "stream",
     "text": [
      "Heart On by Eagles Of Death Metal\n"
     ]
    }
   ],
   "source": [
    "#look for the name of the song\n",
    "song_name=sp.track(id_song)[\"name\"]\n",
    "artists_name = sp.track(id_song)[\"artists\"][0][\"name\"]\n",
    "\n",
    "print(f\"{song_name} by {artists_name}\")"
   ]
  },
  {
   "cell_type": "code",
   "execution_count": 157,
   "id": "eae1d314",
   "metadata": {},
   "outputs": [
    {
     "name": "stdout",
     "output_type": "stream",
     "text": [
      "Backstreet Boys\n"
     ]
    }
   ],
   "source": []
  },
  {
   "cell_type": "markdown",
   "id": "11e80e0f",
   "metadata": {},
   "source": [
    "### Final function for song recommender"
   ]
  },
  {
   "cell_type": "code",
   "execution_count": null,
   "id": "b043972a",
   "metadata": {},
   "outputs": [],
   "source": [
    "#get a random song from the same cluster: put it together\n",
    "def get_random_song_cluster(song):\n",
    "    x=sp.search(song, limit=1)\n",
    "    song_info=sp.audio_features([x[\"tracks\"][\"items\"][0][\"id\"]])\n",
    "    #remove features not used in the model\n",
    "    remove_list = ['mode', 'duration_ms', 'id', 'type', 'uri', 'track_href', 'analysis_url'] \n",
    "    [song_info[0].pop(key) for key in remove_list]\n",
    "    song_list=list(song_info[0].values())\n",
    "    #get song_array\n",
    "    song_array = np.array(song_list).reshape(1, -1)\n",
    "    #get song_array scaled \n",
    "    scaled_song = scaler.transform(song_array)\n",
    "    #predict cluster\n",
    "    cluster_pred = kmeans.predict(scaled_song)[0]\n",
    "    #get a random song from the same cluster\n",
    "    index_song = X[X['cluster']==cluster_pred].sample().index[0]\n",
    "    #get the id of random song\n",
    "    id_song = song_df.iloc[index_song]['id']\n",
    "    \n",
    "    return print(sp.track(id_song)[\"name\"], \" by \", sp.track(id_song)[\"artists\"][0][\"name\"])"
   ]
  },
  {
   "cell_type": "code",
   "execution_count": null,
   "id": "6ab1c8e1",
   "metadata": {},
   "outputs": [],
   "source": [
    "#test the function\n",
    "get_random_song_cluster(\"Radioactive\")"
   ]
  }
 ],
 "metadata": {
  "kernelspec": {
   "display_name": "Python 3 (ipykernel)",
   "language": "python",
   "name": "python3"
  },
  "language_info": {
   "codemirror_mode": {
    "name": "ipython",
    "version": 3
   },
   "file_extension": ".py",
   "mimetype": "text/x-python",
   "name": "python",
   "nbconvert_exporter": "python",
   "pygments_lexer": "ipython3",
   "version": "3.9.7"
  },
  "toc": {
   "base_numbering": 1,
   "nav_menu": {},
   "number_sections": true,
   "sideBar": true,
   "skip_h1_title": true,
   "title_cell": "Table of Contents",
   "title_sidebar": "Contents",
   "toc_cell": false,
   "toc_position": {},
   "toc_section_display": true,
   "toc_window_display": false
  },
  "varInspector": {
   "cols": {
    "lenName": 16,
    "lenType": 16,
    "lenVar": 40
   },
   "kernels_config": {
    "python": {
     "delete_cmd_postfix": "",
     "delete_cmd_prefix": "del ",
     "library": "var_list.py",
     "varRefreshCmd": "print(var_dic_list())"
    },
    "r": {
     "delete_cmd_postfix": ") ",
     "delete_cmd_prefix": "rm(",
     "library": "var_list.r",
     "varRefreshCmd": "cat(var_dic_list()) "
    }
   },
   "types_to_exclude": [
    "module",
    "function",
    "builtin_function_or_method",
    "instance",
    "_Feature"
   ],
   "window_display": false
  }
 },
 "nbformat": 4,
 "nbformat_minor": 5
}
