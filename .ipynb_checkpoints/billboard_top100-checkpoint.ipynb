{
 "cells": [
  {
   "cell_type": "code",
   "execution_count": 1,
   "id": "8dfbadc4",
   "metadata": {},
   "outputs": [],
   "source": [
    "import bs4\n",
    "import requests\n",
    "import pandas as pd\n",
    "import random\n",
    "import os\n",
    "import datetime as dt\n",
    "import time"
   ]
  },
  {
   "cell_type": "code",
   "execution_count": 2,
   "id": "8bda7a37",
   "metadata": {},
   "outputs": [],
   "source": [
    "def get_billboard_hot100(save_to_csv:[bool]=False, fp:[str]=None):\n",
    "    \"\"\"visit website, scrape the hot 100 songs and artists and return it as df\"\"\"\n",
    "    response = requests.get(url=\"https://www.billboard.com/charts/hot-100/index.php\")\n",
    "    response.raise_for_status()\n",
    "    website = response.text                             # read out the html code as text\n",
    "    soup = bs4.BeautifulSoup(website, \"html.parser\")    # make soup\n",
    "    li_items = soup.select(\"li.lrv-u-width-100p\")\n",
    "    \n",
    "    songs = []\n",
    "    artists = []\n",
    "    for _ in range(len(li_items)):\n",
    "        if _ % 2 == 0:\n",
    "            this_scraped = li_items[_].get_text().replace(\"\\n\",\"_\")\n",
    "            this_entry = []\n",
    "            for c in this_scraped.split(\"_\"):\n",
    "                if c != \"\" and len(c) > 1:\n",
    "                    this_entry.append(c)\n",
    "                    if len(this_entry) == 2:\n",
    "                        break\n",
    "            songs.append(this_entry[0])\n",
    "            artists.append(this_entry[1])\n",
    "    if save_to_csv:\n",
    "        if fp:\n",
    "            try:\n",
    "                pd.DataFrame({\"song\":songs, \"artist\":artists}).to_csv(fp, index=False, mode=\"w+\", sep=\";\")\n",
    "            except PermissionError:\n",
    "                print(\"File already exists.\")\n",
    "        else:\n",
    "            print(\"No filepath given.\")\n",
    "    return pd.DataFrame({\"song\":songs, \"artist\":artists})"
   ]
  },
  {
   "cell_type": "code",
   "execution_count": 3,
   "id": "93d3b107",
   "metadata": {},
   "outputs": [],
   "source": [
    "def find_song_or_artists(user_entry:[str]=None, fp:[str]=None):\n",
    "    if not fp:\n",
    "        print(\"no filepath given.\")\n",
    "        return \n",
    "    try:\n",
    "        music_df = pd.read_csv(fp, sep=\";\")\n",
    "    except FileNotFoundError:\n",
    "        print( \"file not found\")\n",
    "        return\n",
    "    else:   \n",
    "        song_lst = music_df[\"song\"].tolist()\n",
    "        artist_lst = music_df[\"artist\"].tolist()\n",
    "        hit_lst = []    # entries will be tuple in form (direct match: 0 or 1, \"s\"ong or \"a\"rtist, index in df)\n",
    "        for song in range(len(song_lst)):\n",
    "            if user_entry.lower() == song_lst[song].lower():\n",
    "                hit_lst.append((1, \"s\", song))\n",
    "            elif user_entry.lower() in song_lst[song].lower():\n",
    "                hit_lst.append((0, \"s\", song))\n",
    "        for artist in range(len(artist_lst)):\n",
    "            if user_entry.lower() == artist_lst[artist].lower():\n",
    "                hit_lst.append((1, \"a\", artist))\n",
    "            elif user_entry.lower() in artist_lst[artist].lower():\n",
    "                hit_lst.append((0, \"a\", artist))\n",
    "        return (hit_lst)"
   ]
  },
  {
   "cell_type": "code",
   "execution_count": 4,
   "id": "4006eddd",
   "metadata": {},
   "outputs": [],
   "source": [
    " def print_result(result_tup:[tuple] = None, fp:[str]=None):\n",
    "    if not fp:\n",
    "        print(\"no filepath given.\")\n",
    "        return \n",
    "    try:\n",
    "        music_df = pd.read_csv(fp, sep=\";\")\n",
    "    except FileNotFoundError:\n",
    "        print(\"file not found\")\n",
    "        return\n",
    "    else:\n",
    "        this_artist = music_df.iloc[result_tup[2]][\"artist\"]\n",
    "        this_song = music_df.iloc[result_tup[2]][\"song\"]\n",
    "        print(f\"{this_song} by {this_artist} on place {result_tup[2]+1}\")"
   ]
  },
  {
   "cell_type": "code",
   "execution_count": 5,
   "id": "86e5c8ae",
   "metadata": {},
   "outputs": [],
   "source": [
    "def return_random(this_rank:[int]=None, fp:[str]=None):\n",
    "    if not fp:\n",
    "        print(\"no filepath given.\")\n",
    "        return \n",
    "    if not this_rank:\n",
    "        print(\"no rank given\")\n",
    "        return\n",
    "    try:\n",
    "        music_df = pd.read_csv(fp, sep=\";\")\n",
    "    except FileNotFoundError:\n",
    "        print(\"file not found\")\n",
    "        return\n",
    "    else:\n",
    "        recom_index = random.randint(0,99)\n",
    "        while recom_index == this_rank:\n",
    "            recom_index = random.randint(0,99)\n",
    "        reco_artist = music_df.iloc[recom_index][\"artist\"]\n",
    "        reco_song = music_df.iloc[recom_index][\"song\"]\n",
    "        print(f\"Another entry from Billboard Hot 100 would be {reco_artist} with {reco_song} currently on place {recom_index +1}.\")"
   ]
  },
  {
   "cell_type": "code",
   "execution_count": 6,
   "id": "0e785fd7",
   "metadata": {},
   "outputs": [],
   "source": [
    "def user_search():\n",
    "    while True:\n",
    "        user = input(\"What are you looking for? \")\n",
    "        if user == \"end_now\":\n",
    "            break\n",
    "        results = find_song_or_artists(user, \"../data/billboard_hot100.csv\")\n",
    "        if len(results) == 0:\n",
    "            print(\"No match found\")\n",
    "            continue\n",
    "        if len(results) == 1:\n",
    "            if results[0][0] == 1:\n",
    "                print(\"Direct Match:\")\n",
    "                print_result(results[0],fp=\"../data/billboard_hot100.csv\")\n",
    "                return_random(results[0][2], fp=\"../data/billboard_hot100.csv\")\n",
    "        else:\n",
    "            print(\"Partial Matches:\")\n",
    "            for i in range(len(results)):\n",
    "                print(f\" + {i+1}: \",end=\"\")\n",
    "                print_result(results[i],fp=\"../data/billboard_hot100.csv\")\n",
    "            specify = 241\n",
    "            while 0 > int(specify) or int(specify) > len(results)+1:\n",
    "                specify = input(f\"Please specify your entry (1 to {i+1}): \")\n",
    "                if specify.isnumeric() == False:\n",
    "                    print(\"please check entry.\")\n",
    "                    specify = len(results)+2\n",
    "                if 0 > int(specify) > len(results)+1:\n",
    "                    print(\"please check entry.\")\n",
    "                    specify = len(results)+2\n",
    "            print(\" - - -\\nMatch:\")\n",
    "            print_result(results[int(specify)-1],fp=\"../data/billboard_hot100.csv\")\n",
    "            return_random(results[int(specify)-1][2], fp=\"../data/billboard_hot100.csv\")\n",
    "        print(\"\\n ************** new request *************\\n\")"
   ]
  },
  {
   "cell_type": "code",
   "execution_count": 7,
   "id": "2d038af3",
   "metadata": {},
   "outputs": [],
   "source": [
    "def check_last_update_hot100(fp:[str] = None):\n",
    "    current_tuesday = None\n",
    "    if dt.datetime.now().strftime('%A') != \"Tuesday\":\n",
    "        for d in range(1, 7):\n",
    "            if (dt.datetime.now() - dt.timedelta(d)).strftime(\"%A\") == \"Monday\":\n",
    "                current_tuesday = (dt.datetime.now() - dt.timedelta(d)).strftime(\"%Y_%m_%d\")\n",
    "    else:\n",
    "        current_tuesday = dt.datetime.now().strftime(\"%Y_%m_%d\")\n",
    "    mod_time_since_epoc = os.path.getmtime(fp)\n",
    "    # Convert seconds since epoch to readable timestamp\n",
    "    modification_time = time.strftime('%Y_%m_%d', time.localtime(mod_time_since_epoc))\n",
    "    if current_tuesday <= modification_time:\n",
    "        next_update = dt.datetime.strptime(modification_time, \"%Y_%m_%d\")+dt.timedelta(7)\n",
    "        print(f\"File is up to date (next update expected for {dt.datetime.strftime(next_update, '%d.%m.%Y')}).\")\n",
    "        return False"
   ]
  },
  {
   "cell_type": "code",
   "execution_count": 8,
   "id": "4dc33b86",
   "metadata": {},
   "outputs": [],
   "source": [
    "def update_billboard_hot100():\n",
    "    if not check_last_update_hot100(fp=\"../data/billboard_hot100.csv\"):\n",
    "        if input(\"Update anyway (Y/n): \") == \"Y\":\n",
    "            get_billboard_hot100(save_to_csv=True, fp=\"../data/billboard_hot100.csv\")\n",
    "    else:\n",
    "        get_billboard_hot100(save_to_csv=True, fp=\"../data/billboard_hot100.csv\")"
   ]
  },
  {
   "cell_type": "code",
   "execution_count": 10,
   "id": "348133d0",
   "metadata": {},
   "outputs": [
    {
     "name": "stdout",
     "output_type": "stream",
     "text": [
      "File is up to date (next update expected for 22.02.2022).\n",
      "Update anyway (Y/n): n\n"
     ]
    }
   ],
   "source": [
    "update_billboard_hot100()\n"
   ]
  },
  {
   "cell_type": "code",
   "execution_count": 11,
   "id": "a0dc2c22",
   "metadata": {},
   "outputs": [
    {
     "name": "stdout",
     "output_type": "stream",
     "text": [
      "What are you looking for? Stay\n",
      "Direct Match:\n",
      "Stay by The Kid LAROI & Justin Bieber on place 5\n",
      "Another entry from Billboard Hot 100 would be Jordan Davis Featuring Luke Bryan with Buy Dirt currently on place 35.\n",
      "\n",
      " ************** new request *************\n",
      "\n",
      "What are you looking for? Bad guy\n",
      "No match found\n",
      "What are you looking for? end_now\n"
     ]
    }
   ],
   "source": [
    "user_search()"
   ]
  },
  {
   "cell_type": "code",
   "execution_count": null,
   "id": "1d626744",
   "metadata": {},
   "outputs": [],
   "source": []
  }
 ],
 "metadata": {
  "kernelspec": {
   "display_name": "Python 3 (ipykernel)",
   "language": "python",
   "name": "python3"
  },
  "language_info": {
   "codemirror_mode": {
    "name": "ipython",
    "version": 3
   },
   "file_extension": ".py",
   "mimetype": "text/x-python",
   "name": "python",
   "nbconvert_exporter": "python",
   "pygments_lexer": "ipython3",
   "version": "3.9.7"
  },
  "toc": {
   "base_numbering": 1,
   "nav_menu": {},
   "number_sections": true,
   "sideBar": true,
   "skip_h1_title": false,
   "title_cell": "Table of Contents",
   "title_sidebar": "Contents",
   "toc_cell": false,
   "toc_position": {},
   "toc_section_display": true,
   "toc_window_display": false
  },
  "varInspector": {
   "cols": {
    "lenName": 16,
    "lenType": 16,
    "lenVar": 40
   },
   "kernels_config": {
    "python": {
     "delete_cmd_postfix": "",
     "delete_cmd_prefix": "del ",
     "library": "var_list.py",
     "varRefreshCmd": "print(var_dic_list())"
    },
    "r": {
     "delete_cmd_postfix": ") ",
     "delete_cmd_prefix": "rm(",
     "library": "var_list.r",
     "varRefreshCmd": "cat(var_dic_list()) "
    }
   },
   "types_to_exclude": [
    "module",
    "function",
    "builtin_function_or_method",
    "instance",
    "_Feature"
   ],
   "window_display": false
  }
 },
 "nbformat": 4,
 "nbformat_minor": 5
}
