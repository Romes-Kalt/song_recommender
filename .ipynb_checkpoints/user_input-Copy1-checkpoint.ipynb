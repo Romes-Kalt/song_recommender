{
 "cells": [
  {
   "cell_type": "code",
   "execution_count": 3,
   "id": "fa65cb8b",
   "metadata": {},
   "outputs": [],
   "source": [
    "import pandas as pd\n",
    "import codecs\n",
    "import random"
   ]
  },
  {
   "cell_type": "code",
   "execution_count": 14,
   "id": "358a6091",
   "metadata": {},
   "outputs": [],
   "source": [
    "def find_song_or_artists(user_entry:[str]=None, fp:[str]=None):\n",
    "    if not fp:\n",
    "        print(\"no filepath given.\")\n",
    "        return \n",
    "    try:\n",
    "        music_df = pd.read_csv(fp, sep=\";\")\n",
    "    except FileNotFoundError:\n",
    "        print( \"file not found\")\n",
    "        return\n",
    "    else:   \n",
    "        song_lst = music_df[\"song\"].tolist()\n",
    "        artist_lst = music_df[\"artist\"].tolist()\n",
    "        hit_lst = []    # entries will be tuple in form (direct match: 0 or 1, \"s\"ong or \"a\"rtist, index in df)\n",
    "        for song in range(len(song_lst)):\n",
    "            if user_entry.lower() == song_lst[song].lower():\n",
    "                hit_lst.append((1, \"s\", song))\n",
    "            elif user_entry.lower() in song_lst[song].lower():\n",
    "                hit_lst.append((0, \"s\", song))\n",
    "        for artist in range(len(artist_lst)):\n",
    "            if user_entry.lower() == artist_lst[artist].lower():\n",
    "                hit_lst.append((1, \"a\", artist))\n",
    "            elif user_entry.lower() in artist_lst[artist].lower():\n",
    "                hit_lst.append((0, \"a\", artist))\n",
    "        return (hit_lst)"
   ]
  },
  {
   "cell_type": "code",
   "execution_count": 15,
   "id": "f7f48cc9",
   "metadata": {},
   "outputs": [],
   "source": [
    "def return_random(this_rank:[int]=None, fp:[str]=None):\n",
    "    if not fp:\n",
    "        print(\"no filepath given.\")\n",
    "        return \n",
    "    if not this_rank:\n",
    "        print(\"no rank given\")\n",
    "        return\n",
    "    try:\n",
    "        music_df = pd.read_csv(fp, sep=\";\")\n",
    "    except FileNotFoundError:\n",
    "        print(\"file not found\")\n",
    "        return\n",
    "    else:\n",
    "        recom_index = random.randint(0,99)\n",
    "        while recom_index == this_rank:\n",
    "            recom_index = random.randint(0,99)\n",
    "        reco_artist = music_df.iloc[recom_index][\"artist\"]\n",
    "        reco_song = music_df.iloc[recom_index][\"song\"]\n",
    "        print(f\"Another entry from Billboard Hot 100 would be {reco_artist} with {reco_song} currently on place {recom_index +1}.\")"
   ]
  },
  {
   "cell_type": "code",
   "execution_count": 16,
   "id": "45c3d727",
   "metadata": {},
   "outputs": [],
   "source": [
    "def check_last_update_hot100(fp:[str] = None):\n",
    "    current_tuesday = None\n",
    "    if dt.datetime.now().strftime('%A') != \"Tuesday\":\n",
    "        for d in range(1, 7):\n",
    "            if (dt.datetime.now() - dt.timedelta(d)).strftime(\"%A\") == \"Monday\":\n",
    "                current_tuesday = (dt.datetime.now() - dt.timedelta(d)).strftime(\"%Y_%m_%d\")\n",
    "    else:\n",
    "        current_tuesday = dt.datetime.now().strftime(\"%Y_%m_%d\")\n",
    "    mod_time_since_epoc = os.path.getmtime(fp)\n",
    "    # Convert seconds since epoch to readable timestamp\n",
    "    modification_time = time.strftime('%Y_%m_%d', time.localtime(mod_time_since_epoc))\n",
    "    if current_tuesday <= modification_time:\n",
    "        next_update = dt.datetime.strptime(modification_time, \"%Y_%m_%d\")+dt.timedelta(7)\n",
    "        print(f\"File is up to date (next update expected for {dt.datetime.strftime(next_update, '%d.%m.%Y')}).\")\n",
    "        return False"
   ]
  },
  {
   "cell_type": "code",
   "execution_count": 17,
   "id": "f176c367",
   "metadata": {},
   "outputs": [],
   "source": [
    "def print_result(result_tup:[tuple] = None, fp:[str]=None):\n",
    "    if not fp:\n",
    "        print(\"no filepath given.\")\n",
    "        return \n",
    "    try:\n",
    "        music_df = pd.read_csv(fp, sep=\";\")\n",
    "    except FileNotFoundError:\n",
    "        print(\"file not found\")\n",
    "        return\n",
    "    else:\n",
    "        this_artist = music_df.iloc[result_tup[2]][\"artist\"]\n",
    "        this_song = music_df.iloc[result_tup[2]][\"song\"]\n",
    "        print(f\"{this_song} by {this_artist} on place {result_tup[2]+1}\")"
   ]
  },
  {
   "cell_type": "code",
   "execution_count": 18,
   "id": "9b563f7f",
   "metadata": {},
   "outputs": [],
   "source": [
    "def user_search():\n",
    "    while True:\n",
    "        user = input(\"What are you looking for? \")\n",
    "        if user == \"end_now\":\n",
    "            break\n",
    "        results = find_song_or_artists(user, \"./data/billboard_hot100.csv\")\n",
    "        if len(results) == 0:\n",
    "            print(\"No match found\")\n",
    "            continue\n",
    "        if len(results) == 1:\n",
    "            if results[0][0] == 1:\n",
    "                print(\"Direct Match:\")\n",
    "                print_result(results[0],fp=\"./data/billboard_hot100.csv\")\n",
    "                return_random(results[0][2], fp=\"./data/billboard_hot100.csv\")\n",
    "        else:\n",
    "            print(\"Partial Matches:\")\n",
    "            for i in range(len(results)):\n",
    "                print(f\" + {i+1}: \",end=\"\")\n",
    "                print_result(results[i],fp=\"./data/billboard_hot100.csv\")\n",
    "            specify = 241\n",
    "            while 0 > int(specify) or int(specify) > len(results)+1:\n",
    "                specify = input(f\"Please specify your entry (1 to {i+1}): \")\n",
    "                if specify.isnumeric() == False:\n",
    "                    print(\"please check entry.\")\n",
    "                    specify = len(results)+2\n",
    "                if 0 > int(specify) > len(results)+1:\n",
    "                    print(\"please check entry.\")\n",
    "                    specify = len(results)+2\n",
    "            print(\" - - -\\nMatch:\")\n",
    "            print_result(results[int(specify)-1],fp=\"./data/billboard_hot100.csv\")\n",
    "            return_random(results[int(specify)-1][2], fp=\"./data/billboard_hot100.csv\")\n",
    "        print(\"\\n ************** new request *************\\n\")"
   ]
  },
  {
   "cell_type": "code",
   "execution_count": 19,
   "id": "bfbed2b4",
   "metadata": {},
   "outputs": [],
   "source": [
    "def update_billboard_hot100():\n",
    "    if not check_last_update_hot100(fp=\"../data/billboard_hot100.csv\"):\n",
    "        if input(\"Update anyway (Y/n): \") == \"Y\":\n",
    "            get_billboard_hot100(save_to_csv=True, fp=\"../data/billboard_hot100.csv\")\n",
    "    else:\n",
    "        get_billboard_hot100(save_to_csv=True, fp=\"../data/billboard_hot100.csv\")"
   ]
  },
  {
   "cell_type": "code",
   "execution_count": 4,
   "id": "bd8dda38",
   "metadata": {},
   "outputs": [],
   "source": [
    "def load_songs(fp:[str]=None):\n",
    "    if not fp:\n",
    "        print(\"No filepath provided\")\n",
    "        return None\n",
    "    try:\n",
    "        return pd.read_csv(fp, sep=\";\", error_bad_lines=False)\n",
    "    except FileNotFoundError:\n",
    "        print(\"File not found.\")\n",
    "        return None\n",
    "    \n",
    "    \n",
    "    "
   ]
  },
  {
   "cell_type": "code",
   "execution_count": null,
   "id": "790cc256",
   "metadata": {},
   "outputs": [],
   "source": [
    "user_search()"
   ]
  },
  {
   "cell_type": "code",
   "execution_count": 27,
   "id": "12851995",
   "metadata": {},
   "outputs": [
    {
     "data": {
      "text/html": [
       "<div>\n",
       "<style scoped>\n",
       "    .dataframe tbody tr th:only-of-type {\n",
       "        vertical-align: middle;\n",
       "    }\n",
       "\n",
       "    .dataframe tbody tr th {\n",
       "        vertical-align: top;\n",
       "    }\n",
       "\n",
       "    .dataframe thead th {\n",
       "        text-align: right;\n",
       "    }\n",
       "</style>\n",
       "<table border=\"1\" class=\"dataframe\">\n",
       "  <thead>\n",
       "    <tr style=\"text-align: right;\">\n",
       "      <th></th>\n",
       "      <th>id</th>\n",
       "      <th>name</th>\n",
       "      <th>album</th>\n",
       "      <th>artist</th>\n",
       "      <th>release_date</th>\n",
       "      <th>length</th>\n",
       "      <th>popularity</th>\n",
       "      <th>danceability</th>\n",
       "      <th>acousticness</th>\n",
       "      <th>energy</th>\n",
       "      <th>instrumentalness</th>\n",
       "      <th>liveness</th>\n",
       "      <th>loudness</th>\n",
       "      <th>speechiness</th>\n",
       "      <th>valence</th>\n",
       "      <th>key</th>\n",
       "      <th>mode</th>\n",
       "      <th>tempo</th>\n",
       "      <th>type</th>\n",
       "      <th>time_signature</th>\n",
       "    </tr>\n",
       "  </thead>\n",
       "  <tbody>\n",
       "    <tr>\n",
       "      <th>0</th>\n",
       "      <td>30QR0ndUdiiMQMA9g1PGCm</td>\n",
       "      <td>...And to Those I Love, Thanks for Sticking Ar...</td>\n",
       "      <td>Stop Staring at the Shadows</td>\n",
       "      <td>$uicideboy$</td>\n",
       "      <td>2020-02-14</td>\n",
       "      <td>168489</td>\n",
       "      <td>85</td>\n",
       "      <td>0.792</td>\n",
       "      <td>0.12400</td>\n",
       "      <td>0.511</td>\n",
       "      <td>0.000090</td>\n",
       "      <td>0.1400</td>\n",
       "      <td>-6.876</td>\n",
       "      <td>0.0409</td>\n",
       "      <td>0.1110</td>\n",
       "      <td>2</td>\n",
       "      <td>1</td>\n",
       "      <td>113.983</td>\n",
       "      <td>audio_features</td>\n",
       "      <td>4</td>\n",
       "    </tr>\n",
       "    <tr>\n",
       "      <th>1</th>\n",
       "      <td>496GZe7MxLloHgUQTmY2Ch</td>\n",
       "      <td>$Outh $Ide $Uicide</td>\n",
       "      <td>High Tide in the Snake's Nest</td>\n",
       "      <td>$uicideboy$</td>\n",
       "      <td>2015-06-15</td>\n",
       "      <td>169319</td>\n",
       "      <td>74</td>\n",
       "      <td>0.797</td>\n",
       "      <td>0.00538</td>\n",
       "      <td>0.516</td>\n",
       "      <td>0.438000</td>\n",
       "      <td>0.0728</td>\n",
       "      <td>-6.286</td>\n",
       "      <td>0.0832</td>\n",
       "      <td>0.0478</td>\n",
       "      <td>1</td>\n",
       "      <td>1</td>\n",
       "      <td>109.993</td>\n",
       "      <td>audio_features</td>\n",
       "      <td>4</td>\n",
       "    </tr>\n",
       "    <tr>\n",
       "      <th>2</th>\n",
       "      <td>0kEZlJh4mK1QRfb3CT5LPk</td>\n",
       "      <td>Kill Yourself (Part III)</td>\n",
       "      <td>My Liver Will Handle What My Heart Can't</td>\n",
       "      <td>$uicideboy$</td>\n",
       "      <td>2015-09-21</td>\n",
       "      <td>145078</td>\n",
       "      <td>81</td>\n",
       "      <td>0.753</td>\n",
       "      <td>0.32600</td>\n",
       "      <td>0.680</td>\n",
       "      <td>0.000041</td>\n",
       "      <td>0.4230</td>\n",
       "      <td>-7.092</td>\n",
       "      <td>0.0349</td>\n",
       "      <td>0.1920</td>\n",
       "      <td>5</td>\n",
       "      <td>0</td>\n",
       "      <td>105.977</td>\n",
       "      <td>audio_features</td>\n",
       "      <td>4</td>\n",
       "    </tr>\n",
       "    <tr>\n",
       "      <th>3</th>\n",
       "      <td>1hSBVYwG0UPeou0ORftrxm</td>\n",
       "      <td>Do You Believe in God?</td>\n",
       "      <td>Grey Sheep II</td>\n",
       "      <td>$uicideboy$</td>\n",
       "      <td>2016-05-25</td>\n",
       "      <td>118073</td>\n",
       "      <td>67</td>\n",
       "      <td>0.794</td>\n",
       "      <td>0.03880</td>\n",
       "      <td>0.535</td>\n",
       "      <td>0.000010</td>\n",
       "      <td>0.5550</td>\n",
       "      <td>-5.698</td>\n",
       "      <td>0.0506</td>\n",
       "      <td>0.0487</td>\n",
       "      <td>0</td>\n",
       "      <td>1</td>\n",
       "      <td>120.067</td>\n",
       "      <td>audio_features</td>\n",
       "      <td>4</td>\n",
       "    </tr>\n",
       "    <tr>\n",
       "      <th>4</th>\n",
       "      <td>5UGAXwbA17bUC0K9uquGY2</td>\n",
       "      <td>Antarctica</td>\n",
       "      <td>Antarctica</td>\n",
       "      <td>$uicideboy$</td>\n",
       "      <td>2016-01-26</td>\n",
       "      <td>126850</td>\n",
       "      <td>78</td>\n",
       "      <td>0.715</td>\n",
       "      <td>0.55300</td>\n",
       "      <td>0.633</td>\n",
       "      <td>0.000004</td>\n",
       "      <td>0.0905</td>\n",
       "      <td>-6.869</td>\n",
       "      <td>0.0804</td>\n",
       "      <td>0.3190</td>\n",
       "      <td>2</td>\n",
       "      <td>1</td>\n",
       "      <td>105.945</td>\n",
       "      <td>audio_features</td>\n",
       "      <td>5</td>\n",
       "    </tr>\n",
       "  </tbody>\n",
       "</table>\n",
       "</div>"
      ],
      "text/plain": [
       "                       id                                               name  \\\n",
       "0  30QR0ndUdiiMQMA9g1PGCm  ...And to Those I Love, Thanks for Sticking Ar...   \n",
       "1  496GZe7MxLloHgUQTmY2Ch                                 $Outh $Ide $Uicide   \n",
       "2  0kEZlJh4mK1QRfb3CT5LPk                           Kill Yourself (Part III)   \n",
       "3  1hSBVYwG0UPeou0ORftrxm                             Do You Believe in God?   \n",
       "4  5UGAXwbA17bUC0K9uquGY2                                         Antarctica   \n",
       "\n",
       "                                      album       artist release_date  length  \\\n",
       "0               Stop Staring at the Shadows  $uicideboy$   2020-02-14  168489   \n",
       "1             High Tide in the Snake's Nest  $uicideboy$   2015-06-15  169319   \n",
       "2  My Liver Will Handle What My Heart Can't  $uicideboy$   2015-09-21  145078   \n",
       "3                             Grey Sheep II  $uicideboy$   2016-05-25  118073   \n",
       "4                                Antarctica  $uicideboy$   2016-01-26  126850   \n",
       "\n",
       "   popularity  danceability  acousticness  energy  instrumentalness  liveness  \\\n",
       "0          85         0.792       0.12400   0.511          0.000090    0.1400   \n",
       "1          74         0.797       0.00538   0.516          0.438000    0.0728   \n",
       "2          81         0.753       0.32600   0.680          0.000041    0.4230   \n",
       "3          67         0.794       0.03880   0.535          0.000010    0.5550   \n",
       "4          78         0.715       0.55300   0.633          0.000004    0.0905   \n",
       "\n",
       "   loudness  speechiness  valence  key  mode    tempo            type  \\\n",
       "0    -6.876       0.0409   0.1110    2     1  113.983  audio_features   \n",
       "1    -6.286       0.0832   0.0478    1     1  109.993  audio_features   \n",
       "2    -7.092       0.0349   0.1920    5     0  105.977  audio_features   \n",
       "3    -5.698       0.0506   0.0487    0     1  120.067  audio_features   \n",
       "4    -6.869       0.0804   0.3190    2     1  105.945  audio_features   \n",
       "\n",
       "   time_signature  \n",
       "0               4  \n",
       "1               4  \n",
       "2               4  \n",
       "3               4  \n",
       "4               5  "
      ]
     },
     "execution_count": 27,
     "metadata": {},
     "output_type": "execute_result"
    }
   ],
   "source": [
    "df_.head()"
   ]
  },
  {
   "cell_type": "code",
   "execution_count": 7,
   "id": "316945cc",
   "metadata": {},
   "outputs": [
    {
     "name": "stderr",
     "output_type": "stream",
     "text": [
      "C:\\Users\\roman\\AppData\\Local\\Temp/ipykernel_8260/1224517839.py:1: FutureWarning: The error_bad_lines argument has been deprecated and will be removed in a future version.\n",
      "\n",
      "\n",
      "  df_ = load_songs(\"./data/song_db.csv\")\n",
      "b'Skipping line 3335: expected 20 fields, saw 21\\nSkipping line 3336: expected 20 fields, saw 21\\nSkipping line 3343: expected 20 fields, saw 21\\nSkipping line 3345: expected 20 fields, saw 21\\nSkipping line 3350: expected 20 fields, saw 21\\nSkipping line 4630: expected 20 fields, saw 22\\nSkipping line 4632: expected 20 fields, saw 22\\nSkipping line 4634: expected 20 fields, saw 22\\nSkipping line 4643: expected 20 fields, saw 22\\nSkipping line 4644: expected 20 fields, saw 22\\nSkipping line 4645: expected 20 fields, saw 22\\nSkipping line 4646: expected 20 fields, saw 22\\nSkipping line 4647: expected 20 fields, saw 22\\nSkipping line 4650: expected 20 fields, saw 22\\nSkipping line 4651: expected 20 fields, saw 22\\nSkipping line 4655: expected 20 fields, saw 22\\nSkipping line 4657: expected 20 fields, saw 22\\nSkipping line 4658: expected 20 fields, saw 22\\nSkipping line 4659: expected 20 fields, saw 22\\nSkipping line 4660: expected 20 fields, saw 22\\nSkipping line 4661: expected 20 fields, saw 22\\nSkipping line 6071: expected 20 fields, saw 21\\nSkipping line 14341: expected 20 fields, saw 21\\nSkipping line 14343: expected 20 fields, saw 21\\nSkipping line 14345: expected 20 fields, saw 21\\nSkipping line 14347: expected 20 fields, saw 21\\nSkipping line 14349: expected 20 fields, saw 21\\nSkipping line 14351: expected 20 fields, saw 21\\nSkipping line 14353: expected 20 fields, saw 21\\nSkipping line 14355: expected 20 fields, saw 21\\nSkipping line 14357: expected 20 fields, saw 21\\nSkipping line 14359: expected 20 fields, saw 21\\nSkipping line 14361: expected 20 fields, saw 21\\nSkipping line 14363: expected 20 fields, saw 21\\nSkipping line 14365: expected 20 fields, saw 21\\nSkipping line 14367: expected 20 fields, saw 21\\nSkipping line 14369: expected 20 fields, saw 21\\nSkipping line 14371: expected 20 fields, saw 21\\nSkipping line 14373: expected 20 fields, saw 21\\nSkipping line 14375: expected 20 fields, saw 21\\nSkipping line 14377: expected 20 fields, saw 21\\nSkipping line 14380: expected 20 fields, saw 21\\nSkipping line 14384: expected 20 fields, saw 21\\nSkipping line 14386: expected 20 fields, saw 21\\nSkipping line 14388: expected 20 fields, saw 21\\nSkipping line 15692: expected 20 fields, saw 21\\nSkipping line 15693: expected 20 fields, saw 21\\nSkipping line 15694: expected 20 fields, saw 21\\nSkipping line 16908: expected 20 fields, saw 21\\nSkipping line 20449: expected 20 fields, saw 21\\n'\n"
     ]
    }
   ],
   "source": [
    "df_ = load_songs(\"./data/song_db.csv\")"
   ]
  },
  {
   "cell_type": "code",
   "execution_count": 33,
   "id": "f2e8d6fe",
   "metadata": {},
   "outputs": [
    {
     "name": "stdout",
     "output_type": "stream",
     "text": [
      "36159\n"
     ]
    }
   ],
   "source": [
    "song_lst = list(set(df_[\"name\"]))\n",
    "artist_lst = list(set(df_[\"artist\"]))\n",
    "print(len(song_lst))"
   ]
  },
  {
   "cell_type": "code",
   "execution_count": 5,
   "id": "240669fb",
   "metadata": {},
   "outputs": [],
   "source": [
    "def user_input_get_features():\n",
    "    audio_feat = ['danceability', 'energy', 'key', 'loudness', 'speechiness', 'acousticness', 'instrumentalness', \n",
    "                  'liveness', 'valence', 'tempo', 'time_signature']\n",
    "    user_input = input(\"What song are you looking for? \")\n",
    "    song_hits = list(df_[df_[\"name\"].str.lower()==user_input.lower()][\"artist\"])\n",
    "    if song_hits:\n",
    "        if len(song_hits) == 1:\n",
    "            numpy_lst = []\n",
    "            for a_f in audio_feat:\n",
    "                numpy_lst.append(float(df_[df_[\"name\"].str.lower()==user_input.lower()][a_f]))\n",
    "            return np.array(numpy_lst).reshape(1,-1)\n",
    "        else:\n",
    "            print(f'Following artists found for \"{user_input}\":\\n ')\n",
    "            c = 0\n",
    "            for a in song_hits:\n",
    "                c += 1\n",
    "                print(f\" + {c}: {a}\")\n",
    "            user_choice = 241\n",
    "            while 0 > int(user_choice) or int(user_choice) > len(song_hits)+1:\n",
    "                user_choice = input(f\"Please specify your entry (1 to {len(song_hits)}): \")\n",
    "                if user_choice.isnumeric() == False:\n",
    "                    print(\"please check entry.\")\n",
    "                    user_choice = len(song_hits)+2\n",
    "                if 0 > int(user_choice) > len(song_hits)+1:\n",
    "                    print(\"please check entry.\")\n",
    "            df_index = list(df_[df_[\"name\"].str.lower()==user_input.lower()].index)[int(user_choice)-1]\n",
    "            # print(df_.iloc[df_index][\"danceability\"])\n",
    "            numpy_lst = []\n",
    "            for a_f in audio_feat:\n",
    "                numpy_lst.append(float(df_.iloc[df_index][a_f]))\n",
    "            return np.array(numpy_lst).reshape(1,-1)\n",
    "    \n"
   ]
  },
  {
   "cell_type": "code",
   "execution_count": 8,
   "id": "e0850cb7",
   "metadata": {},
   "outputs": [
    {
     "name": "stdout",
     "output_type": "stream",
     "text": [
      "Following artists found for \"bad guy\":\n",
      " \n",
      " + 1: Billie Eilish\n",
      " + 2: Various Artists\n",
      " + 3: Ducktails\n",
      "Please specify your entry (1 to 3): 2\n"
     ]
    },
    {
     "data": {
      "text/plain": [
       "array([[ 7.01000e-01,  4.25000e-01,  7.00000e+00, -1.09650e+01,\n",
       "         3.75000e-01,  3.28000e-01,  1.30000e-01,  1.00000e-01,\n",
       "         5.62000e-01,  1.35128e+02,  4.00000e+00]])"
      ]
     },
     "execution_count": 8,
     "metadata": {},
     "output_type": "execute_result"
    }
   ],
   "source": [
    "user_input_get_features()"
   ]
  },
  {
   "cell_type": "code",
   "execution_count": null,
   "id": "8c462522",
   "metadata": {},
   "outputs": [],
   "source": [
    "song_df.info()"
   ]
  },
  {
   "cell_type": "code",
   "execution_count": 70,
   "id": "682babbd",
   "metadata": {},
   "outputs": [
    {
     "name": "stdout",
     "output_type": "stream",
     "text": [
      "16594    0.82\n",
      "Name: danceability, dtype: float64\n"
     ]
    }
   ],
   "source": [
    "user_input_get_features()"
   ]
  },
  {
   "cell_type": "code",
   "execution_count": 65,
   "id": "5fccea21",
   "metadata": {},
   "outputs": [
    {
     "data": {
      "text/plain": [
       "Best Thing I Never Had                                                                                                                                                     1\n",
       "Love On Top                                                                                                                                                                1\n",
       "I'll Love You Forever Heart and Soul                                                                                                                                       1\n",
       "I Found That Guy                                                                                                                                                           1\n",
       "Shoo-Rah! Shoo-Rah!                                                                                                                                                        1\n",
       "I'm Getting Tired Baby                                                                                                                                                     1\n",
       "Let Me Be Your Lovemaker                                                                                                                                                   1\n",
       "Thank You for the Many Things You've Done                                                                                                                                  1\n",
       "All Your Kissin' Sho' Don't Make True Lovin'                                                                                                                               1\n",
       "Keep Feelin'                                                                                                                                                               1\n",
       "Secretary                                                                                                                                                                  1\n",
       "Tonight is the Night                                                                                                                                                       1\n",
       "Baby Sitter                                                                                                                                                                1\n",
       "Medley: Clean up Woman / Pillow Talk / You Got the Love / Mr. Melody / Midnight at the Oasis / Me and Mrs. Jones / You Are My Sunshine / Let's Get Married Today - Live    1\n",
       "Real Woman (feat. Snoop Dogg)                                                                                                                                              1\n",
       "Tonight Is the Night (Parts 1&2)                                                                                                                                           1\n",
       "Smother Me With Your Love                                                                                                                                                  1\n",
       "Where Is The Love                                                                                                                                                          1\n",
       "I Love the Way You Love                                                                                                                                                    1\n",
       "Share My Love                                                                                                                                                              1\n",
       "Pure Love - Single Version                                                                                                                                                 1\n",
       "Open The Door To Your Heart                                                                                                                                                1\n",
       "Interlude (Hallelujah)                                                                                                                                                     1\n",
       "Keep Love New                                                                                                                                                              1\n",
       "Eskatones                                                                                                                                                                  1\n",
       "Name: name, dtype: int64"
      ]
     },
     "execution_count": 65,
     "metadata": {},
     "output_type": "execute_result"
    }
   ],
   "source": [
    "# song_df.name.value_counts().tail(25)"
   ]
  }
 ],
 "metadata": {
  "kernelspec": {
   "display_name": "Python 3 (ipykernel)",
   "language": "python",
   "name": "python3"
  },
  "language_info": {
   "codemirror_mode": {
    "name": "ipython",
    "version": 3
   },
   "file_extension": ".py",
   "mimetype": "text/x-python",
   "name": "python",
   "nbconvert_exporter": "python",
   "pygments_lexer": "ipython3",
   "version": "3.9.7"
  },
  "toc": {
   "base_numbering": 1,
   "nav_menu": {},
   "number_sections": true,
   "sideBar": true,
   "skip_h1_title": false,
   "title_cell": "Table of Contents",
   "title_sidebar": "Contents",
   "toc_cell": false,
   "toc_position": {},
   "toc_section_display": true,
   "toc_window_display": false
  },
  "varInspector": {
   "cols": {
    "lenName": 16,
    "lenType": 16,
    "lenVar": 40
   },
   "kernels_config": {
    "python": {
     "delete_cmd_postfix": "",
     "delete_cmd_prefix": "del ",
     "library": "var_list.py",
     "varRefreshCmd": "print(var_dic_list())"
    },
    "r": {
     "delete_cmd_postfix": ") ",
     "delete_cmd_prefix": "rm(",
     "library": "var_list.r",
     "varRefreshCmd": "cat(var_dic_list()) "
    }
   },
   "types_to_exclude": [
    "module",
    "function",
    "builtin_function_or_method",
    "instance",
    "_Feature"
   ],
   "window_display": false
  }
 },
 "nbformat": 4,
 "nbformat_minor": 5
}
