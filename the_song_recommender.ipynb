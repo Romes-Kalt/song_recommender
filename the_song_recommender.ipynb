{
 "cells": [
  {
   "cell_type": "code",
   "execution_count": 1,
   "id": "e59371d5",
   "metadata": {},
   "outputs": [],
   "source": [
    "import spotipy \n",
    "import pandas as pd \n",
    "from spotipy.oauth2 import SpotifyClientCredentials\n",
    "import os\n",
    "import numpy as np\n",
    "\n",
    "import numpy as np\n",
    "import pandas as pd\n",
    "import pickle\n",
    "from sklearn import datasets\n",
    "from sklearn.preprocessing import StandardScaler\n",
    "from sklearn.cluster import KMeans\n",
    "from matplotlib import pyplot\n",
    "from sklearn.metrics import silhouette_score\n",
    "from IPython.display import IFrame"
   ]
  },
  {
   "cell_type": "markdown",
   "id": "2ad6db36",
   "metadata": {},
   "source": [
    "<a id=\"functions\"></a>\n",
    "## 1. Functions"
   ]
  },
  {
   "cell_type": "code",
   "execution_count": 2,
   "id": "7c73767c",
   "metadata": {},
   "outputs": [],
   "source": [
    "def load_songs(fp:[str]=None):\n",
    "    if not fp:\n",
    "        print(\"No filepath provided\")\n",
    "        return None\n",
    "    try:\n",
    "        return pd.read_csv(fp, sep=\";\", error_bad_lines=False)\n",
    "    except FileNotFoundError:\n",
    "        print(\"File not found.\")\n",
    "        return None"
   ]
  },
  {
   "cell_type": "code",
   "execution_count": 3,
   "id": "5b33e290",
   "metadata": {},
   "outputs": [],
   "source": [
    "def load_pickle(fp:[str] = None): \n",
    "    if not fp:\n",
    "        print(\"no filepath provided.\")\n",
    "        return None\n",
    "    try: \n",
    "        with open(fp, \"rb\") as f: \n",
    "            return pickle.load(f) \n",
    "    except FileNotFoundError: \n",
    "        print(\"File not found!\")\n",
    "        return None"
   ]
  },
  {
   "cell_type": "code",
   "execution_count": 4,
   "id": "f099f08f",
   "metadata": {},
   "outputs": [],
   "source": [
    "def user_input_get_features_old(this_df):\n",
    "    audio_feat = ['danceability', 'energy', 'key', 'loudness', 'speechiness', 'acousticness', 'instrumentalness',\n",
    "                  'liveness', 'valence', 'tempo', 'time_signature']\n",
    "    user_input = input(\"What song are you looking for? \")\n",
    "    song_hits = list(this_df[this_df[\"name\"].str.lower()==user_input.lower()][\"artist\"])\n",
    "    if song_hits:\n",
    "        if len(song_hits) == 1:\n",
    "            numpy_lst = []\n",
    "            for a_f in audio_feat:\n",
    "                numpy_lst.append(float(this_df[this_df[\"name\"].str.lower()==user_input.lower()][a_f]))\n",
    "            return np.array(numpy_lst).reshape(1,-1)\n",
    "        else:\n",
    "            print(f'Following artists found for \"{user_input}\":\\n ')\n",
    "            c = 0\n",
    "            for a in song_hits:\n",
    "                c += 1\n",
    "                print(f\" + {c}: {a}\")\n",
    "            print(\" -------\\n+ S: Search alternative on Spotify\")\n",
    "            user_choice = 241\n",
    "            while 0 > int(user_choice) or int(user_choice) > len(song_hits)+1:\n",
    "                user_choice = input(f\"Please specify your entry (1 to {len(song_hits)}): \")\n",
    "                if user_choice.lower() == \"s\":\n",
    "                    return get_unknown_song_array(user_input)\n",
    "                if user_choice.isnumeric() == False:\n",
    "                    print(\"please check entry.\")\n",
    "                    user_choice = len(song_hits)+2\n",
    "                if 0 > int(user_choice) > len(song_hits)+1:\n",
    "                    print(\"please check entry.\")\n",
    "            this_df_index = list(this_df[this_df[\"name\"].str.lower()==user_input.lower()].index)[int(user_choice)-1]\n",
    "            # print(df_.iloc[df_index][\"danceability\"])\n",
    "            numpy_lst = []\n",
    "            for a_f in audio_feat:\n",
    "                numpy_lst.append(float(this_df.iloc[this_df_index][a_f]))\n",
    "            return np.array(numpy_lst).reshape(1,-1)\n",
    "    else:\n",
    "        print(\"Song not found in local database, searching on Spotify.\")\n",
    "        return get_unknown_song_array(user_input)"
   ]
  },
  {
   "cell_type": "code",
   "execution_count": 5,
   "id": "359718a2",
   "metadata": {},
   "outputs": [],
   "source": [
    "def user_input_get_features(this_df):\n",
    "    audio_feat = ['danceability', 'energy', 'key', 'loudness', 'speechiness', 'acousticness', 'instrumentalness',\n",
    "                  'liveness', 'valence', 'tempo', 'time_signature']\n",
    "    user_input = input(\"What song are you looking for? \")\n",
    "    song_hits = list(this_df[this_df[\"name\"].str.lower()==user_input.lower()][\"artist\"])\n",
    "    if song_hits:\n",
    "        if len(song_hits) == 1:\n",
    "#             numpy_lst = []\n",
    "#             for a_f in audio_feat:\n",
    "#                 numpy_lst.append(float(this_df[this_df[\"name\"].str.lower()==user_input.lower()][a_f]))\n",
    "#             return np.array(numpy_lst).reshape(1,-1)\n",
    "            print(f'Following artist found for \"{user_input}\":\\n ')\n",
    "            print(f' + 1: {song_hits[0]}')\n",
    "            print(\" -------\\n+ S: Search alternative on Spotify\")\n",
    "        else:\n",
    "            print(f'Following artists found for \"{user_input}\":\\n ')\n",
    "            c = 0\n",
    "            for a in song_hits:\n",
    "                c += 1\n",
    "                print(f\" + {c}: {a}\")\n",
    "            print(\" -------\\n+ S: Search alternative on Spotify\")\n",
    "        user_choice = 241\n",
    "        while 0 > int(user_choice) or int(user_choice) > len(song_hits)+1:\n",
    "            user_choice = input(f\"Please specify your entry (1 to {len(song_hits)}): \")\n",
    "            if user_choice.lower() == \"s\":\n",
    "                return get_unknown_song_array(user_input)\n",
    "            if user_choice.isnumeric() == False:\n",
    "                print(\"please check entry.\")\n",
    "                user_choice = len(song_hits)+2\n",
    "            if 0 > int(user_choice) > len(song_hits)+1:\n",
    "                print(\"please check entry.\")\n",
    "        this_df_index = list(this_df[this_df[\"name\"].str.lower()==user_input.lower()].index)[int(user_choice)-1]\n",
    "        # print(df_.iloc[df_index][\"danceability\"])\n",
    "        numpy_lst = []\n",
    "        for a_f in audio_feat:\n",
    "            numpy_lst.append(float(this_df.iloc[this_df_index][a_f]))\n",
    "        return np.array(numpy_lst).reshape(1,-1)\n",
    "    else:\n",
    "        print(\"Song not found in local database, searching on Spotify.\")\n",
    "        return get_unknown_song_array(user_input)"
   ]
  },
  {
   "cell_type": "code",
   "execution_count": 6,
   "id": "d4d4a1b3",
   "metadata": {},
   "outputs": [],
   "source": [
    "def get_unknown_song_array(this_song:[str]=None):\n",
    "    if not this_song:\n",
    "        print(\"no song provided.\")\n",
    "        return None\n",
    "    x=sp.search(this_song, limit=15)\n",
    "    if not x[\"tracks\"][\"items\"]:\n",
    "        print(\"song is not on spotify.\")\n",
    "        return None\n",
    "    if len(x[\"tracks\"][\"items\"]) == 1:\n",
    "        pass\n",
    "    else:\n",
    "        artists_of_this_song = []\n",
    "        for _ in range(len(x[\"tracks\"][\"items\"])):\n",
    "            artists_of_this_song.append(x[\"tracks\"][\"items\"][_][\"artists\"][0][\"name\"])\n",
    "        # artists_of_this_song = sorted(set(artists_of_this_song), key=lambda x: x.lower())\n",
    "        print(f'Following artists found for \"{this_song}\":\\n ')\n",
    "        c = 0\n",
    "        for a in artists_of_this_song:\n",
    "            c += 1\n",
    "            print(f\" + {c}: {a}\")\n",
    "        user_choice = 241\n",
    "        while 0 > int(user_choice) or int(user_choice) > len(artists_of_this_song) + 1:\n",
    "            user_choice = input(f\"Please specify your entry (1 to {len(artists_of_this_song)}): \")\n",
    "            if user_choice.isnumeric() == False:\n",
    "                print(\"please check entry.\")\n",
    "                user_choice = len(artists_of_this_song) + 2   # +2 to create a wrong int and run another while loop \n",
    "            if 0 > int(user_choice) > len(song_hits) + 1:\n",
    "                print(\"please check entry.\")\n",
    "        # print((x[\"tracks\"][\"items\"][int(user_choice)-1][\"artists\"][0][\"name\"]))\n",
    "        song_info=sp.audio_features([x[\"tracks\"][\"items\"][int(user_choice)-1][\"id\"]])\n",
    "        remove_list = ['mode', 'duration_ms', 'id', 'type', 'uri', 'track_href', 'analysis_url'] #remove features not used in the model\n",
    "        [song_info[0].pop(key) for key in remove_list] \n",
    "        song_list=list(song_info[0].values())\n",
    "        song_list\n",
    "        song_array = np.array(song_list).reshape(1, -1)\n",
    "        song_array\n",
    "        return song_array"
   ]
  },
  {
   "cell_type": "code",
   "execution_count": 7,
   "id": "9c2cc4df",
   "metadata": {},
   "outputs": [],
   "source": [
    "def get_random_song_cluster(this_df, this_song_array):\n",
    "    X = song_df.drop(['id', 'length','name', 'album','artist','release_date', 'type', 'mode', 'popularity', \"cluster\"], axis=1) \n",
    "    scaler = load_pickle(\"Model/scaler.pickle\")\n",
    "    kmeans = load_pickle(\"Model/kmeans_10.pickle\")\n",
    "    scaled_song = scaler.transform(this_song_array)\n",
    "    cluster_pred = kmeans.predict(scaled_song)[0]\n",
    "    print(\"cluster:\", cluster_pred)\n",
    "    index_song = this_df[this_df['cluster'] == cluster_pred].sample().index[0]\n",
    "    id_song = this_df.iloc[index_song]['id']\n",
    "    return print(f\"{sp.track(id_song)['name']} by {sp.track(id_song)['artists'][0]['name']} (Spotify ID: {id_song})\")"
   ]
  },
  {
   "cell_type": "code",
   "execution_count": 8,
   "id": "9fb49484",
   "metadata": {},
   "outputs": [],
   "source": [
    "def add_cluster_column_to_song_df(this_df):\n",
    "    #define features\n",
    "    X = this_df.drop(['id', 'length','name', 'album','artist','release_date', 'type', 'mode', 'popularity'], axis=1) \n",
    "    \n",
    "    scaler = StandardScaler()\n",
    "    scaler.fit(X)\n",
    "    X_scaled = scaler.transform(X)\n",
    "    X_scaled_df = pd.DataFrame(X_scaled, columns = X.columns)\n",
    "    \n",
    "    kmeans = KMeans(n_clusters=10, random_state=42)\n",
    "    kmeans.fit(X_scaled_df)\n",
    "    \n",
    "    clusters = kmeans.predict(X_scaled_df)\n",
    "    #clusters\n",
    "    pd.Series(clusters).value_counts().sort_index()\n",
    "    this_df[\"cluster\"] = clusters\n",
    "    return this_df"
   ]
  },
  {
   "cell_type": "code",
   "execution_count": 9,
   "id": "87f0821d",
   "metadata": {},
   "outputs": [],
   "source": [
    "# song_df"
   ]
  },
  {
   "cell_type": "code",
   "execution_count": 9,
   "id": "ccc7bbac",
   "metadata": {},
   "outputs": [],
   "source": [
    "sp = spotipy.Spotify(auth_manager=SpotifyClientCredentials(client_id=\"9d897a87744a49638d588daeca7f0994\",\n",
    "                                                           client_secret=\"1e0c19e2db6c4e3182c30885a6491ffd\"))"
   ]
  },
  {
   "cell_type": "code",
   "execution_count": 10,
   "id": "70a3b713",
   "metadata": {},
   "outputs": [],
   "source": [
    "# song_df = pd.read_csv(\"data/song_db.csv\", sep=\";\", error_bad_lines=False)\n",
    "song_df = pd.read_csv(\"C:/Users/roman/Python/PyCharmProjects/iron_hack/song_recommender/data/new_song_db.csv\", sep=\";\")#, error_bad_lines=False)\n"
   ]
  },
  {
   "cell_type": "code",
   "execution_count": 11,
   "id": "8cfe12e8",
   "metadata": {},
   "outputs": [],
   "source": [
    "song_df = add_cluster_column_to_song_df(song_df)"
   ]
  },
  {
   "cell_type": "code",
   "execution_count": 18,
   "id": "c9b201f3",
   "metadata": {},
   "outputs": [
    {
     "name": "stdout",
     "output_type": "stream",
     "text": [
      "Cluster 0\n",
      "                 artist       name\n",
      "43460  Mission Of Burma  Dead Pool\n",
      "Cluster 1\n",
      "               artist                         name\n",
      "9016  Various Artists  Y, ¿Si Fuera Ella? - + Es +\n",
      "Cluster 2\n",
      "            artist    name\n",
      "32994  Alina Baraz  Unfold\n",
      "Cluster 3\n",
      "         artist          name\n",
      "51766  CHVRCHES  Empty Threat\n",
      "Cluster 4\n",
      "                artist                                             name\n",
      "25374  Various Artists  True Love (from \"High Society\") - 2006 Remaster\n",
      "Cluster 5\n",
      "       artist                                               name\n",
      "12091  H.E.R.  Slide (Remix) (feat. Pop Smoke, A Boogie Wit d...\n",
      "Cluster 6\n",
      "          artist                      name\n",
      "47994  The Kinks  Tired of Waiting for You\n",
      "Cluster 7\n",
      "          artist                                name\n",
      "60163  Turnstile  T.L.C. (TURNSTILE LOVE CONNECTION)\n",
      "Cluster 8\n",
      "                artist                  name\n",
      "51204  Various Artists  Seu Perfil - Ao Vivo\n",
      "Cluster 9\n",
      "                artist           name\n",
      "41713  The Cranberries  I Will Always\n"
     ]
    }
   ],
   "source": [
    "for _ in range(10):\n",
    "    this_song = song_df[song_df.cluster == _][[\"artist\",\"name\"]].sample()\n",
    "    print(f\"Cluster {_}\")\n",
    "    print(this_song)"
   ]
  },
  {
   "cell_type": "code",
   "execution_count": null,
   "id": "0052656d",
   "metadata": {},
   "outputs": [],
   "source": []
  },
  {
   "cell_type": "code",
   "execution_count": 24,
   "id": "d34655b7",
   "metadata": {},
   "outputs": [
    {
     "name": "stdout",
     "output_type": "stream",
     "text": [
      "What song are you looking for? Both Hands\n",
      "Following artist found for \"Both Hands\":\n",
      " \n",
      " + 1: Ani DiFranco\n",
      " -------\n",
      "+ S: Search alternative on Spotify\n",
      "Please specify your entry (1 to 1): S\n",
      "Following artists found for \"Both Hands\":\n",
      " \n",
      " + 1: Ani DiFranco\n",
      " + 2: David Bazan\n",
      " + 3: Cahalen Morrison & Eli West\n",
      " + 4: Ani DiFranco\n",
      " + 5: Cahalen Morrison & Eli West\n",
      " + 6: Ani DiFranco\n",
      " + 7: Itha¢a\n",
      " + 8: Ani DiFranco\n",
      " + 9: Fredfades\n",
      " + 10: Riddy Arman\n",
      " + 11: Jay Brannan\n",
      " + 12: Maggie Chiang\n",
      " + 13: Ani DiFranco\n",
      " + 14: Dubai Lounge Ensemble\n",
      " + 15: Three Legged Fox\n",
      "Please specify your entry (1 to 15): 2\n",
      "cluster: 5\n",
      "DNA by KC Rebell (Spotify ID: 6yL5RjG5eeFOE5iU7qPho8)\n"
     ]
    },
    {
     "name": "stderr",
     "output_type": "stream",
     "text": [
      "C:\\Users\\roman\\Python\\anaconda\\envs\\DA_Env\\lib\\site-packages\\sklearn\\base.py:445: UserWarning: X does not have valid feature names, but StandardScaler was fitted with feature names\n",
      "  warnings.warn(\n",
      "C:\\Users\\roman\\Python\\anaconda\\envs\\DA_Env\\lib\\site-packages\\sklearn\\base.py:445: UserWarning: X does not have valid feature names, but KMeans was fitted with feature names\n",
      "  warnings.warn(\n"
     ]
    }
   ],
   "source": [
    "song_array = user_input_get_features(song_df)\n",
    "get_random_song_cluster(song_df, song_array)"
   ]
  },
  {
   "cell_type": "code",
   "execution_count": null,
   "id": "c658bb1a",
   "metadata": {},
   "outputs": [],
   "source": [
    "# \n",
    "# track_id = \"4yzlbUDqrP1ZriRp7zAcIP\"\n",
    "# IFrame(src=\"https://open.spotify.com/embed/track/\"+track_id,\n",
    "#        width=\"320\",\n",
    "#        height=\"80\",\n",
    "#        frameborder=\"0\",\n",
    "#        allowtransparency=\"true\",\n",
    "#        allow=\"encrypted-media\",\n",
    "#       )"
   ]
  },
  {
   "cell_type": "code",
   "execution_count": null,
   "id": "2df58604",
   "metadata": {},
   "outputs": [],
   "source": []
  },
  {
   "cell_type": "code",
   "execution_count": null,
   "id": "a3024edb",
   "metadata": {},
   "outputs": [],
   "source": []
  },
  {
   "cell_type": "code",
   "execution_count": null,
   "id": "dde35e68",
   "metadata": {},
   "outputs": [],
   "source": []
  },
  {
   "cell_type": "code",
   "execution_count": null,
   "id": "20ade424",
   "metadata": {},
   "outputs": [],
   "source": []
  },
  {
   "cell_type": "code",
   "execution_count": null,
   "id": "055c9322",
   "metadata": {},
   "outputs": [],
   "source": []
  },
  {
   "cell_type": "code",
   "execution_count": null,
   "id": "3347013a",
   "metadata": {},
   "outputs": [],
   "source": []
  },
  {
   "cell_type": "code",
   "execution_count": null,
   "id": "78506b11",
   "metadata": {},
   "outputs": [],
   "source": []
  },
  {
   "cell_type": "code",
   "execution_count": null,
   "id": "e3600e31",
   "metadata": {},
   "outputs": [],
   "source": []
  },
  {
   "cell_type": "code",
   "execution_count": null,
   "id": "6023594d",
   "metadata": {},
   "outputs": [],
   "source": []
  },
  {
   "cell_type": "code",
   "execution_count": null,
   "id": "ddeb6d98",
   "metadata": {},
   "outputs": [],
   "source": []
  },
  {
   "cell_type": "code",
   "execution_count": null,
   "id": "e63348cb",
   "metadata": {},
   "outputs": [],
   "source": []
  },
  {
   "cell_type": "code",
   "execution_count": null,
   "id": "60800a92",
   "metadata": {},
   "outputs": [],
   "source": []
  },
  {
   "cell_type": "code",
   "execution_count": null,
   "id": "edd3ab42",
   "metadata": {},
   "outputs": [],
   "source": []
  },
  {
   "cell_type": "code",
   "execution_count": null,
   "id": "98cd756e",
   "metadata": {},
   "outputs": [],
   "source": []
  },
  {
   "cell_type": "code",
   "execution_count": null,
   "id": "55ded847",
   "metadata": {},
   "outputs": [],
   "source": []
  },
  {
   "cell_type": "code",
   "execution_count": null,
   "id": "5aa19cf0",
   "metadata": {},
   "outputs": [],
   "source": []
  },
  {
   "cell_type": "code",
   "execution_count": null,
   "id": "b0754c20",
   "metadata": {},
   "outputs": [],
   "source": []
  },
  {
   "cell_type": "code",
   "execution_count": null,
   "id": "933c2293",
   "metadata": {},
   "outputs": [],
   "source": []
  },
  {
   "cell_type": "code",
   "execution_count": null,
   "id": "9270345a",
   "metadata": {},
   "outputs": [],
   "source": []
  },
  {
   "cell_type": "code",
   "execution_count": null,
   "id": "9cf1f853",
   "metadata": {},
   "outputs": [],
   "source": []
  },
  {
   "cell_type": "code",
   "execution_count": null,
   "id": "cbc28142",
   "metadata": {},
   "outputs": [],
   "source": []
  },
  {
   "cell_type": "code",
   "execution_count": null,
   "id": "492919a0",
   "metadata": {},
   "outputs": [],
   "source": []
  },
  {
   "cell_type": "code",
   "execution_count": null,
   "id": "f86e9d7e",
   "metadata": {},
   "outputs": [],
   "source": []
  },
  {
   "cell_type": "code",
   "execution_count": null,
   "id": "492c8d20",
   "metadata": {},
   "outputs": [],
   "source": []
  },
  {
   "cell_type": "code",
   "execution_count": null,
   "id": "ae0b4ca4",
   "metadata": {},
   "outputs": [],
   "source": []
  },
  {
   "cell_type": "code",
   "execution_count": null,
   "id": "153211f4",
   "metadata": {},
   "outputs": [],
   "source": []
  },
  {
   "cell_type": "code",
   "execution_count": null,
   "id": "b41d35bd",
   "metadata": {},
   "outputs": [],
   "source": []
  },
  {
   "cell_type": "code",
   "execution_count": null,
   "id": "c9c649e4",
   "metadata": {},
   "outputs": [],
   "source": []
  },
  {
   "cell_type": "code",
   "execution_count": null,
   "id": "fd3dd125",
   "metadata": {},
   "outputs": [],
   "source": []
  },
  {
   "cell_type": "code",
   "execution_count": null,
   "id": "14316e9e",
   "metadata": {},
   "outputs": [],
   "source": []
  },
  {
   "cell_type": "code",
   "execution_count": null,
   "id": "0af465ce",
   "metadata": {},
   "outputs": [],
   "source": []
  },
  {
   "cell_type": "code",
   "execution_count": null,
   "id": "c8f3cdb1",
   "metadata": {},
   "outputs": [],
   "source": []
  },
  {
   "cell_type": "code",
   "execution_count": null,
   "id": "e7343d39",
   "metadata": {},
   "outputs": [],
   "source": []
  },
  {
   "cell_type": "code",
   "execution_count": null,
   "id": "a0e85b7b",
   "metadata": {},
   "outputs": [],
   "source": []
  },
  {
   "cell_type": "code",
   "execution_count": null,
   "id": "99a4dc65",
   "metadata": {},
   "outputs": [],
   "source": []
  },
  {
   "cell_type": "code",
   "execution_count": null,
   "id": "bc49edf0",
   "metadata": {},
   "outputs": [],
   "source": []
  },
  {
   "cell_type": "code",
   "execution_count": null,
   "id": "650c938a",
   "metadata": {},
   "outputs": [],
   "source": []
  },
  {
   "cell_type": "code",
   "execution_count": null,
   "id": "c6adaaf6",
   "metadata": {},
   "outputs": [],
   "source": []
  }
 ],
 "metadata": {
  "kernelspec": {
   "display_name": "Python 3 (ipykernel)",
   "language": "python",
   "name": "python3"
  },
  "language_info": {
   "codemirror_mode": {
    "name": "ipython",
    "version": 3
   },
   "file_extension": ".py",
   "mimetype": "text/x-python",
   "name": "python",
   "nbconvert_exporter": "python",
   "pygments_lexer": "ipython3",
   "version": "3.9.7"
  },
  "toc": {
   "base_numbering": 1,
   "nav_menu": {},
   "number_sections": true,
   "sideBar": true,
   "skip_h1_title": false,
   "title_cell": "Table of Contents",
   "title_sidebar": "Contents",
   "toc_cell": false,
   "toc_position": {},
   "toc_section_display": true,
   "toc_window_display": false
  },
  "varInspector": {
   "cols": {
    "lenName": 16,
    "lenType": 16,
    "lenVar": 40
   },
   "kernels_config": {
    "python": {
     "delete_cmd_postfix": "",
     "delete_cmd_prefix": "del ",
     "library": "var_list.py",
     "varRefreshCmd": "print(var_dic_list())"
    },
    "r": {
     "delete_cmd_postfix": ") ",
     "delete_cmd_prefix": "rm(",
     "library": "var_list.r",
     "varRefreshCmd": "cat(var_dic_list()) "
    }
   },
   "types_to_exclude": [
    "module",
    "function",
    "builtin_function_or_method",
    "instance",
    "_Feature"
   ],
   "window_display": false
  }
 },
 "nbformat": 4,
 "nbformat_minor": 5
}
