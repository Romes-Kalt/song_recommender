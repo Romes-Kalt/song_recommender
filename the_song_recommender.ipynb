{
 "cells": [
  {
   "cell_type": "code",
   "execution_count": null,
   "id": "5c4130b0",
   "metadata": {},
   "outputs": [],
   "source": []
  },
  {
   "cell_type": "code",
   "execution_count": 1,
   "id": "e59371d5",
   "metadata": {},
   "outputs": [],
   "source": [
    "import spotipy \n",
    "import pandas as pd \n",
    "from spotipy.oauth2 import SpotifyClientCredentials\n",
    "import os\n",
    "import time\n",
    "import random\n",
    "import numpy as np\n",
    "import config\n",
    "import numpy as np\n",
    "import pandas as pd\n",
    "import pickle\n",
    "from sklearn import datasets\n",
    "from sklearn.preprocessing import StandardScaler\n",
    "from sklearn.cluster import KMeans\n",
    "from matplotlib import pyplot\n",
    "from sklearn.metrics import silhouette_score\n",
    "from IPython.display import IFrame\n",
    "import datetime as dt"
   ]
  },
  {
   "cell_type": "markdown",
   "id": "2ad6db36",
   "metadata": {},
   "source": [
    "<a id=\"functions\"></a>\n",
    "## 1. Functions"
   ]
  },
  {
   "cell_type": "markdown",
   "id": "ec3ac874",
   "metadata": {},
   "source": [
    "### 1.1 general"
   ]
  },
  {
   "cell_type": "code",
   "execution_count": 2,
   "id": "7c73767c",
   "metadata": {},
   "outputs": [],
   "source": [
    "def load_songs(fp:[str]=None):\n",
    "    if not fp:\n",
    "        print(\"No filepath provided\")\n",
    "        return None\n",
    "    try:\n",
    "        return pd.read_csv(fp, sep=\";\", error_bad_lines=False)\n",
    "    except FileNotFoundError:\n",
    "        print(\"File not found.\")\n",
    "        return None"
   ]
  },
  {
   "cell_type": "code",
   "execution_count": 3,
   "id": "5b33e290",
   "metadata": {},
   "outputs": [],
   "source": [
    "def load_pickle(fp:[str] = None): \n",
    "    if not fp:\n",
    "        print(\"no filepath provided.\")\n",
    "        return None\n",
    "    try: \n",
    "        with open(fp, \"rb\") as f: \n",
    "            return pickle.load(f) \n",
    "    except FileNotFoundError: \n",
    "        print(\"File not found!\")\n",
    "        return None"
   ]
  },
  {
   "cell_type": "markdown",
   "id": "1476feed",
   "metadata": {},
   "source": [
    "### 1.2 Billboard hot 100"
   ]
  },
  {
   "cell_type": "code",
   "execution_count": 45,
   "id": "a61b0555",
   "metadata": {},
   "outputs": [],
   "source": [
    "def check_last_update_hot100(fp:[str] = None):\n",
    "    if not fp:\n",
    "        print(\"no file path given\")\n",
    "        return\n",
    "    current_tuesday = \"1981_01_24\"\n",
    "    if dt.datetime.now().strftime('%A') != \"Tuesday\":\n",
    "        for d in range(1, 7):\n",
    "            if (dt.datetime.now() - dt.timedelta(d)).strftime(\"%A\") == \"Monday\":\n",
    "                current_tuesday = (dt.datetime.now() - dt.timedelta(d)).strftime(\"%Y_%m_%d\")\n",
    "    else:\n",
    "        current_tuesday = dt.datetime.now().strftime(\"%Y_%m_%d\")\n",
    "    mod_time_since_epoc = os.path.getmtime(fp)\n",
    "    # Convert seconds since epoch to readable timestamp\n",
    "    modification_time = time.strftime('%Y_%m_%d', time.localtime(mod_time_since_epoc))\n",
    "    if current_tuesday <= modification_time:\n",
    "        next_update = dt.datetime.strptime(modification_time, \"%Y_%m_%d\")+dt.timedelta(7)\n",
    "        print(f\"File is up to date (next update expected for {dt.datetime.strftime(next_update, '%d.%m.%Y')}).\")\n",
    "        return False"
   ]
  },
  {
   "cell_type": "code",
   "execution_count": 5,
   "id": "b46c5f73",
   "metadata": {},
   "outputs": [],
   "source": [
    "def update_billboard_hot100(fp:[str]=None):\n",
    "    if not fp:\n",
    "        print(\"no file path given\")\n",
    "        return\n",
    "    if not check_last_update_hot100(fp=fp):\n",
    "        if input(\"Update anyway (Y/n): \") == \"Y\":\n",
    "            get_billboard_hot100(save_to_csv=True, fp=fp)\n",
    "    else:\n",
    "        get_billboard_hot100(save_to_csv=True, fp=fp)"
   ]
  },
  {
   "cell_type": "code",
   "execution_count": 6,
   "id": "880fe1c6",
   "metadata": {},
   "outputs": [],
   "source": [
    "def get_billboard_hot100(save_to_csv:[bool]=False, fp:[str]=None):\n",
    "    \"\"\"visit website, scrape the hot 100 songs and artists and return it as df\"\"\"\n",
    "    response = requests.get(url=\"https://www.billboard.com/charts/hot-100/index.php\")\n",
    "    response.raise_for_status()\n",
    "    website = response.text                             # read out the html code as text\n",
    "    soup = bs4.BeautifulSoup(website, \"html.parser\")    # make soup\n",
    "    li_items = soup.select(\"li.lrv-u-width-100p\")\n",
    "    \n",
    "    songs = []\n",
    "    artists = []\n",
    "    for _ in range(len(li_items)):\n",
    "        if _ % 2 == 0:\n",
    "            this_scraped = li_items[_].get_text().replace(\"\\n\",\"_\")\n",
    "            this_entry = []\n",
    "            for c in this_scraped.split(\"_\"):\n",
    "                if c != \"\" and len(c) > 1:\n",
    "                    this_entry.append(c)\n",
    "                    if len(this_entry) == 2:\n",
    "                        break\n",
    "            songs.append(this_entry[0])\n",
    "            artists.append(this_entry[1])\n",
    "    if save_to_csv:\n",
    "        if fp:\n",
    "            try:\n",
    "                pd.DataFrame({\"song\":songs, \"artist\":artists}).to_csv(fp, index=False, mode=\"w+\", sep=\";\")\n",
    "            except PermissionError:\n",
    "                print(\"File already exists.\")\n",
    "        else:\n",
    "            print(\"No filepath given.\")\n",
    "    return pd.DataFrame({\"song\":songs, \"artist\":artists})"
   ]
  },
  {
   "cell_type": "code",
   "execution_count": 7,
   "id": "1dd412a1",
   "metadata": {},
   "outputs": [],
   "source": [
    "def find_song_or_artists(user_entry:[str]=None, fp:[str]=None):\n",
    "    if not fp:\n",
    "        print(\"no filepath given.\")\n",
    "        return \n",
    "    try:\n",
    "        music_df = pd.read_csv(fp, sep=\";\")\n",
    "    except FileNotFoundError:\n",
    "        print( \"file not found\")\n",
    "        return\n",
    "    else:   \n",
    "        song_lst = music_df[\"song\"].tolist()\n",
    "        artist_lst = music_df[\"artist\"].tolist()\n",
    "        hit_lst = []    # entries will be tuple in form (direct match: 0 or 1, \"s\"ong or \"a\"rtist, index in df)\n",
    "        for song in range(len(song_lst)):\n",
    "            if user_entry.lower() == song_lst[song].lower():\n",
    "                hit_lst.append((1, \"s\", song))\n",
    "            elif user_entry.lower() in song_lst[song].lower():\n",
    "                hit_lst.append((0, \"s\", song))\n",
    "        for artist in range(len(artist_lst)):\n",
    "            if user_entry.lower() == artist_lst[artist].lower():\n",
    "                hit_lst.append((1, \"a\", artist))\n",
    "            elif user_entry.lower() in artist_lst[artist].lower():\n",
    "                hit_lst.append((0, \"a\", artist))\n",
    "        return (hit_lst)"
   ]
  },
  {
   "cell_type": "code",
   "execution_count": 8,
   "id": "eecd9015",
   "metadata": {},
   "outputs": [],
   "source": [
    "def print_result(result_tup:[tuple] = None, fp:[str]=None):\n",
    "    if not fp:\n",
    "        print(\"no filepath given.\")\n",
    "        return \n",
    "    try:\n",
    "        music_df = pd.read_csv(fp, sep=\";\")\n",
    "    except FileNotFoundError:\n",
    "        print(\"file not found\")\n",
    "        return\n",
    "    else:\n",
    "        this_artist = music_df.iloc[result_tup[2]][\"artist\"]\n",
    "        this_song = music_df.iloc[result_tup[2]][\"song\"]\n",
    "        print(f\"{this_song} by {this_artist} on place {result_tup[2]+1}\")"
   ]
  },
  {
   "cell_type": "code",
   "execution_count": 9,
   "id": "41cbb483",
   "metadata": {},
   "outputs": [],
   "source": [
    "def return_random(this_rank:[int]=None, fp:[str]=None):\n",
    "    if not fp:\n",
    "        print(\"no filepath given.\")\n",
    "        return \n",
    "    if not this_rank:\n",
    "        print(\"no rank given\")\n",
    "        return\n",
    "    try:\n",
    "        music_df = pd.read_csv(fp, sep=\";\")\n",
    "    except FileNotFoundError:\n",
    "        print(\"file not found\")\n",
    "        return\n",
    "    else:\n",
    "        recom_index = random.randint(0,99)\n",
    "        while recom_index == this_rank:\n",
    "            recom_index = random.randint(0,99)\n",
    "        reco_artist = music_df.iloc[recom_index][\"artist\"]\n",
    "        reco_song = music_df.iloc[recom_index][\"song\"]\n",
    "        print(f\"Another entry from Billboard Hot 100 would be {reco_artist} with {reco_song} currently on place {recom_index +1}.\")"
   ]
  },
  {
   "cell_type": "code",
   "execution_count": 10,
   "id": "524a5161",
   "metadata": {},
   "outputs": [],
   "source": [
    "def user_search(fp:[str]=None):\n",
    "    if not fp:\n",
    "        print(\"no file path given\")\n",
    "        return\n",
    "    print(\"\\n*********************\")\n",
    "    print(\"* Billboard Hot 100 *\")\n",
    "    print(\"*********************\\n\")\n",
    "    user = input(\"What are you looking for? \")\n",
    "    results = find_song_or_artists(user, fp)\n",
    "    if results:\n",
    "        if len(results) == 1:\n",
    "            if results[0][0] == 1:\n",
    "                print(\"Direct Match:\\n\")\n",
    "                print_result(results[0],fp=fp)\n",
    "                print()\n",
    "                return_random(results[0][2], fp=fp)\n",
    "        else:\n",
    "            print(\"Partial Matches:\\n\")\n",
    "            for i in range(len(results)):\n",
    "                print(f\" + {i+1}: \",end=\"\")\n",
    "                print_result(results[i],fp=fp)\n",
    "            specify = 241\n",
    "            while 0 > int(specify) or int(specify) > len(results)+1:\n",
    "                specify = input(f\"Please specify your entry (1 to {i+1}): \")\n",
    "                if specify.isnumeric() == False:\n",
    "                    print(\"please check entry.\")\n",
    "                    specify = len(results)+2\n",
    "                if 0 > int(specify) > len(results)+1:\n",
    "                    print(\"please check entry.\")\n",
    "                    specify = len(results)+2\n",
    "            print(\" - - -\\nMatch:\")\n",
    "            print_result(results[int(specify)-1],fp=fp)\n",
    "            print()\n",
    "            return_random(results[int(specify)-1][2], fp=fp)\n",
    "    else:\n",
    "        print(\"\\nNo match found in current Billboard Hot 100.\")\n",
    "        return None"
   ]
  },
  {
   "cell_type": "code",
   "execution_count": null,
   "id": "5eb3cda5",
   "metadata": {},
   "outputs": [],
   "source": []
  },
  {
   "cell_type": "code",
   "execution_count": null,
   "id": "3e6d77ee",
   "metadata": {},
   "outputs": [],
   "source": []
  },
  {
   "cell_type": "code",
   "execution_count": null,
   "id": "32bbeb52",
   "metadata": {},
   "outputs": [],
   "source": []
  },
  {
   "cell_type": "code",
   "execution_count": null,
   "id": "7324c021",
   "metadata": {},
   "outputs": [],
   "source": []
  },
  {
   "cell_type": "markdown",
   "id": "fddb19d6",
   "metadata": {},
   "source": [
    "### 1.3 Song recommender Spotipy"
   ]
  },
  {
   "cell_type": "code",
   "execution_count": 11,
   "id": "f099f08f",
   "metadata": {},
   "outputs": [],
   "source": [
    "def user_input_get_features_old(this_df):\n",
    "    audio_feat = ['danceability', 'energy', 'key', 'loudness', 'speechiness', 'acousticness', 'instrumentalness',\n",
    "                  'liveness', 'valence', 'tempo', 'time_signature']\n",
    "    user_input = input(\"What song are you looking for? \")\n",
    "    song_hits = list(this_df[this_df[\"name\"].str.lower()==user_input.lower()][\"artist\"])\n",
    "    if song_hits:\n",
    "        if len(song_hits) == 1:\n",
    "            numpy_lst = []\n",
    "            for a_f in audio_feat:\n",
    "                numpy_lst.append(float(this_df[this_df[\"name\"].str.lower()==user_input.lower()][a_f]))\n",
    "            return np.array(numpy_lst).reshape(1,-1)\n",
    "        else:\n",
    "            print(f'Following artists found for \"{user_input}\":\\n ')\n",
    "            c = 0\n",
    "            for a in song_hits:\n",
    "                c += 1\n",
    "                print(f\" + {c}: {a}\")\n",
    "            print(\" -------\\n+ S: Search alternative on Spotify\")\n",
    "            user_choice = 241\n",
    "            while 0 > int(user_choice) or int(user_choice) > len(song_hits)+1:\n",
    "                user_choice = input(f\"Please specify your entry (1 to {len(song_hits)}): \")\n",
    "                if user_choice.lower() == \"s\":\n",
    "                    return get_unknown_song_array(user_input)\n",
    "                if user_choice.isnumeric() == False:\n",
    "                    print(\"please check entry.\")\n",
    "                    user_choice = len(song_hits)+2\n",
    "                if 0 > int(user_choice) > len(song_hits)+1:\n",
    "                    print(\"please check entry.\")\n",
    "            this_df_index = list(this_df[this_df[\"name\"].str.lower()==user_input.lower()].index)[int(user_choice)-1]\n",
    "            # print(df_.iloc[df_index][\"danceability\"])\n",
    "            numpy_lst = []\n",
    "            for a_f in audio_feat:\n",
    "                numpy_lst.append(float(this_df.iloc[this_df_index][a_f]))\n",
    "            return np.array(numpy_lst).reshape(1,-1)\n",
    "    else:\n",
    "        print(\"Song not found in local database, searching on Spotify.\")\n",
    "        return get_unknown_song_array(user_input)"
   ]
  },
  {
   "cell_type": "code",
   "execution_count": 12,
   "id": "359718a2",
   "metadata": {},
   "outputs": [],
   "source": [
    "def user_input_get_features(this_df):\n",
    "    audio_feat = ['danceability', 'energy', 'key', 'loudness', 'speechiness', 'acousticness', 'instrumentalness',\n",
    "                  'liveness', 'valence', 'tempo', 'time_signature']\n",
    "    user_input = input(\"What song are you looking for? \")\n",
    "    song_hits = list(this_df[this_df[\"name\"].str.lower()==user_input.lower()][\"artist\"])\n",
    "    if song_hits:\n",
    "        if len(song_hits) == 1:\n",
    "#             numpy_lst = []\n",
    "#             for a_f in audio_feat:\n",
    "#                 numpy_lst.append(float(this_df[this_df[\"name\"].str.lower()==user_input.lower()][a_f]))\n",
    "#             return np.array(numpy_lst).reshape(1,-1)\n",
    "            print(f'Following artist found for \"{user_input}\":\\n ')\n",
    "            print(f' + 1: {song_hits[0]}')\n",
    "            print(\" -------\\n+ S: Search alternative on Spotify\")\n",
    "        else:\n",
    "            print(f'Following artists found for \"{user_input}\":\\n ')\n",
    "            c = 0\n",
    "            for a in song_hits:\n",
    "                c += 1\n",
    "                print(f\" + {c}: {a}\")\n",
    "            print(\" -------\\n+ S: Search alternative on Spotify\")\n",
    "        user_choice = 241\n",
    "        while 0 > int(user_choice) or int(user_choice) > len(song_hits)+1:\n",
    "            user_choice = input(f\"Please specify your entry (1 to {len(song_hits)}): \")\n",
    "            if user_choice.lower() == \"s\":\n",
    "                return get_unknown_song_array(user_input)\n",
    "            if user_choice.isnumeric() == False:\n",
    "                print(\"please check entry.\")\n",
    "                user_choice = len(song_hits)+2\n",
    "            if 0 > int(user_choice) > len(song_hits)+1:\n",
    "                print(\"please check entry.\")\n",
    "        this_df_index = list(this_df[this_df[\"name\"].str.lower()==user_input.lower()].index)[int(user_choice)-1]\n",
    "        # print(df_.iloc[df_index][\"danceability\"])\n",
    "        numpy_lst = []\n",
    "        for a_f in audio_feat:\n",
    "            numpy_lst.append(float(this_df.iloc[this_df_index][a_f]))\n",
    "        return np.array(numpy_lst).reshape(1,-1)\n",
    "    else:\n",
    "        print(\"Song not found in local database, searching on Spotify.\")\n",
    "        return get_unknown_song_array(user_input)"
   ]
  },
  {
   "cell_type": "code",
   "execution_count": 13,
   "id": "d4d4a1b3",
   "metadata": {},
   "outputs": [],
   "source": [
    "def get_unknown_song_array(this_song:[str]=None):\n",
    "    if not this_song:\n",
    "        print(\"no song provided.\")\n",
    "        return None\n",
    "    x=sp.search(this_song, limit=15)\n",
    "    if not x[\"tracks\"][\"items\"]:\n",
    "        print(\"song is not on spotify.\")\n",
    "        return None\n",
    "    if len(x[\"tracks\"][\"items\"]) == 1:\n",
    "        pass\n",
    "    else:\n",
    "        artists_of_this_song = []\n",
    "        for _ in range(len(x[\"tracks\"][\"items\"])):\n",
    "            artists_of_this_song.append(x[\"tracks\"][\"items\"][_][\"artists\"][0][\"name\"])\n",
    "        # artists_of_this_song = sorted(set(artists_of_this_song), key=lambda x: x.lower())\n",
    "        print(f'Following artists found for \"{this_song}\":\\n ')\n",
    "        c = 0\n",
    "        for a in artists_of_this_song:\n",
    "            c += 1\n",
    "            print(f\" + {c}: {a}\")\n",
    "        user_choice = 241\n",
    "        while 0 > int(user_choice) or int(user_choice) > len(artists_of_this_song) + 1:\n",
    "            user_choice = input(f\"Please specify your entry (1 to {len(artists_of_this_song)}): \")\n",
    "            if user_choice.isnumeric() == False:\n",
    "                print(\"please check entry.\")\n",
    "                user_choice = len(artists_of_this_song) + 2   # +2 to create a wrong int and run another while loop \n",
    "            if 0 > int(user_choice) > len(song_hits) + 1:\n",
    "                print(\"please check entry.\")\n",
    "        # print((x[\"tracks\"][\"items\"][int(user_choice)-1][\"artists\"][0][\"name\"]))\n",
    "        song_info=sp.audio_features([x[\"tracks\"][\"items\"][int(user_choice)-1][\"id\"]])\n",
    "        remove_list = ['mode', 'duration_ms', 'id', 'type', 'uri', 'track_href', 'analysis_url'] #remove features not used in the model\n",
    "        [song_info[0].pop(key) for key in remove_list] \n",
    "        song_list=list(song_info[0].values())\n",
    "        song_list\n",
    "        song_array = np.array(song_list).reshape(1, -1)\n",
    "        song_array\n",
    "        return song_array"
   ]
  },
  {
   "cell_type": "code",
   "execution_count": 14,
   "id": "9c2cc4df",
   "metadata": {},
   "outputs": [],
   "source": [
    "def get_random_song_cluster(this_df, this_song_array):\n",
    "    X = song_df.drop(['id', 'length','name', 'album','artist','release_date', 'type', 'mode', 'popularity', \"cluster\"], axis=1) \n",
    "    scaler = load_pickle(\"Model/scaler.pickle\")\n",
    "    kmeans = load_pickle(\"Model/kmeans_14.pickle\")\n",
    "    scaled_song = scaler.transform(this_song_array)\n",
    "    cluster_pred = kmeans.predict(scaled_song)[0]\n",
    "    print(\"cluster:\", cluster_pred)\n",
    "    index_song = this_df[this_df['cluster'] == cluster_pred].sample().index[0]\n",
    "    id_song = this_df.iloc[index_song]['id']\n",
    "    return print(f\"{sp.track(id_song)['name']} by {sp.track(id_song)['artists'][0]['name']} (Spotify ID: {id_song})\")"
   ]
  },
  {
   "cell_type": "code",
   "execution_count": 15,
   "id": "9fb49484",
   "metadata": {},
   "outputs": [],
   "source": [
    "def add_cluster_column_to_song_df(this_df):\n",
    "    # load model and cluster songs, add cluster column to df\n",
    "    X = this_df.drop(['id', 'length','name', 'album','artist','release_date', 'type', 'mode', 'popularity'], axis=1) \n",
    "    \n",
    "    scaler = StandardScaler()\n",
    "    scaler.fit(X)\n",
    "    X_scaled = scaler.transform(X)\n",
    "    X_scaled_df = pd.DataFrame(X_scaled, columns = X.columns)\n",
    "    \n",
    "    kmeans = KMeans(n_clusters=14, random_state=42)\n",
    "    kmeans.fit(X_scaled_df)\n",
    "    \n",
    "    clusters = kmeans.predict(X_scaled_df)\n",
    "    #clusters\n",
    "    pd.Series(clusters).value_counts().sort_index()\n",
    "    this_df[\"cluster\"] = clusters\n",
    "    return this_df"
   ]
  },
  {
   "cell_type": "code",
   "execution_count": 16,
   "id": "87f0821d",
   "metadata": {},
   "outputs": [],
   "source": [
    "# song_df"
   ]
  },
  {
   "cell_type": "code",
   "execution_count": 17,
   "id": "fefdd926",
   "metadata": {},
   "outputs": [],
   "source": [
    "def sample_clusters(this_df, num_of_samples:[int]=1):\n",
    "    \"\"\"TODO: number of cluster check\"\"\"\n",
    "    for _ in range(10):\n",
    "        this_song = song_df[song_df.cluster == _][[\"artist\",\"name\"]].sample()\n",
    "        print(f\"Cluster {_}\")\n",
    "        print(this_song)\n",
    "    "
   ]
  },
  {
   "cell_type": "code",
   "execution_count": null,
   "id": "114a5da7",
   "metadata": {},
   "outputs": [],
   "source": []
  },
  {
   "cell_type": "code",
   "execution_count": null,
   "id": "e5b7e0fe",
   "metadata": {},
   "outputs": [],
   "source": []
  },
  {
   "cell_type": "code",
   "execution_count": null,
   "id": "08cefde2",
   "metadata": {},
   "outputs": [],
   "source": []
  },
  {
   "cell_type": "markdown",
   "id": "5a9fc5d7",
   "metadata": {},
   "source": [
    "<a id=\"set_up\"></a>\n",
    "## 2. SET UP"
   ]
  },
  {
   "cell_type": "code",
   "execution_count": 18,
   "id": "ccc7bbac",
   "metadata": {},
   "outputs": [],
   "source": [
    "# create spotipy object\n",
    "sp = spotipy.Spotify(auth_manager=SpotifyClientCredentials(config.c_id, config.c_se))"
   ]
  },
  {
   "cell_type": "code",
   "execution_count": 19,
   "id": "70a3b713",
   "metadata": {},
   "outputs": [],
   "source": [
    "# load song DataFrame\n",
    "song_df = pd.read_csv(\"data/new_song_db.csv\", sep=\";\")   #  cleaned csv does not need: , error_bad_lines=False)\n"
   ]
  },
  {
   "cell_type": "code",
   "execution_count": 20,
   "id": "8cfe12e8",
   "metadata": {},
   "outputs": [],
   "source": [
    "song_df = add_cluster_column_to_song_df(song_df)"
   ]
  },
  {
   "cell_type": "code",
   "execution_count": 21,
   "id": "54e39c24",
   "metadata": {},
   "outputs": [
    {
     "data": {
      "text/plain": [
       "3     8489\n",
       "0     7746\n",
       "6     7449\n",
       "11    6491\n",
       "2     6055\n",
       "7     4979\n",
       "5     4653\n",
       "1     4383\n",
       "12    3157\n",
       "8     2323\n",
       "13    2136\n",
       "4     2077\n",
       "9      350\n",
       "10     293\n",
       "Name: cluster, dtype: int64"
      ]
     },
     "execution_count": 21,
     "metadata": {},
     "output_type": "execute_result"
    }
   ],
   "source": [
    "song_df[\"cluster\"].value_counts()"
   ]
  },
  {
   "cell_type": "code",
   "execution_count": 44,
   "id": "8d31a13b",
   "metadata": {},
   "outputs": [
    {
     "name": "stdout",
     "output_type": "stream",
     "text": [
      "1981_01_24\n",
      "File is up to date (next update expected for 22.02.2022).\n",
      "Update anyway (Y/n): n\n"
     ]
    }
   ],
   "source": [
    "# Update Billboard Hot 100\n",
    "fp_billbo_hot100 = (\"./data//billboard_hot100.csv\")\n",
    "update_billboard_hot100(fp_billbo_hot100)\n"
   ]
  },
  {
   "cell_type": "markdown",
   "id": "8da3b477",
   "metadata": {},
   "source": [
    "<a id=\"song_recommender\"></a>\n",
    "## 3. SONG RECOMMENDER"
   ]
  },
  {
   "cell_type": "code",
   "execution_count": 41,
   "id": "b616a772",
   "metadata": {},
   "outputs": [
    {
     "name": "stdout",
     "output_type": "stream",
     "text": [
      "Start new song search (y/n): y\n",
      "\n",
      "*********************\n",
      "* Billboard Hot 100 *\n",
      "*********************\n",
      "\n",
      "What are you looking for? You Should Proba\n"
     ]
    },
    {
     "ename": "KeyboardInterrupt",
     "evalue": "Interrupted by user",
     "output_type": "error",
     "traceback": [
      "\u001b[1;31m---------------------------------------------------------------------------\u001b[0m",
      "\u001b[1;31mKeyboardInterrupt\u001b[0m                         Traceback (most recent call last)",
      "\u001b[1;32m~\\AppData\\Local\\Temp/ipykernel_11024/3562493369.py\u001b[0m in \u001b[0;36m<module>\u001b[1;34m\u001b[0m\n\u001b[0;32m      5\u001b[0m         \u001b[0muser_search\u001b[0m\u001b[1;33m(\u001b[0m\u001b[0mfp_billbo_hot100\u001b[0m\u001b[1;33m)\u001b[0m\u001b[1;33m\u001b[0m\u001b[1;33m\u001b[0m\u001b[0m\n\u001b[0;32m      6\u001b[0m         \u001b[0mfirst_round\u001b[0m \u001b[1;33m=\u001b[0m \u001b[1;32mFalse\u001b[0m\u001b[1;33m\u001b[0m\u001b[1;33m\u001b[0m\u001b[0m\n\u001b[1;32m----> 7\u001b[1;33m         \u001b[1;32mif\u001b[0m \u001b[0minput\u001b[0m\u001b[1;33m(\u001b[0m\u001b[1;34m\"\\n\\n Start song recommendation with help of spotify? (y/n) \"\u001b[0m\u001b[1;33m)\u001b[0m\u001b[1;33m.\u001b[0m\u001b[0mlower\u001b[0m\u001b[1;33m(\u001b[0m\u001b[1;33m)\u001b[0m \u001b[1;33m!=\u001b[0m \u001b[1;34m\"n\"\u001b[0m\u001b[1;33m:\u001b[0m\u001b[1;33m\u001b[0m\u001b[1;33m\u001b[0m\u001b[0m\n\u001b[0m\u001b[0;32m      8\u001b[0m             \u001b[0msong_array\u001b[0m \u001b[1;33m=\u001b[0m \u001b[0muser_input_get_features\u001b[0m\u001b[1;33m(\u001b[0m\u001b[0msong_df\u001b[0m\u001b[1;33m)\u001b[0m\u001b[1;33m\u001b[0m\u001b[1;33m\u001b[0m\u001b[0m\n\u001b[0;32m      9\u001b[0m             \u001b[0mget_random_song_cluster\u001b[0m\u001b[1;33m(\u001b[0m\u001b[0msong_df\u001b[0m\u001b[1;33m,\u001b[0m \u001b[0msong_array\u001b[0m\u001b[1;33m)\u001b[0m\u001b[1;33m\u001b[0m\u001b[1;33m\u001b[0m\u001b[0m\n",
      "\u001b[1;32m~\\Python\\anaconda\\envs\\DA_Env\\lib\\site-packages\\ipykernel\\kernelbase.py\u001b[0m in \u001b[0;36mraw_input\u001b[1;34m(self, prompt)\u001b[0m\n\u001b[0;32m   1005\u001b[0m                 \u001b[1;34m\"raw_input was called, but this frontend does not support input requests.\"\u001b[0m\u001b[1;33m\u001b[0m\u001b[1;33m\u001b[0m\u001b[0m\n\u001b[0;32m   1006\u001b[0m             )\n\u001b[1;32m-> 1007\u001b[1;33m         return self._input_request(\n\u001b[0m\u001b[0;32m   1008\u001b[0m             \u001b[0mstr\u001b[0m\u001b[1;33m(\u001b[0m\u001b[0mprompt\u001b[0m\u001b[1;33m)\u001b[0m\u001b[1;33m,\u001b[0m\u001b[1;33m\u001b[0m\u001b[1;33m\u001b[0m\u001b[0m\n\u001b[0;32m   1009\u001b[0m             \u001b[0mself\u001b[0m\u001b[1;33m.\u001b[0m\u001b[0m_parent_ident\u001b[0m\u001b[1;33m[\u001b[0m\u001b[1;34m\"shell\"\u001b[0m\u001b[1;33m]\u001b[0m\u001b[1;33m,\u001b[0m\u001b[1;33m\u001b[0m\u001b[1;33m\u001b[0m\u001b[0m\n",
      "\u001b[1;32m~\\Python\\anaconda\\envs\\DA_Env\\lib\\site-packages\\ipykernel\\kernelbase.py\u001b[0m in \u001b[0;36m_input_request\u001b[1;34m(self, prompt, ident, parent, password)\u001b[0m\n\u001b[0;32m   1050\u001b[0m             \u001b[1;32mexcept\u001b[0m \u001b[0mKeyboardInterrupt\u001b[0m\u001b[1;33m:\u001b[0m\u001b[1;33m\u001b[0m\u001b[1;33m\u001b[0m\u001b[0m\n\u001b[0;32m   1051\u001b[0m                 \u001b[1;31m# re-raise KeyboardInterrupt, to truncate traceback\u001b[0m\u001b[1;33m\u001b[0m\u001b[1;33m\u001b[0m\u001b[0m\n\u001b[1;32m-> 1052\u001b[1;33m                 \u001b[1;32mraise\u001b[0m \u001b[0mKeyboardInterrupt\u001b[0m\u001b[1;33m(\u001b[0m\u001b[1;34m\"Interrupted by user\"\u001b[0m\u001b[1;33m)\u001b[0m \u001b[1;32mfrom\u001b[0m \u001b[1;32mNone\u001b[0m\u001b[1;33m\u001b[0m\u001b[1;33m\u001b[0m\u001b[0m\n\u001b[0m\u001b[0;32m   1053\u001b[0m             \u001b[1;32mexcept\u001b[0m \u001b[0mException\u001b[0m\u001b[1;33m:\u001b[0m\u001b[1;33m\u001b[0m\u001b[1;33m\u001b[0m\u001b[0m\n\u001b[0;32m   1054\u001b[0m                 \u001b[0mself\u001b[0m\u001b[1;33m.\u001b[0m\u001b[0mlog\u001b[0m\u001b[1;33m.\u001b[0m\u001b[0mwarning\u001b[0m\u001b[1;33m(\u001b[0m\u001b[1;34m\"Invalid Message:\"\u001b[0m\u001b[1;33m,\u001b[0m \u001b[0mexc_info\u001b[0m\u001b[1;33m=\u001b[0m\u001b[1;32mTrue\u001b[0m\u001b[1;33m)\u001b[0m\u001b[1;33m\u001b[0m\u001b[1;33m\u001b[0m\u001b[0m\n",
      "\u001b[1;31mKeyboardInterrupt\u001b[0m: Interrupted by user"
     ]
    }
   ],
   "source": [
    "first_round = True\n",
    "while input(\"Start new song search (y/n): \").lower() != \"n\":\n",
    "    if first_round:\n",
    "        fp_billbo_hot100 = (\"data/billboard_hot100.csv\")\n",
    "        user_search(fp_billbo_hot100)\n",
    "        first_round = False\n",
    "        if input(\"\\n\\n Start song recommendation with help of spotify? (y/n) \").lower() != \"n\":\n",
    "            song_array = user_input_get_features(song_df)\n",
    "            get_random_song_cluster(song_df, song_array)\n",
    "    else:\n",
    "        song_array = user_input_get_features(song_df)\n",
    "        get_random_song_cluster(song_df, song_array)\n",
    "        \n",
    "    "
   ]
  },
  {
   "cell_type": "code",
   "execution_count": null,
   "id": "6ac879b7",
   "metadata": {},
   "outputs": [],
   "source": [
    "track_id = \"4D9S99PiDD7HfzGr2Tfmaf\"\n",
    "IFrame(src=\"https://open.spotify.com/embed/track/\"+track_id,\n",
    "       width=\"320\",\n",
    "       height=\"80\",\n",
    "       frameborder=\"0\",\n",
    "       allowtransparency=\"true\",\n",
    "       allow=\"encrypted-media\",\n",
    "      )"
   ]
  },
  {
   "cell_type": "code",
   "execution_count": null,
   "id": "d673f3b7",
   "metadata": {},
   "outputs": [],
   "source": []
  },
  {
   "cell_type": "code",
   "execution_count": 31,
   "id": "6ddea7b0",
   "metadata": {},
   "outputs": [
    {
     "data": {
      "text/plain": [
       "60506"
      ]
     },
     "execution_count": 31,
     "metadata": {},
     "output_type": "execute_result"
    }
   ],
   "source": [
    "len(song_df)"
   ]
  },
  {
   "cell_type": "code",
   "execution_count": null,
   "id": "52669fa3",
   "metadata": {},
   "outputs": [],
   "source": []
  },
  {
   "cell_type": "code",
   "execution_count": null,
   "id": "93f68c82",
   "metadata": {},
   "outputs": [],
   "source": []
  },
  {
   "cell_type": "code",
   "execution_count": null,
   "id": "5f6c044d",
   "metadata": {},
   "outputs": [],
   "source": []
  },
  {
   "cell_type": "code",
   "execution_count": null,
   "id": "0e2c6469",
   "metadata": {},
   "outputs": [],
   "source": []
  },
  {
   "cell_type": "code",
   "execution_count": null,
   "id": "6a75b12a",
   "metadata": {},
   "outputs": [],
   "source": []
  },
  {
   "cell_type": "code",
   "execution_count": null,
   "id": "7c4f1c93",
   "metadata": {},
   "outputs": [],
   "source": []
  },
  {
   "cell_type": "code",
   "execution_count": null,
   "id": "eaa73b74",
   "metadata": {},
   "outputs": [],
   "source": []
  },
  {
   "cell_type": "code",
   "execution_count": null,
   "id": "37ad6286",
   "metadata": {},
   "outputs": [],
   "source": []
  },
  {
   "cell_type": "code",
   "execution_count": 28,
   "id": "4c59533f",
   "metadata": {},
   "outputs": [],
   "source": [
    "# Die drei !!!"
   ]
  },
  {
   "cell_type": "code",
   "execution_count": 29,
   "id": "881ea3ad",
   "metadata": {},
   "outputs": [],
   "source": [
    "# song_df[song_df.artist == \"Bibi Blocksberg\"]"
   ]
  },
  {
   "cell_type": "code",
   "execution_count": 26,
   "id": "d34655b7",
   "metadata": {},
   "outputs": [],
   "source": [
    "song_df = song_df[song_df.artist != \"Die drei !!!\"]"
   ]
  },
  {
   "cell_type": "code",
   "execution_count": null,
   "id": "334d10b3",
   "metadata": {},
   "outputs": [],
   "source": []
  },
  {
   "cell_type": "code",
   "execution_count": null,
   "id": "d18a7885",
   "metadata": {},
   "outputs": [],
   "source": []
  },
  {
   "cell_type": "code",
   "execution_count": null,
   "id": "aac5952c",
   "metadata": {},
   "outputs": [],
   "source": []
  },
  {
   "cell_type": "code",
   "execution_count": 30,
   "id": "c658bb1a",
   "metadata": {},
   "outputs": [
    {
     "data": {
      "text/html": [
       "\n",
       "        <iframe\n",
       "            width=\"320\"\n",
       "            height=\"80\"\n",
       "            src=\"https://open.spotify.com/embed/track/1MSNfqOWHPcxzXz2Kw2W0o?frameborder=0&allowtransparency=true&allow=encrypted-media\"\n",
       "            frameborder=\"0\"\n",
       "            allowfullscreen\n",
       "            \n",
       "        ></iframe>\n",
       "        "
      ],
      "text/plain": [
       "<IPython.lib.display.IFrame at 0x2865e8b5880>"
      ]
     },
     "execution_count": 30,
     "metadata": {},
     "output_type": "execute_result"
    }
   ],
   "source": [
    "\n",
    "track_id = \"1MSNfqOWHPcxzXz2Kw2W0o\"\n",
    "IFrame(src=\"https://open.spotify.com/embed/track/\"+track_id,\n",
    "       width=\"320\",\n",
    "       height=\"80\",\n",
    "       frameborder=\"0\",\n",
    "       allowtransparency=\"true\",\n",
    "       allow=\"encrypted-media\",\n",
    "      )"
   ]
  },
  {
   "cell_type": "code",
   "execution_count": null,
   "id": "2df58604",
   "metadata": {},
   "outputs": [],
   "source": []
  },
  {
   "cell_type": "code",
   "execution_count": null,
   "id": "a3024edb",
   "metadata": {},
   "outputs": [],
   "source": []
  },
  {
   "cell_type": "code",
   "execution_count": null,
   "id": "dde35e68",
   "metadata": {},
   "outputs": [],
   "source": []
  },
  {
   "cell_type": "code",
   "execution_count": null,
   "id": "20ade424",
   "metadata": {},
   "outputs": [],
   "source": []
  },
  {
   "cell_type": "code",
   "execution_count": null,
   "id": "055c9322",
   "metadata": {},
   "outputs": [],
   "source": []
  },
  {
   "cell_type": "code",
   "execution_count": null,
   "id": "3347013a",
   "metadata": {},
   "outputs": [],
   "source": []
  },
  {
   "cell_type": "code",
   "execution_count": null,
   "id": "78506b11",
   "metadata": {},
   "outputs": [],
   "source": []
  },
  {
   "cell_type": "code",
   "execution_count": null,
   "id": "e3600e31",
   "metadata": {},
   "outputs": [],
   "source": []
  },
  {
   "cell_type": "code",
   "execution_count": null,
   "id": "6023594d",
   "metadata": {},
   "outputs": [],
   "source": []
  },
  {
   "cell_type": "code",
   "execution_count": null,
   "id": "ddeb6d98",
   "metadata": {},
   "outputs": [],
   "source": []
  },
  {
   "cell_type": "code",
   "execution_count": null,
   "id": "e63348cb",
   "metadata": {},
   "outputs": [],
   "source": []
  },
  {
   "cell_type": "code",
   "execution_count": null,
   "id": "60800a92",
   "metadata": {},
   "outputs": [],
   "source": []
  },
  {
   "cell_type": "code",
   "execution_count": null,
   "id": "edd3ab42",
   "metadata": {},
   "outputs": [],
   "source": []
  },
  {
   "cell_type": "code",
   "execution_count": null,
   "id": "98cd756e",
   "metadata": {},
   "outputs": [],
   "source": []
  },
  {
   "cell_type": "code",
   "execution_count": null,
   "id": "55ded847",
   "metadata": {},
   "outputs": [],
   "source": []
  },
  {
   "cell_type": "code",
   "execution_count": null,
   "id": "5aa19cf0",
   "metadata": {},
   "outputs": [],
   "source": []
  },
  {
   "cell_type": "code",
   "execution_count": null,
   "id": "b0754c20",
   "metadata": {},
   "outputs": [],
   "source": []
  },
  {
   "cell_type": "code",
   "execution_count": null,
   "id": "933c2293",
   "metadata": {},
   "outputs": [],
   "source": []
  },
  {
   "cell_type": "code",
   "execution_count": null,
   "id": "9270345a",
   "metadata": {},
   "outputs": [],
   "source": []
  },
  {
   "cell_type": "code",
   "execution_count": null,
   "id": "9cf1f853",
   "metadata": {},
   "outputs": [],
   "source": []
  },
  {
   "cell_type": "code",
   "execution_count": null,
   "id": "cbc28142",
   "metadata": {},
   "outputs": [],
   "source": []
  },
  {
   "cell_type": "code",
   "execution_count": null,
   "id": "492919a0",
   "metadata": {},
   "outputs": [],
   "source": []
  },
  {
   "cell_type": "code",
   "execution_count": null,
   "id": "f86e9d7e",
   "metadata": {},
   "outputs": [],
   "source": []
  },
  {
   "cell_type": "code",
   "execution_count": null,
   "id": "492c8d20",
   "metadata": {},
   "outputs": [],
   "source": []
  },
  {
   "cell_type": "code",
   "execution_count": null,
   "id": "ae0b4ca4",
   "metadata": {},
   "outputs": [],
   "source": []
  },
  {
   "cell_type": "code",
   "execution_count": null,
   "id": "153211f4",
   "metadata": {},
   "outputs": [],
   "source": []
  },
  {
   "cell_type": "code",
   "execution_count": null,
   "id": "b41d35bd",
   "metadata": {},
   "outputs": [],
   "source": []
  },
  {
   "cell_type": "code",
   "execution_count": null,
   "id": "c9c649e4",
   "metadata": {},
   "outputs": [],
   "source": []
  },
  {
   "cell_type": "code",
   "execution_count": null,
   "id": "fd3dd125",
   "metadata": {},
   "outputs": [],
   "source": []
  },
  {
   "cell_type": "code",
   "execution_count": null,
   "id": "14316e9e",
   "metadata": {},
   "outputs": [],
   "source": []
  },
  {
   "cell_type": "code",
   "execution_count": null,
   "id": "0af465ce",
   "metadata": {},
   "outputs": [],
   "source": []
  },
  {
   "cell_type": "code",
   "execution_count": null,
   "id": "c8f3cdb1",
   "metadata": {},
   "outputs": [],
   "source": []
  },
  {
   "cell_type": "code",
   "execution_count": null,
   "id": "e7343d39",
   "metadata": {},
   "outputs": [],
   "source": []
  },
  {
   "cell_type": "code",
   "execution_count": null,
   "id": "a0e85b7b",
   "metadata": {},
   "outputs": [],
   "source": []
  },
  {
   "cell_type": "code",
   "execution_count": null,
   "id": "99a4dc65",
   "metadata": {},
   "outputs": [],
   "source": []
  },
  {
   "cell_type": "code",
   "execution_count": null,
   "id": "bc49edf0",
   "metadata": {},
   "outputs": [],
   "source": []
  },
  {
   "cell_type": "code",
   "execution_count": null,
   "id": "650c938a",
   "metadata": {},
   "outputs": [],
   "source": []
  },
  {
   "cell_type": "code",
   "execution_count": null,
   "id": "c6adaaf6",
   "metadata": {},
   "outputs": [],
   "source": []
  }
 ],
 "metadata": {
  "kernelspec": {
   "display_name": "Python 3 (ipykernel)",
   "language": "python",
   "name": "python3"
  },
  "language_info": {
   "codemirror_mode": {
    "name": "ipython",
    "version": 3
   },
   "file_extension": ".py",
   "mimetype": "text/x-python",
   "name": "python",
   "nbconvert_exporter": "python",
   "pygments_lexer": "ipython3",
   "version": "3.9.7"
  },
  "toc": {
   "base_numbering": 1,
   "nav_menu": {},
   "number_sections": true,
   "sideBar": true,
   "skip_h1_title": false,
   "title_cell": "Table of Contents",
   "title_sidebar": "Contents",
   "toc_cell": false,
   "toc_position": {
    "height": "calc(100% - 180px)",
    "left": "10px",
    "top": "150px",
    "width": "426.667px"
   },
   "toc_section_display": true,
   "toc_window_display": true
  },
  "varInspector": {
   "cols": {
    "lenName": 16,
    "lenType": 16,
    "lenVar": 40
   },
   "kernels_config": {
    "python": {
     "delete_cmd_postfix": "",
     "delete_cmd_prefix": "del ",
     "library": "var_list.py",
     "varRefreshCmd": "print(var_dic_list())"
    },
    "r": {
     "delete_cmd_postfix": ") ",
     "delete_cmd_prefix": "rm(",
     "library": "var_list.r",
     "varRefreshCmd": "cat(var_dic_list()) "
    }
   },
   "types_to_exclude": [
    "module",
    "function",
    "builtin_function_or_method",
    "instance",
    "_Feature"
   ],
   "window_display": false
  }
 },
 "nbformat": 4,
 "nbformat_minor": 5
}
